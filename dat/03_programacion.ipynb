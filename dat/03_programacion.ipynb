{
 "cells": [
  {
   "cell_type": "markdown",
   "metadata": {
    "collapsed": true
   },
   "source": [
    "# Introducción a la programación en Python\n",
    "\n",
    "Python es un lenguaje de programación. En los _notebooks_ previos, casi todo el trabajo que hemos realizado es prácticamente interactivo, aunque en un par de ocasiones nos hemos visto obligados a utilizar funciones o bucles.\n",
    "\n",
    "En este _notebook_ aprenderemos los rudimentos de la programación en Python, comenzando con tipos de datos y terminando con la definición de funciones simples."
   ]
  },
  {
   "cell_type": "code",
   "execution_count": 15,
   "metadata": {},
   "outputs": [],
   "source": [
    "import pandas as pd"
   ]
  },
  {
   "cell_type": "markdown",
   "metadata": {},
   "source": [
    "## Tipos de datos"
   ]
  },
  {
   "cell_type": "markdown",
   "metadata": {},
   "source": [
    "### _Strings_\n",
    "\n",
    "Vamos a ver una serie de funciones útiles para operar con _strings_, i.e., texto, en Python. Las operaciones básicas con cadenas son las de concatenar, partir en _tokens_, buscar y reemplazar.\n",
    "\n",
    "Las operaciones con cadenas de texto en Python son similares a las de otros lenguajes de programación."
   ]
  },
  {
   "cell_type": "markdown",
   "metadata": {},
   "source": [
    "`len()` nos devuelve la longitud (número de caracteres) de la cadena de texto:"
   ]
  },
  {
   "cell_type": "code",
   "execution_count": 1,
   "metadata": {},
   "outputs": [
    {
     "data": {
      "text/plain": [
       "6"
      ]
     },
     "execution_count": 1,
     "metadata": {},
     "output_type": "execute_result"
    }
   ],
   "source": [
    "len('Python')"
   ]
  },
  {
   "cell_type": "markdown",
   "metadata": {},
   "source": [
    "Las cadenas de texto también se pueden _seccionar_ usando los corchetes:"
   ]
  },
  {
   "cell_type": "code",
   "execution_count": 2,
   "metadata": {},
   "outputs": [
    {
     "data": {
      "text/plain": [
       "'th'"
      ]
     },
     "execution_count": 2,
     "metadata": {},
     "output_type": "execute_result"
    }
   ],
   "source": [
    "a = 'Python'\n",
    "b = a[2:4]\n",
    "b"
   ]
  },
  {
   "cell_type": "markdown",
   "metadata": {},
   "source": [
    "Para separar una cadena por uno o varios caracteres, creando una lista con el resultado, usamos `split()`"
   ]
  },
  {
   "cell_type": "code",
   "execution_count": 2,
   "metadata": {
    "scrolled": true
   },
   "outputs": [
    {
     "data": {
      "text/plain": [
       "['analista', 'consultor informático', 'jefe de proyecto']"
      ]
     },
     "execution_count": 2,
     "metadata": {},
     "output_type": "execute_result"
    }
   ],
   "source": [
    "profesiones = 'analista,consultor informático,jefe de proyecto'.split(',')\n",
    "profesiones"
   ]
  },
  {
   "cell_type": "markdown",
   "metadata": {},
   "source": [
    "La operación complementaria a `split()` es `join()`, que une los elementos de una lista en una cadena de texto"
   ]
  },
  {
   "cell_type": "code",
   "execution_count": 3,
   "metadata": {},
   "outputs": [
    {
     "data": {
      "text/plain": [
       "'analista,consultor informático,jefe de proyecto'"
      ]
     },
     "execution_count": 3,
     "metadata": {},
     "output_type": "execute_result"
    }
   ],
   "source": [
    "','.join(profesiones)"
   ]
  },
  {
   "cell_type": "markdown",
   "metadata": {},
   "source": [
    "Aunque también se puede concatenar usando `+` entre dos cadenas de texto:"
   ]
  },
  {
   "cell_type": "code",
   "execution_count": null,
   "metadata": {},
   "outputs": [],
   "source": [
    "my_file = 'procesar.py'\n",
    "print('Error en el programa ' + my_file)"
   ]
  },
  {
   "cell_type": "markdown",
   "metadata": {},
   "source": [
    "**Nota:** si usas `+` entre una cadena de texto y un tipo diferente de dato, fallará. Por ejemplo, `3 + ' €'` es incorrecto. En su lugar, convierte el tipo de dato antes, haciendo: `str(3) + ' €'`."
   ]
  },
  {
   "cell_type": "markdown",
   "metadata": {},
   "source": [
    "`strip()` elimina espacios en blanco delante y detrás"
   ]
  },
  {
   "cell_type": "code",
   "execution_count": 7,
   "metadata": {},
   "outputs": [
    {
     "data": {
      "text/plain": [
       "'hola'"
      ]
     },
     "execution_count": 7,
     "metadata": {},
     "output_type": "execute_result"
    }
   ],
   "source": [
    "'    hola '.strip()"
   ]
  },
  {
   "cell_type": "markdown",
   "metadata": {},
   "source": [
    "`lower` y `upper` pasan todo a minúsculas o mayúsculas"
   ]
  },
  {
   "cell_type": "code",
   "execution_count": 6,
   "metadata": {},
   "outputs": [
    {
     "data": {
      "text/plain": [
       "'python'"
      ]
     },
     "execution_count": 6,
     "metadata": {},
     "output_type": "execute_result"
    }
   ],
   "source": [
    "'pyThon'.lower()"
   ]
  },
  {
   "cell_type": "markdown",
   "metadata": {},
   "source": [
    "Si tenemos una cadena de texto que puede ser transformada a entero, podemos usar `float()` para decimales e `int()` para enteros"
   ]
  },
  {
   "cell_type": "code",
   "execution_count": 8,
   "metadata": {},
   "outputs": [
    {
     "name": "stdout",
     "output_type": "stream",
     "text": [
      "3.1416 <class 'float'>\n"
     ]
    }
   ],
   "source": [
    "n = float('3.1416')\n",
    "print(n, type(n))"
   ]
  },
  {
   "cell_type": "code",
   "execution_count": 9,
   "metadata": {},
   "outputs": [
    {
     "name": "stdout",
     "output_type": "stream",
     "text": [
      "531 <class 'int'>\n"
     ]
    }
   ],
   "source": [
    "n = int('531')\n",
    "print(n, type(n))"
   ]
  },
  {
   "cell_type": "markdown",
   "metadata": {},
   "source": [
    "`replace()` sustituye trozos de cadenas por otros"
   ]
  },
  {
   "cell_type": "code",
   "execution_count": 10,
   "metadata": {},
   "outputs": [
    {
     "data": {
      "text/plain": [
       "'Hola paquito'"
      ]
     },
     "execution_count": 10,
     "metadata": {},
     "output_type": "execute_result"
    }
   ],
   "source": [
    "'Hola NOMBRE'.replace('NOMBRE', 'paquito')"
   ]
  },
  {
   "cell_type": "markdown",
   "metadata": {},
   "source": [
    "#### Ejercicio\n",
    "\n",
    "Sobre el siguiente DataFrame, crea dos columnas separadas, una para el importe (que sea float) y otra para la divisa (que sea cadena de texto)"
   ]
  },
  {
   "cell_type": "code",
   "execution_count": 24,
   "metadata": {},
   "outputs": [
    {
     "data": {
      "text/html": [
       "<div>\n",
       "<style scoped>\n",
       "    .dataframe tbody tr th:only-of-type {\n",
       "        vertical-align: middle;\n",
       "    }\n",
       "\n",
       "    .dataframe tbody tr th {\n",
       "        vertical-align: top;\n",
       "    }\n",
       "\n",
       "    .dataframe thead th {\n",
       "        text-align: right;\n",
       "    }\n",
       "</style>\n",
       "<table border=\"1\" class=\"dataframe\">\n",
       "  <thead>\n",
       "    <tr style=\"text-align: right;\">\n",
       "      <th></th>\n",
       "      <th>importe_divisa</th>\n",
       "    </tr>\n",
       "  </thead>\n",
       "  <tbody>\n",
       "    <tr>\n",
       "      <td>0</td>\n",
       "      <td>592,50 EUR</td>\n",
       "    </tr>\n",
       "    <tr>\n",
       "      <td>1</td>\n",
       "      <td>690,10 USD</td>\n",
       "    </tr>\n",
       "    <tr>\n",
       "      <td>2</td>\n",
       "      <td>2951 GBP</td>\n",
       "    </tr>\n",
       "  </tbody>\n",
       "</table>\n",
       "</div>"
      ],
      "text/plain": [
       "  importe_divisa\n",
       "0     592,50 EUR\n",
       "1     690,10 USD\n",
       "2       2951 GBP"
      ]
     },
     "execution_count": 24,
     "metadata": {},
     "output_type": "execute_result"
    }
   ],
   "source": [
    "\n",
    "importes = pd.DataFrame({'importe_divisa': ['592,50 EUR', '690,10 USD', '2951 GBP']})\n",
    "importes.head()"
   ]
  },
  {
   "cell_type": "code",
   "execution_count": 64,
   "metadata": {},
   "outputs": [
    {
     "data": {
      "text/plain": [
       "'592,50 EUR'"
      ]
     },
     "execution_count": 64,
     "metadata": {},
     "output_type": "execute_result"
    }
   ],
   "source": [
    "importes = pd.DataFrame({'importe_divisa': ['592,50 EUR', '690,10 USD', '2951 GBP']})\n",
    "importe_y_divisa = importes.importe_divisa.apply(lambda x : x.split(' '))\n",
    "importe = importe_y_divisa.apply(lambda x : float(x[0].replace(',','.')))\n",
    "divisa = importe_y_divisa.apply(lambda x : x[1].strip())\n",
    "importes['importe'] = importe\n",
    "importes['divisa'] = divisa\n",
    "importes.drop(columns = 'importe_divisa')\n",
    "importes\n",
    "\n",
    "# otra solucion\n",
    "importes['importe'] = importes.apply(lambda x: x.importe_divisa.split(' ')[0].replace(',','.'), axis=1)\n",
    "importes['divisa'] = importes.apply(lambda x: x.importe_divisa.split(' ')[1], axis=1)\n",
    "importes\n"
   ]
  },
  {
   "cell_type": "markdown",
   "metadata": {},
   "source": [
    "### Expresiones regulares\n",
    "\n",
    "Tanto en Python como en casi todos los lenguajes de programación, trabajar _en serio_ con cadenas de texto implica usar [_expresiones regulares_](https://es.wikipedia.org/wiki/Expresi%C3%B3n_regular). Las expresiones regulares permiten buscar patrones en texto, reemplazar y realizar muchas operaciones avanzadas sobre cadenas de caracteres.\n",
    "\n",
    "Consulta [esta guía](https://www.dataquest.io/blog/regex-cheatsheet/) acerca del uso de las expresiones regulares en Python."
   ]
  },
  {
   "cell_type": "markdown",
   "metadata": {},
   "source": [
    "#### Ejercicio\n",
    "\n",
    "Con expresiones regulares, realiza los siguientes ejercicios:\n",
    "\n",
    "Sobre la cadena `'30 del 04 para el 2018'`, extrae:\n",
    "\n",
    "* Todos los números de forma independiente. Es decir, resultará una lista con 3, 0, 0, 4, ...\n",
    "* Todos los números de forma consecutiva. Es decir, resultará una lista con 30, 04, 2018.\n",
    "* Extrae las palabras de `'30 del 04 para el 2018'`. Saldrá del, para, ...\n",
    "* Extrae el último número consecutivo. Saldrá 2018.\n",
    "* Transfórmala para convertirla a formato ISO (es decir, yyyy-mm-dd)"
   ]
  },
  {
   "cell_type": "code",
   "execution_count": 90,
   "metadata": {},
   "outputs": [
    {
     "data": {
      "text/plain": [
       "'2018'"
      ]
     },
     "execution_count": 90,
     "metadata": {},
     "output_type": "execute_result"
    }
   ],
   "source": [
    "import re\n",
    "# Todos los números de forma independiente.\n",
    "#cadena = '30 del 04 para el 2018'\n",
    "#regex = r'[0-9]'\n",
    "#re.findall(regex, cadena)\n",
    "# Todos los números de forma consecutiva. \n",
    "#cadena = '30 del 04 para el 2018'\n",
    "#regex = r'[0-9]+'\n",
    "#re.findall(regex, cadena)\n",
    "# Extrae las palabras de la cadena\n",
    "#cadena = '30 del 04 para el 2018'\n",
    "#regex = r'[a-zA-Z]+'\n",
    "#re.findall(regex, cadena)\n",
    "# Extrae el último número consecutivo. Saldrá 2018.\n",
    "#cadena = '30 del 04 para el 2018'\n",
    "#re.findall(r'[0-9]+$', cadena)\n",
    "cadena = '30 del 04 para el 2018 y ya'\n",
    "re.sub('^.*[^0-9]([0-9]+)[^0-9]*$', r'\\1', cadena)  # hacer pruebas con * o +"
   ]
  },
  {
   "cell_type": "code",
   "execution_count": null,
   "metadata": {},
   "outputs": [],
   "source": [
    "# Transfórmala para convertirla a formato ISO (es decir, yyyy-mm-dd)\n",
    "re.sub('([0-9]+) del ([0-9]+) para el ([0-9]+)', r'\\3-\\2-\\1', cadena)"
   ]
  },
  {
   "cell_type": "code",
   "execution_count": 94,
   "metadata": {},
   "outputs": [
    {
     "data": {
      "text/plain": [
       "'2018-04-30'"
      ]
     },
     "execution_count": 94,
     "metadata": {},
     "output_type": "execute_result"
    }
   ],
   "source": [
    "# Transfórmala para convertirla a formato ISO (es decir, yyyy-mm-dd)\n",
    "re.sub('([0-9]+)[^0-9]+([0-9]+)[^0-9]+([0-9]+)', r'\\3-\\2-\\1', '30 xx 04 sfds2018')"
   ]
  },
  {
   "cell_type": "code",
   "execution_count": null,
   "metadata": {},
   "outputs": [],
   "source": [
    "# re.sub se utiliza mucho para extraer una parte concreta de la regex\n",
    "# fíjate en el \\1: es el grupo, coincide con lo que ponemos entre ( ) en la regex\n",
    "re.sub(r'^[^A-Z]+([A-Z]+)$', r'\\1', '509EUR')"
   ]
  },
  {
   "cell_type": "markdown",
   "metadata": {},
   "source": [
    "### Listas\n",
    "\n",
    "Las listas son contenedores de valores. Pueden ser de diferentes tipos de dato, aunque generalmente se usan para \n",
    "datos homogéneos (p.e., una lista de números).\n",
    "\n",
    "Las operaciones que se realizan más habitualmente con listas son:\n",
    "\n",
    "* Extrer elementos (p.e., los 10 primeros o los 5 últimos).\n",
    "* Añadir y borrar elementos.\n",
    "* Concatenar listas (con `+`)\n",
    "* Ordenar listas\n",
    "* Operaciones _funcionales_ clásicas:\n",
    "    * Map: aplicar una función a cada elemento\n",
    "    * Reduce: obtener un agregado (longitud, suma, media, etc.)\n",
    "    * Filter: obtener una sublista a partir de otra dada de acuerdo con algún criterio"
   ]
  },
  {
   "cell_type": "markdown",
   "metadata": {},
   "source": [
    "Ejemplo de creación de una lista"
   ]
  },
  {
   "cell_type": "code",
   "execution_count": 95,
   "metadata": {},
   "outputs": [
    {
     "data": {
      "text/plain": [
       "[2300, 1942, 3455, 4100, 600, 1230]"
      ]
     },
     "execution_count": 95,
     "metadata": {},
     "output_type": "execute_result"
    }
   ],
   "source": [
    "precios = [2300, 1942, 3455, 4100, 600, 1230]\n",
    "precios"
   ]
  },
  {
   "cell_type": "markdown",
   "metadata": {},
   "source": [
    "Para conocer la longitud de la lista, utilizamos `len`"
   ]
  },
  {
   "cell_type": "code",
   "execution_count": 96,
   "metadata": {},
   "outputs": [
    {
     "data": {
      "text/plain": [
       "6"
      ]
     },
     "execution_count": 96,
     "metadata": {},
     "output_type": "execute_result"
    }
   ],
   "source": [
    "len(precios)"
   ]
  },
  {
   "cell_type": "markdown",
   "metadata": {},
   "source": [
    "Para extrar un elemento en una determinada posición, ponemos entre corchetes el índice"
   ]
  },
  {
   "cell_type": "code",
   "execution_count": 97,
   "metadata": {},
   "outputs": [
    {
     "data": {
      "text/plain": [
       "3455"
      ]
     },
     "execution_count": 97,
     "metadata": {},
     "output_type": "execute_result"
    }
   ],
   "source": [
    "precios[2]"
   ]
  },
  {
   "cell_type": "markdown",
   "metadata": {},
   "source": [
    "Si usamos índices negativos, extraemos elementos contando desde la derecha (-1 es el último elemento)"
   ]
  },
  {
   "cell_type": "code",
   "execution_count": 98,
   "metadata": {},
   "outputs": [
    {
     "data": {
      "text/plain": [
       "[3455, 4100]"
      ]
     },
     "execution_count": 98,
     "metadata": {},
     "output_type": "execute_result"
    }
   ],
   "source": [
    "precios[-4:-2]"
   ]
  },
  {
   "cell_type": "markdown",
   "metadata": {},
   "source": [
    "Para extraer un rango:"
   ]
  },
  {
   "cell_type": "code",
   "execution_count": 99,
   "metadata": {},
   "outputs": [
    {
     "data": {
      "text/plain": [
       "[2300, 1942, 3455]"
      ]
     },
     "execution_count": 99,
     "metadata": {},
     "output_type": "execute_result"
    }
   ],
   "source": [
    "precios[:3]"
   ]
  },
  {
   "cell_type": "markdown",
   "metadata": {},
   "source": [
    "Algunas funciones estadísticas como `min`, `max` y `sum` vienen cargadas por defecto. Con el paquete `statistics`, además, podemos calcular medianas, medias, etc. sobre una lista."
   ]
  },
  {
   "cell_type": "code",
   "execution_count": 100,
   "metadata": {},
   "outputs": [
    {
     "data": {
      "text/plain": [
       "600"
      ]
     },
     "execution_count": 100,
     "metadata": {},
     "output_type": "execute_result"
    }
   ],
   "source": [
    "min(precios)"
   ]
  },
  {
   "cell_type": "code",
   "execution_count": 101,
   "metadata": {},
   "outputs": [
    {
     "data": {
      "text/plain": [
       "2271.1666666666665"
      ]
     },
     "execution_count": 101,
     "metadata": {},
     "output_type": "execute_result"
    }
   ],
   "source": [
    "from statistics import mean, median\n",
    "\n",
    "mean(precios)"
   ]
  },
  {
   "cell_type": "markdown",
   "metadata": {},
   "source": [
    "Para evaluar si un elemento está contenido en una lista, usaremos `in` o `not in`"
   ]
  },
  {
   "cell_type": "code",
   "execution_count": 102,
   "metadata": {},
   "outputs": [
    {
     "data": {
      "text/plain": [
       "True"
      ]
     },
     "execution_count": 102,
     "metadata": {},
     "output_type": "execute_result"
    }
   ],
   "source": [
    "600 in precios"
   ]
  },
  {
   "cell_type": "markdown",
   "metadata": {},
   "source": [
    "**Nota:** Existe un módulo de Python, `numpy` que implementa sus propias listas (o `arrays`), más orientadas al cálculo numérico y matricial que son extensiones de estas listas genéricas. A su vez, las columnas de un `DataFrame` de `pandas` son extensiones de los `arrays` de `numpy`."
   ]
  },
  {
   "cell_type": "markdown",
   "metadata": {},
   "source": [
    "#### List comprehensions\n",
    "\n",
    "Son una forma concisa de iterar y operar sobre listas que combinan las operaciones _map_ y _filter_."
   ]
  },
  {
   "cell_type": "code",
   "execution_count": null,
   "metadata": {},
   "outputs": [],
   "source": [
    "['{} €'.format(precio) for precio in precios]"
   ]
  },
  {
   "cell_type": "code",
   "execution_count": 108,
   "metadata": {},
   "outputs": [
    {
     "data": {
      "text/plain": [
       "[2300, 1942, 3455, 4100, 600, 1230]"
      ]
     },
     "execution_count": 108,
     "metadata": {},
     "output_type": "execute_result"
    }
   ],
   "source": [
    "precios"
   ]
  },
  {
   "cell_type": "code",
   "execution_count": 109,
   "metadata": {},
   "outputs": [
    {
     "data": {
      "text/plain": [
       "[4600, 3884, 6910, 8200, 1200, 2460]"
      ]
     },
     "execution_count": 109,
     "metadata": {},
     "output_type": "execute_result"
    }
   ],
   "source": [
    "[x * 2 for x in precios]"
   ]
  },
  {
   "cell_type": "markdown",
   "metadata": {},
   "source": [
    "También permiten filtrar elementos añadiendo un bloque con `if`"
   ]
  },
  {
   "cell_type": "code",
   "execution_count": 111,
   "metadata": {},
   "outputs": [
    {
     "data": {
      "text/plain": [
       "['2300 €', '3455 €', '4100 €']"
      ]
     },
     "execution_count": 111,
     "metadata": {},
     "output_type": "execute_result"
    }
   ],
   "source": [
    "['{} €'.format(precio) for precio in precios if precio > 2000]"
   ]
  },
  {
   "cell_type": "code",
   "execution_count": 110,
   "metadata": {},
   "outputs": [
    {
     "data": {
      "text/plain": [
       "'20 €'"
      ]
     },
     "execution_count": 110,
     "metadata": {},
     "output_type": "execute_result"
    }
   ],
   "source": [
    "'{} €'.format(20)"
   ]
  },
  {
   "cell_type": "markdown",
   "metadata": {},
   "source": [
    "Por lo indicado más arriba, las _list comprehensions_ funcionan también sobre columnas de `DataFrames`:"
   ]
  },
  {
   "cell_type": "code",
   "execution_count": 48,
   "metadata": {},
   "outputs": [
    {
     "data": {
      "text/html": [
       "<div>\n",
       "<style scoped>\n",
       "    .dataframe tbody tr th:only-of-type {\n",
       "        vertical-align: middle;\n",
       "    }\n",
       "\n",
       "    .dataframe tbody tr th {\n",
       "        vertical-align: top;\n",
       "    }\n",
       "\n",
       "    .dataframe thead th {\n",
       "        text-align: right;\n",
       "    }\n",
       "</style>\n",
       "<table border=\"1\" class=\"dataframe\">\n",
       "  <thead>\n",
       "    <tr style=\"text-align: right;\">\n",
       "      <th></th>\n",
       "      <th>distrito</th>\n",
       "      <th>ano</th>\n",
       "      <th>quarter</th>\n",
       "      <th>precio</th>\n",
       "      <th>precio_90_m</th>\n",
       "      <th>trimestre</th>\n",
       "    </tr>\n",
       "  </thead>\n",
       "  <tbody>\n",
       "    <tr>\n",
       "      <td>0</td>\n",
       "      <td>Arganzuela</td>\n",
       "      <td>2007</td>\n",
       "      <td>2</td>\n",
       "      <td>13.066587</td>\n",
       "      <td>1175.992857</td>\n",
       "      <td>2007Q02</td>\n",
       "    </tr>\n",
       "    <tr>\n",
       "      <td>1</td>\n",
       "      <td>Barajas</td>\n",
       "      <td>2007</td>\n",
       "      <td>2</td>\n",
       "      <td>11.199855</td>\n",
       "      <td>1007.986923</td>\n",
       "      <td>2007Q02</td>\n",
       "    </tr>\n",
       "    <tr>\n",
       "      <td>2</td>\n",
       "      <td>Carabanchel</td>\n",
       "      <td>2007</td>\n",
       "      <td>2</td>\n",
       "      <td>11.127661</td>\n",
       "      <td>1001.489519</td>\n",
       "      <td>2007Q02</td>\n",
       "    </tr>\n",
       "    <tr>\n",
       "      <td>3</td>\n",
       "      <td>Centro</td>\n",
       "      <td>2007</td>\n",
       "      <td>2</td>\n",
       "      <td>17.746404</td>\n",
       "      <td>1597.176343</td>\n",
       "      <td>2007Q02</td>\n",
       "    </tr>\n",
       "    <tr>\n",
       "      <td>4</td>\n",
       "      <td>Chamartín</td>\n",
       "      <td>2007</td>\n",
       "      <td>2</td>\n",
       "      <td>14.386480</td>\n",
       "      <td>1294.783156</td>\n",
       "      <td>2007Q02</td>\n",
       "    </tr>\n",
       "  </tbody>\n",
       "</table>\n",
       "</div>"
      ],
      "text/plain": [
       "      distrito   ano  quarter     precio  precio_90_m trimestre\n",
       "0   Arganzuela  2007        2  13.066587  1175.992857   2007Q02\n",
       "1      Barajas  2007        2  11.199855  1007.986923   2007Q02\n",
       "2  Carabanchel  2007        2  11.127661  1001.489519   2007Q02\n",
       "3       Centro  2007        2  17.746404  1597.176343   2007Q02\n",
       "4    Chamartín  2007        2  14.386480  1294.783156   2007Q02"
      ]
     },
     "execution_count": 48,
     "metadata": {},
     "output_type": "execute_result"
    }
   ],
   "source": [
    "alquiler = pd.read_csv('dat/alquiler-madrid-distritos.csv', index_col=False)\n",
    "\n",
    "alquiler[\"precio_90_m\"] = [90 * precio for precio in alquiler.precio]\n",
    "# Nota: lo mismo puede obtenerse haciendo, como antes,\n",
    "# alquiler[\"precio_90_m\"] = 90 * alquiler.precio\n",
    "\n",
    "alquiler[\"trimestre\"] = [str(ano) + \"Q0\" + str(quarter) \n",
    "                         for ano, quarter in alquiler[['ano', 'quarter']].values]\n",
    "\n",
    "alquiler.head()"
   ]
  },
  {
   "cell_type": "markdown",
   "metadata": {},
   "source": [
    "#### Ejercicio\n",
    "\n",
    "Crea una lista que contenga las palabras de `frase` que tengan una longitud de más de 5 caracteres."
   ]
  },
  {
   "cell_type": "code",
   "execution_count": null,
   "metadata": {},
   "outputs": [],
   "source": [
    "frase = 'Estoy en el curso de python para ciencia de datos'"
   ]
  },
  {
   "cell_type": "code",
   "execution_count": 122,
   "metadata": {},
   "outputs": [
    {
     "data": {
      "text/plain": [
       "['python', 'ciencia']"
      ]
     },
     "execution_count": 122,
     "metadata": {},
     "output_type": "execute_result"
    }
   ],
   "source": [
    "frase = 'Estoy en el curso de python para ciencia de datos'\n",
    "frase_lista = frase.split(' ')\n",
    "[i for i  in frase_lista if len(i) > 5]"
   ]
  },
  {
   "cell_type": "code",
   "execution_count": 124,
   "metadata": {},
   "outputs": [
    {
     "data": {
      "text/plain": [
       "'sty n l crs d pythn pr cnc d dts'"
      ]
     },
     "execution_count": 124,
     "metadata": {},
     "output_type": "execute_result"
    }
   ],
   "source": [
    "frase = 'Estoy en el curso de python para ciencia de datos'\n",
    "frase_lista = frase.split(' ')\n",
    "[i for i  in frase_lista if len(i) > 5]\n",
    "\n"
   ]
  },
  {
   "cell_type": "markdown",
   "metadata": {},
   "source": [
    "#### Ejercicio\n",
    "\n",
    "Elimina las vocales de la frase anterior"
   ]
  },
  {
   "cell_type": "code",
   "execution_count": null,
   "metadata": {},
   "outputs": [],
   "source": [
    "vocales = ['a', 'e', 'i', 'o', 'u', 'A', 'E', 'I', 'O', 'U']\n",
    "''.join([x for x in frase if x not in vocales])\n",
    "\n",
    "re.sub('[aeiouAEIOU]',\"\", frase)"
   ]
  },
  {
   "cell_type": "markdown",
   "metadata": {},
   "source": [
    "#### Ejercicio\n",
    "\n",
    "Calcula la lista de los cuadrados de:"
   ]
  },
  {
   "cell_type": "code",
   "execution_count": null,
   "metadata": {},
   "outputs": [],
   "source": [
    "lista = [2, 3, 5, 7]"
   ]
  },
  {
   "cell_type": "code",
   "execution_count": 130,
   "metadata": {},
   "outputs": [
    {
     "data": {
      "text/plain": [
       "[4, 9, 25, 49]"
      ]
     },
     "execution_count": 130,
     "metadata": {},
     "output_type": "execute_result"
    }
   ],
   "source": [
    "lista = [2, 3, 5, 7]\n",
    "[i**2 for i  in lista ]"
   ]
  },
  {
   "cell_type": "markdown",
   "metadata": {},
   "source": [
    "#### Ejercicio\n",
    "\n",
    "Haz una petición a la API de [swapi](https://swapi.co/documentation) con una búsqueda de todos los personajes que tengan el apellido `skywalker`. Examina la respuesta e imprime los nombres resultantes utilizando una `list comprehension` (no utilices bucles)."
   ]
  },
  {
   "cell_type": "code",
   "execution_count": null,
   "metadata": {},
   "outputs": [],
   "source": []
  },
  {
   "cell_type": "markdown",
   "metadata": {},
   "source": [
    "### Diccionarios\n",
    "\n",
    "Los diccionarios son una colección de elementos clave-valor:"
   ]
  },
  {
   "cell_type": "code",
   "execution_count": 7,
   "metadata": {},
   "outputs": [
    {
     "data": {
      "text/plain": [
       "{'Moratalaz': 95000, 'Centro': 150000, 'Barajas': 46000}"
      ]
     },
     "execution_count": 7,
     "metadata": {},
     "output_type": "execute_result"
    }
   ],
   "source": [
    "poblacion = {'Moratalaz': 95000,\n",
    "             'Centro': 150000,\n",
    "             'Barajas': 46000}\n",
    "poblacion"
   ]
  },
  {
   "cell_type": "markdown",
   "metadata": {},
   "source": [
    "Para acceder a un elemento, podemos usar:\n",
    "\n",
    "* Los corchetes\n",
    "* La función `get`\n",
    "\n",
    "La diferencia es que get devuelve None en lugar de lanzar un error en caso de que la clave no exista"
   ]
  },
  {
   "cell_type": "code",
   "execution_count": 8,
   "metadata": {},
   "outputs": [
    {
     "data": {
      "text/plain": [
       "46000"
      ]
     },
     "execution_count": 8,
     "metadata": {},
     "output_type": "execute_result"
    }
   ],
   "source": [
    "poblacion['Barajas']"
   ]
  },
  {
   "cell_type": "code",
   "execution_count": 9,
   "metadata": {},
   "outputs": [
    {
     "data": {
      "text/plain": [
       "46000"
      ]
     },
     "execution_count": 9,
     "metadata": {},
     "output_type": "execute_result"
    }
   ],
   "source": [
    "poblacion.get('Tetuan')\n",
    "poblacion.get('Barajas')\n"
   ]
  },
  {
   "cell_type": "markdown",
   "metadata": {},
   "source": [
    "#### Dict comprehensions\n",
    "\n",
    "Es el equivalente de las list comprehensions en diccionarios"
   ]
  },
  {
   "cell_type": "code",
   "execution_count": 136,
   "metadata": {},
   "outputs": [
    {
     "data": {
      "text/plain": [
       "{'Moratalaz': 95.0, 'Centro': 150.0, 'Barajas': 46.0}"
      ]
     },
     "execution_count": 136,
     "metadata": {},
     "output_type": "execute_result"
    }
   ],
   "source": [
    "# Atención al .items() para poder iterar sobre clave y valor en el dict\n",
    "\n",
    "{distrito: (valor / 1000) for distrito, valor in poblacion.items()}"
   ]
  },
  {
   "cell_type": "markdown",
   "metadata": {},
   "source": [
    "#### Ejercicio\n",
    "\n",
    "A partir del diccionario `precios_por_distrito`, crea un diccionario donde la clave sea el distrito y el valor, otro diccionario con dos elementos: el precio mínimo (la clave será `minimo`) y el máximo (con clave `maximo`)."
   ]
  },
  {
   "cell_type": "code",
   "execution_count": 137,
   "metadata": {},
   "outputs": [
    {
     "data": {
      "text/plain": [
       "{'Arganzuela': [1920.4065754345897,\n",
       "  1989.7552775824,\n",
       "  1974.7153937224803,\n",
       "  2027.37661409059,\n",
       "  2150.8146736201,\n",
       "  2744.41775414676,\n",
       "  2845.0883714856,\n",
       "  2999.03759169401,\n",
       "  3144.48061245487,\n",
       "  3236.02158898773,\n",
       "  3277.25969079458,\n",
       "  3285.09194017021,\n",
       "  3401.4981298601,\n",
       "  3498.52350888937,\n",
       "  3504.34008028398,\n",
       "  3595.2146143042205,\n",
       "  3674.0417534634103,\n",
       "  3781.2204248628295,\n",
       "  3828.3116084867797,\n",
       "  3903.5045363686895,\n",
       "  3980.43306658443,\n",
       "  3970.75478820969,\n",
       "  3926.9932295131,\n",
       "  3913.50703785109,\n",
       "  3893.9226911167893,\n",
       "  3854.6518960002504,\n",
       "  3721.22338481386,\n",
       "  3624.4716710660205,\n",
       "  3550.70145120216,\n",
       "  3435.97904417864,\n",
       "  3408.07137744815,\n",
       "  3392.7752748987396,\n",
       "  3356.7530396407897,\n",
       "  3345.2258965233195,\n",
       "  3317.3217052996997,\n",
       "  3349.7985684777695,\n",
       "  3275.76223217752,\n",
       "  3250.09835778019,\n",
       "  3161.00828426335,\n",
       "  3122.5078904362103,\n",
       "  3063.20281545964,\n",
       "  3022.84870087037,\n",
       "  2897.7150302156897,\n",
       "  2790.22515936953,\n",
       "  2689.8063966148898,\n",
       "  2679.6592782237,\n",
       "  2583.8142070664603,\n",
       "  2684.64003838108,\n",
       "  2796.6930739227196,\n",
       "  2827.83718920866,\n",
       "  2684.78,\n",
       "  2637.86809766645,\n",
       "  2653.25216352432,\n",
       "  2671.1393805864604,\n",
       "  2714.3168700023302,\n",
       "  2787.14848128612,\n",
       "  2746.0,\n",
       "  2834.8971702394606,\n",
       "  2917.8222024725105,\n",
       "  2925.24228087068,\n",
       "  3012.69893260127,\n",
       "  3136.7992607653496,\n",
       "  3204.20949521523,\n",
       "  3293.41127664832,\n",
       "  3528.85859175875,\n",
       "  3709.23686896558,\n",
       "  3949.94308346634],\n",
       " 'Barajas': [1661.89030566455,\n",
       "  1679.77967424681,\n",
       "  1842.42511483804,\n",
       "  1964.7224475112303,\n",
       "  2082.54968615302,\n",
       "  2151.74981043471,\n",
       "  2542.6369989448003,\n",
       "  2593.13438693414,\n",
       "  2605.68560660083,\n",
       "  2743.16206225875,\n",
       "  2935.20473453152,\n",
       "  2952.5217318147998,\n",
       "  2927.96193124766,\n",
       "  2975.7275837936,\n",
       "  3100.54553990507,\n",
       "  3219.31879715187,\n",
       "  3292.1630842152804,\n",
       "  3452.9227661031396,\n",
       "  3365.81172118871,\n",
       "  3432.88409770853,\n",
       "  3445.13463463144,\n",
       "  3514.79039226453,\n",
       "  3554.1957419572705,\n",
       "  3707.29260972118,\n",
       "  3687.65196269998,\n",
       "  3730.1779520808,\n",
       "  3651.2334445673705,\n",
       "  3638.0621160084797,\n",
       "  3636.7329393671503,\n",
       "  3601.94493780579,\n",
       "  3518.47895859041,\n",
       "  3397.81798158807,\n",
       "  3276.40468265148,\n",
       "  3254.1296040024,\n",
       "  3304.86071968473,\n",
       "  3273.08109915938,\n",
       "  3290.67881898961,\n",
       "  3186.76656822153,\n",
       "  3240.53539877656,\n",
       "  3212.3856695228696,\n",
       "  3178.8694145487602,\n",
       "  3140.0493600461896,\n",
       "  3035.00029600706,\n",
       "  3024.1286266167103,\n",
       "  3022.84473879107,\n",
       "  2928.2119900124894,\n",
       "  2869.4863456556604,\n",
       "  2776.71941644847,\n",
       "  2774.89410545457,\n",
       "  2625.19154572549,\n",
       "  2727.45,\n",
       "  2763.58245926933,\n",
       "  2828.2995405794604,\n",
       "  2715.88,\n",
       "  2610.73403484343,\n",
       "  2583.09541934491,\n",
       "  2605.0512489457897,\n",
       "  2637.96785464492,\n",
       "  2602.92598326696,\n",
       "  2602.0,\n",
       "  2585.36235499466,\n",
       "  2571.42503605227,\n",
       "  2604.41839444959,\n",
       "  2671.56569526965,\n",
       "  2642.24813940374,\n",
       "  2700.2463151523602,\n",
       "  2866.74843360044,\n",
       "  2993.2004426347803,\n",
       "  3064.67649408755,\n",
       "  3225.4079291213397],\n",
       " 'Carabanchel': [1358.55787972897,\n",
       "  1413.0353065803,\n",
       "  1481.4735224854699,\n",
       "  1572.9001221865199,\n",
       "  1651.4516146143899,\n",
       "  1799.20323132394,\n",
       "  1837.5438407232602,\n",
       "  2069.45777074838,\n",
       "  2162.55303348792,\n",
       "  2240.61195004594,\n",
       "  2354.41430797257,\n",
       "  2496.35428406392,\n",
       "  2570.3109626712,\n",
       "  2620.57158136727,\n",
       "  2624.0188656907503,\n",
       "  2643.2780365556896,\n",
       "  2736.22603127299,\n",
       "  2726.2863520692104,\n",
       "  2777.5382543013297,\n",
       "  2855.1242356076395,\n",
       "  2923.71094533867,\n",
       "  3114.38707731969,\n",
       "  3161.1754359804,\n",
       "  3210.17544305693,\n",
       "  3227.6873594259996,\n",
       "  3182.86026239888,\n",
       "  3147.6715686408097,\n",
       "  3102.96487115693,\n",
       "  3066.6972555574202,\n",
       "  2966.37443580948,\n",
       "  2843.7510638275703,\n",
       "  2790.6024330836603,\n",
       "  2679.94668054977,\n",
       "  2622.18710453221,\n",
       "  2623.72857236046,\n",
       "  2590.34499691881,\n",
       "  2557.29544025899,\n",
       "  2481.0564074449,\n",
       "  2439.73988779497,\n",
       "  2384.74787278582,\n",
       "  2330.3036108554998,\n",
       "  2247.52651407715,\n",
       "  2221.29156549937,\n",
       "  2127.30375220938,\n",
       "  2067.6341830194,\n",
       "  1980.7584948063602,\n",
       "  1874.8454210813397,\n",
       "  1820.6082706241602,\n",
       "  1798.6897260973603,\n",
       "  1739.91605596982,\n",
       "  1796.5363318174,\n",
       "  1857.1257460841398,\n",
       "  1798.2485924772197,\n",
       "  1698.32,\n",
       "  1639.6085196418699,\n",
       "  1601.7363328657502,\n",
       "  1650.62720103474,\n",
       "  1636.80991137635,\n",
       "  1672.2497382099,\n",
       "  1622.0,\n",
       "  1630.7672219399699,\n",
       "  1622.8778968952302,\n",
       "  1653.87679712207,\n",
       "  1701.5217591195901,\n",
       "  1714.0504692558802,\n",
       "  1759.0613559434198,\n",
       "  1823.6298619471802,\n",
       "  1873.86870323417,\n",
       "  1956.82274588754,\n",
       "  2058.72933466929],\n",
       " 'Centro': [1857.41441612893,\n",
       "  1988.01298909339,\n",
       "  2061.02611735355,\n",
       "  2155.49035769318,\n",
       "  2292.02033262733,\n",
       "  2454.7341383707603,\n",
       "  2522.99912583783,\n",
       "  2789.5131180038,\n",
       "  2953.87851307545,\n",
       "  2965.10456156451,\n",
       "  3129.06471688659,\n",
       "  3196.73622561241,\n",
       "  3347.3909601061305,\n",
       "  3436.65478305003,\n",
       "  3464.0300634949,\n",
       "  3619.34705227198,\n",
       "  3694.03336325742,\n",
       "  3784.7681821326796,\n",
       "  3841.2844585166295,\n",
       "  4011.0878334422796,\n",
       "  4145.20811180892,\n",
       "  4279.60531433023,\n",
       "  4261.86413383991,\n",
       "  4304.54534126215,\n",
       "  4398.2093112354905,\n",
       "  4454.442806989339,\n",
       "  4404.69570862161,\n",
       "  4421.5986463134495,\n",
       "  4387.245030149,\n",
       "  4303.11319334614,\n",
       "  4137.0925629515605,\n",
       "  4092.4913051538,\n",
       "  3988.15267497372,\n",
       "  3896.4963761238396,\n",
       "  3897.31395497608,\n",
       "  3891.23101583299,\n",
       "  3825.1249781615397,\n",
       "  3739.71522789375,\n",
       "  3758.50586656438,\n",
       "  3786.03233286291,\n",
       "  3727.7675426243604,\n",
       "  3596.2275777468703,\n",
       "  3602.68459310479,\n",
       "  3574.7544279024605,\n",
       "  3483.9742408485604,\n",
       "  3389.69344911575,\n",
       "  3311.57124120572,\n",
       "  3202.2644596752502,\n",
       "  3154.7649207580394,\n",
       "  3080.8519180932203,\n",
       "  3434.0,\n",
       "  3354.21058504344,\n",
       "  3412.02899619266,\n",
       "  3337.41,\n",
       "  3276.1628425180297,\n",
       "  3284.7334099801396,\n",
       "  3346.4906834590697,\n",
       "  3423.80341754937,\n",
       "  3537.8936203223498,\n",
       "  3568.0,\n",
       "  3598.6259098063106,\n",
       "  3638.0603997503003,\n",
       "  3717.71081518519,\n",
       "  3778.70710580411,\n",
       "  3971.5896840520204,\n",
       "  4306.87190720289,\n",
       "  4455.690224084579,\n",
       "  4598.738176262779,\n",
       "  4832.36351528884,\n",
       "  4987.19887607627],\n",
       " 'Chamartín': [2523.68801546582,\n",
       "  2660.9185252593898,\n",
       "  2857.18451340295,\n",
       "  3006.4648589950502,\n",
       "  2836.2699587346697,\n",
       "  3095.3028563837,\n",
       "  3160.76243340692,\n",
       "  3529.2063383661894,\n",
       "  3578.90209947664,\n",
       "  3676.6652439100103,\n",
       "  3849.7521726792997,\n",
       "  4041.1035784711894,\n",
       "  4078.5256801356,\n",
       "  4180.42113769222,\n",
       "  4139.76908510643,\n",
       "  4232.1583509416,\n",
       "  4240.559737545271,\n",
       "  4366.417587075421,\n",
       "  4423.76105837497,\n",
       "  4526.15453962394,\n",
       "  4609.31734829234,\n",
       "  4701.266500067871,\n",
       "  4668.8381878214095,\n",
       "  4797.76242877971,\n",
       "  4860.6484800152,\n",
       "  4884.635551688079,\n",
       "  4913.35406581909,\n",
       "  4930.97360022026,\n",
       "  4969.76989188925,\n",
       "  4938.96392101526,\n",
       "  5028.7606510284495,\n",
       "  4979.09756465518,\n",
       "  4822.1690976475,\n",
       "  4759.9532123125,\n",
       "  4789.55644701872,\n",
       "  4784.2698639338005,\n",
       "  4744.26910783614,\n",
       "  4788.14319295678,\n",
       "  4693.84136438475,\n",
       "  4557.42583765204,\n",
       "  4498.34594509462,\n",
       "  4492.9029585995895,\n",
       "  4422.94108216361,\n",
       "  4314.38783200913,\n",
       "  4216.44014712405,\n",
       "  4127.94942994974,\n",
       "  4028.3104620413105,\n",
       "  3964.61106878033,\n",
       "  3873.11489997551,\n",
       "  3820.38744147142,\n",
       "  3758.33,\n",
       "  3747.132329207,\n",
       "  3735.30644301586,\n",
       "  3674.12,\n",
       "  3652.22278721661,\n",
       "  3716.5548292816497,\n",
       "  3729.90881457606,\n",
       "  3740.2506802668104,\n",
       "  3765.6942883138,\n",
       "  3790.0,\n",
       "  3891.7159851290203,\n",
       "  3915.03733535346,\n",
       "  3988.91435158979,\n",
       "  4071.56429508909,\n",
       "  4207.18927367794,\n",
       "  4337.76169332912,\n",
       "  4384.1080736965505,\n",
       "  4563.82270069739,\n",
       "  4904.8700479525205,\n",
       "  5007.47085890988],\n",
       " 'Chamberí': [2264.7895662852898,\n",
       "  2454.96316500279,\n",
       "  2446.56083825743,\n",
       "  2695.06429972744,\n",
       "  2780.16174985763,\n",
       "  2901.72953575789,\n",
       "  3180.40030651389,\n",
       "  3353.4006172181103,\n",
       "  3407.65816774042,\n",
       "  3613.8468862215004,\n",
       "  3729.43453493927,\n",
       "  3962.5412859014295,\n",
       "  4016.03566488294,\n",
       "  4066.36750420808,\n",
       "  4217.42342696597,\n",
       "  4229.786880188761,\n",
       "  4262.20938342197,\n",
       "  4274.72060096751,\n",
       "  4436.23062513429,\n",
       "  4516.50229070351,\n",
       "  4658.370827035129,\n",
       "  4738.99983325856,\n",
       "  4752.41062927584,\n",
       "  4828.9851578033,\n",
       "  4927.48046093665,\n",
       "  4941.7760304902,\n",
       "  4909.468276741521,\n",
       "  4982.16620579669,\n",
       "  4984.95602858434,\n",
       "  4885.72905718869,\n",
       "  4790.28587379076,\n",
       "  4693.41987931998,\n",
       "  4668.059869746679,\n",
       "  4681.154006433139,\n",
       "  4737.18962804692,\n",
       "  4686.15867943862,\n",
       "  4712.911457022929,\n",
       "  4686.060330807751,\n",
       "  4604.41612083011,\n",
       "  4479.08790818375,\n",
       "  4445.23562270875,\n",
       "  4355.6371081515,\n",
       "  4308.62421665848,\n",
       "  4227.48045626795,\n",
       "  4189.46237637276,\n",
       "  4055.0665293883294,\n",
       "  3930.05012152497,\n",
       "  3772.18020291221,\n",
       "  3659.95506138562,\n",
       "  3624.8854639145598,\n",
       "  3681.93,\n",
       "  3566.7964829715297,\n",
       "  3683.2926014862105,\n",
       "  3643.68,\n",
       "  3628.64928845141,\n",
       "  3629.8953939187604,\n",
       "  3689.1001695901796,\n",
       "  3764.5155934842796,\n",
       "  3781.49056176299,\n",
       "  3760.0,\n",
       "  3945.5603497546203,\n",
       "  3960.2687353783795,\n",
       "  4017.32772527256,\n",
       "  4059.8613653668103,\n",
       "  4290.6840515404,\n",
       "  4507.98706042285,\n",
       "  4641.838482639179,\n",
       "  4810.75582127961,\n",
       "  4999.60087998104,\n",
       "  5202.006707450821],\n",
       " 'Ciudad Lineal': [2006.8859076291199,\n",
       "  2073.37388448369,\n",
       "  2254.54378591285,\n",
       "  2277.05814359345,\n",
       "  2372.4420986844298,\n",
       "  2495.88015821393,\n",
       "  2674.49128980586,\n",
       "  2818.5023592569396,\n",
       "  2965.46499528969,\n",
       "  3078.64869444592,\n",
       "  3078.98469296824,\n",
       "  3311.6321285589,\n",
       "  3230.88965997329,\n",
       "  3300.1787505117104,\n",
       "  3352.3757055137103,\n",
       "  3348.7066433412897,\n",
       "  3424.2531354554,\n",
       "  3498.66181349848,\n",
       "  3580.56210812014,\n",
       "  3705.27340405386,\n",
       "  3695.4919563471294,\n",
       "  3789.2049909030497,\n",
       "  3804.74936504094,\n",
       "  3818.3598512111207,\n",
       "  3788.40799620544,\n",
       "  3762.04580258424,\n",
       "  3768.78631604901,\n",
       "  3725.47388010219,\n",
       "  3763.94277102385,\n",
       "  3701.77036840508,\n",
       "  3679.3448141011,\n",
       "  3566.9712862772203,\n",
       "  3540.2400672714502,\n",
       "  3480.20760018322,\n",
       "  3512.03908558307,\n",
       "  3435.76907551992,\n",
       "  3363.0684840369204,\n",
       "  3335.67559666612,\n",
       "  3310.52590708807,\n",
       "  3249.2456541728397,\n",
       "  3209.53998642565,\n",
       "  3144.0263198671696,\n",
       "  3166.0629841577197,\n",
       "  3078.33231078268,\n",
       "  3009.07421131261,\n",
       "  2927.54136113241,\n",
       "  2819.5554316261605,\n",
       "  2728.89003950912,\n",
       "  2660.39058363226,\n",
       "  2593.25118119729,\n",
       "  2525.04300717972,\n",
       "  2630.66812194851,\n",
       "  2666.07766861683,\n",
       "  2581.82,\n",
       "  2514.03898020754,\n",
       "  2463.83690421761,\n",
       "  2512.5364101501395,\n",
       "  2477.74023846458,\n",
       "  2485.647962087,\n",
       "  2455.0,\n",
       "  2488.7196698948896,\n",
       "  2480.23122069697,\n",
       "  2486.8426353067803,\n",
       "  2523.02165431698,\n",
       "  2557.5140999622304,\n",
       "  2616.0127205988897,\n",
       "  2691.5804830292,\n",
       "  2724.15850970328,\n",
       "  2823.56376515574,\n",
       "  2982.5793223775604],\n",
       " 'Fuencarral': [2060.0987702545603,\n",
       "  2056.77156126911,\n",
       "  2047.43064685387,\n",
       "  2174.19309398553,\n",
       "  2432.29085481994,\n",
       "  2562.27487205177,\n",
       "  2675.42642662047,\n",
       "  2807.2807174815302,\n",
       "  2951.1940816006104,\n",
       "  2958.9381159270697,\n",
       "  3063.63250560336,\n",
       "  3283.02116762711,\n",
       "  3295.62245756648,\n",
       "  3357.62014315411,\n",
       "  3396.51864233852,\n",
       "  3428.38750656224,\n",
       "  3470.38050626625,\n",
       "  3502.8177450038,\n",
       "  3471.73987114373,\n",
       "  3593.3512548937797,\n",
       "  3743.38340303951,\n",
       "  3830.2978158668498,\n",
       "  3830.86148099677,\n",
       "  3868.2217357462,\n",
       "  3920.54885583231,\n",
       "  3916.61203151576,\n",
       "  3891.63138656096,\n",
       "  3832.69380736836,\n",
       "  3839.2674630599604,\n",
       "  3720.0993402430395,\n",
       "  3665.70255000502,\n",
       "  3611.98462834391,\n",
       "  3589.9069475148203,\n",
       "  3557.4724180388703,\n",
       "  3515.41283307672,\n",
       "  3496.31898049823,\n",
       "  3453.25469775766,\n",
       "  3425.64616324984,\n",
       "  3437.84544359961,\n",
       "  3456.08629971943,\n",
       "  3401.29636632596,\n",
       "  3316.8899847117304,\n",
       "  3264.96359452435,\n",
       "  3211.1412752788697,\n",
       "  3120.94075836453,\n",
       "  3015.58650348146,\n",
       "  2947.66516328748,\n",
       "  2835.0428193121,\n",
       "  2788.4097178352004,\n",
       "  2717.4506352220496,\n",
       "  2885.04,\n",
       "  2805.0496551300203,\n",
       "  2820.8222166879304,\n",
       "  2678.06,\n",
       "  2656.38787950503,\n",
       "  2655.5590394596397,\n",
       "  2679.56560819949,\n",
       "  2719.0045862612196,\n",
       "  2713.5458377315304,\n",
       "  2734.0,\n",
       "  2757.9040607901397,\n",
       "  2739.96221107437,\n",
       "  2767.54949000409,\n",
       "  2824.19385662152,\n",
       "  2934.22243108893,\n",
       "  2995.87006097739,\n",
       "  3067.03119353502,\n",
       "  3174.2081114126695,\n",
       "  3183.6788903536103,\n",
       "  3317.63074460989],\n",
       " 'Hortaleza': [2098.2717490201003,\n",
       "  2148.7756340594196,\n",
       "  2104.16742845547,\n",
       "  2192.89583027788,\n",
       "  2179.8039148732396,\n",
       "  2445.38277022459,\n",
       "  2422.00434985915,\n",
       "  2757.71846630681,\n",
       "  2746.38482131316,\n",
       "  2863.25841790729,\n",
       "  2935.99170513766,\n",
       "  3045.91052329716,\n",
       "  3118.80903444284,\n",
       "  3210.29902985789,\n",
       "  3224.91625741912,\n",
       "  3342.99043442529,\n",
       "  3351.63939632135,\n",
       "  3395.41759865224,\n",
       "  3476.16032302132,\n",
       "  3567.41042643743,\n",
       "  3658.93457740791,\n",
       "  3673.13257138149,\n",
       "  3760.56840275307,\n",
       "  3819.6024067145704,\n",
       "  3840.21041278572,\n",
       "  3870.8293216772795,\n",
       "  3878.40397615029,\n",
       "  3910.24265897981,\n",
       "  3950.0356215050606,\n",
       "  3853.02680389253,\n",
       "  3867.52023656799,\n",
       "  3888.8612538404795,\n",
       "  3835.78794425247,\n",
       "  3822.82653908383,\n",
       "  3782.14749883956,\n",
       "  3787.1641483936205,\n",
       "  3729.0211613139204,\n",
       "  3711.6958724216997,\n",
       "  3705.21850938493,\n",
       "  3573.2706379753704,\n",
       "  3478.1906437673497,\n",
       "  3385.32478431337,\n",
       "  3378.3002858451696,\n",
       "  3345.6091498759497,\n",
       "  3222.4900133392894,\n",
       "  3115.9085685325704,\n",
       "  3033.75377831013,\n",
       "  2950.6542843015004,\n",
       "  2957.4618993527397,\n",
       "  2965.06788033252,\n",
       "  3021.01,\n",
       "  3016.6187536593798,\n",
       "  2956.01469753034,\n",
       "  2781.5890175948102,\n",
       "  2778.9337813194898,\n",
       "  2765.1641017599604,\n",
       "  2739.62837757476,\n",
       "  2791.3672789497496,\n",
       "  2822.92823726893,\n",
       "  2818.0,\n",
       "  2848.37848945551,\n",
       "  2851.9481901751697,\n",
       "  2799.3047303123603,\n",
       "  2856.4281536014196,\n",
       "  2861.33796060353,\n",
       "  3066.3869144049,\n",
       "  3051.4182837677504,\n",
       "  3202.83431444726,\n",
       "  3415.8776818066103,\n",
       "  3403.1768699292998],\n",
       " 'Latina': [1473.8692762737803,\n",
       "  1527.70599058401,\n",
       "  1572.5614887476902,\n",
       "  1644.9056569120598,\n",
       "  1757.12207466616,\n",
       "  1862.79253471793,\n",
       "  2028.3117509052104,\n",
       "  2168.5822730978302,\n",
       "  2261.69576911655,\n",
       "  2365.69089597997,\n",
       "  2445.29112795087,\n",
       "  2500.44682677441,\n",
       "  2430.1644390415804,\n",
       "  2532.25048407058,\n",
       "  2653.86756185332,\n",
       "  2776.95290941473,\n",
       "  2825.21376551563,\n",
       "  2876.3634058083303,\n",
       "  2967.62335093922,\n",
       "  2990.1740228714198,\n",
       "  3096.0820512641303,\n",
       "  3166.68274550041,\n",
       "  3226.68131709272,\n",
       "  3223.4001254444297,\n",
       "  3239.46764244599,\n",
       "  3213.7628512804604,\n",
       "  3161.58214482669,\n",
       "  3105.61984468712,\n",
       "  3071.48494386552,\n",
       "  2971.3761743707105,\n",
       "  2857.18488628594,\n",
       "  2777.1359443911497,\n",
       "  2658.55360097663,\n",
       "  2615.22425824337,\n",
       "  2577.05092392611,\n",
       "  2517.06853126881,\n",
       "  2487.8134896169,\n",
       "  2457.90492648769,\n",
       "  2453.1217200052397,\n",
       "  2404.05410499671,\n",
       "  2316.6828187836104,\n",
       "  2251.07188302749,\n",
       "  2222.65069242168,\n",
       "  2133.6407506158703,\n",
       "  2050.04994155356,\n",
       "  2003.6697339600303,\n",
       "  1909.3421089952399,\n",
       "  1821.2386001806601,\n",
       "  1802.7648346374601,\n",
       "  1763.56189421795,\n",
       "  1925.82,\n",
       "  1878.8183183101999,\n",
       "  1857.09715871207,\n",
       "  1722.74,\n",
       "  1677.2872121636701,\n",
       "  1590.4413147341,\n",
       "  1628.0473095162,\n",
       "  1642.10950051228,\n",
       "  1693.51141285207,\n",
       "  1653.0,\n",
       "  1698.13100761677,\n",
       "  1745.49096145161,\n",
       "  1761.4695540107398,\n",
       "  1783.6980144513898,\n",
       "  1806.08559555511,\n",
       "  1845.0272864164701,\n",
       "  1878.6703386112301,\n",
       "  1976.83733812435,\n",
       "  2095.9787438418102,\n",
       "  2146.21708272393],\n",
       " 'Moncloa': [2019.07068648125,\n",
       "  2127.12067422673,\n",
       "  2295.4931856898897,\n",
       "  2250.8743127841603,\n",
       "  2643.6317749234804,\n",
       "  2679.1669738789396,\n",
       "  2621.1884913726603,\n",
       "  2831.59427466159,\n",
       "  2976.55382919258,\n",
       "  3151.41947928207,\n",
       "  3236.46891296281,\n",
       "  3362.12437617636,\n",
       "  3630.0442572637103,\n",
       "  3574.2617936844204,\n",
       "  3520.9428517765004,\n",
       "  3645.18757584794,\n",
       "  3769.5999917609997,\n",
       "  3800.7318439126598,\n",
       "  3853.98329006906,\n",
       "  3924.58659671927,\n",
       "  4017.55893851927,\n",
       "  4079.0573491654795,\n",
       "  4259.3568484198295,\n",
       "  4275.293770702589,\n",
       "  4308.05860467024,\n",
       "  4385.96541298405,\n",
       "  4430.00381720687,\n",
       "  4362.29106795008,\n",
       "  4395.55164161047,\n",
       "  4313.65874241601,\n",
       "  4238.29207301888,\n",
       "  4135.16234149204,\n",
       "  4143.6047986207595,\n",
       "  4087.0157510929707,\n",
       "  4076.3286740738204,\n",
       "  4063.1748527895,\n",
       "  4013.9749056051396,\n",
       "  3986.5657857774395,\n",
       "  3932.3503660127703,\n",
       "  3893.4788393556,\n",
       "  3841.45453824855,\n",
       "  3810.82616888496,\n",
       "  3763.23512460646,\n",
       "  3678.8492013650603,\n",
       "  3601.9665733365796,\n",
       "  3498.0772865472304,\n",
       "  3440.08275644672,\n",
       "  3295.34620361425,\n",
       "  3218.0716793202696,\n",
       "  3147.2423891705103,\n",
       "  3324.44,\n",
       "  3333.78436997316,\n",
       "  3311.87778385737,\n",
       "  3256.87,\n",
       "  3204.03195912926,\n",
       "  3156.93562808775,\n",
       "  3205.7097990787897,\n",
       "  3232.2385003272802,\n",
       "  3218.64598771922,\n",
       "  3247.0,\n",
       "  3290.96968658852,\n",
       "  3349.3073867154,\n",
       "  3309.9386216709495,\n",
       "  3400.5774122032103,\n",
       "  3518.68447592371,\n",
       "  3636.79674232812,\n",
       "  3877.15757870949,\n",
       "  3914.7048515697797,\n",
       "  4101.13824318864,\n",
       "  4133.28310105586],\n",
       " 'Moratalaz': [1672.70935515272,\n",
       "  1716.38459337224,\n",
       "  1742.0917790132098,\n",
       "  1826.32219894785,\n",
       "  1920.7710172242103,\n",
       "  1990.9062783205102,\n",
       "  2061.04153941682,\n",
       "  2315.39875299276,\n",
       "  2493.61300211099,\n",
       "  2531.12661026042,\n",
       "  2534.87754712936,\n",
       "  2673.3765947752104,\n",
       "  2746.6188086105603,\n",
       "  2798.04658549047,\n",
       "  2916.79008047653,\n",
       "  2930.8478421343398,\n",
       "  2930.4978912085,\n",
       "  2994.37319729864,\n",
       "  3044.67726388283,\n",
       "  3108.0613657528,\n",
       "  3242.8254450105296,\n",
       "  3323.64570083521,\n",
       "  3332.50175090763,\n",
       "  3391.0740941292997,\n",
       "  3353.3858626396004,\n",
       "  3375.1195421291304,\n",
       "  3327.12220048172,\n",
       "  3233.78753808367,\n",
       "  3224.76529928036,\n",
       "  3142.01625663013,\n",
       "  3019.4705906544,\n",
       "  2891.64858648933,\n",
       "  2834.8047198655604,\n",
       "  2757.3558302012398,\n",
       "  2717.00348004832,\n",
       "  2690.9387533921,\n",
       "  2636.74818630974,\n",
       "  2617.4818391146696,\n",
       "  2607.73424576719,\n",
       "  2574.01567822329,\n",
       "  2487.8301182558102,\n",
       "  2450.80792738129,\n",
       "  2388.22475980565,\n",
       "  2297.48291892803,\n",
       "  2248.0489057326104,\n",
       "  2178.3968531817,\n",
       "  2097.81247641418,\n",
       "  2012.9392639824102,\n",
       "  1943.45676133372,\n",
       "  1940.19947212749,\n",
       "  1999.36110789901,\n",
       "  2037.6098239224302,\n",
       "  2078.71648723924,\n",
       "  1967.98,\n",
       "  1928.6843085288897,\n",
       "  1952.13604645142,\n",
       "  1968.1946089357602,\n",
       "  1911.95684573237,\n",
       "  2003.67749720121,\n",
       "  1927.0,\n",
       "  1972.6670416985,\n",
       "  1973.30718526133,\n",
       "  2018.76047881379,\n",
       "  2039.18627936605,\n",
       "  2054.17853751446,\n",
       "  2153.85109255222,\n",
       "  2197.2263252268,\n",
       "  2269.10001804591,\n",
       "  2348.23283779778,\n",
       "  2483.83546131933],\n",
       " 'Puente De Vallecas': [1344.08002441389,\n",
       "  1423.23612466915,\n",
       "  1474.97085222168,\n",
       "  1530.81896552874,\n",
       "  1599.08395299581,\n",
       "  1698.20845534526,\n",
       "  1733.74365430072,\n",
       "  1980.6197733597198,\n",
       "  2047.53938073724,\n",
       "  2197.89307725125,\n",
       "  2298.76188367958,\n",
       "  2430.17040393643,\n",
       "  2492.36528158303,\n",
       "  2531.86451355852,\n",
       "  2625.46604645998,\n",
       "  2617.89474225592,\n",
       "  2662.5265691236605,\n",
       "  2736.01021531286,\n",
       "  2842.0414342475606,\n",
       "  2980.51060590826,\n",
       "  3018.80295955832,\n",
       "  3092.1644904839,\n",
       "  3109.35309780588,\n",
       "  3138.16619810753,\n",
       "  3138.1524540638,\n",
       "  3088.7298245141997,\n",
       "  3040.43026450903,\n",
       "  3031.10223685581,\n",
       "  2990.81988318195,\n",
       "  2840.57196603283,\n",
       "  2736.67549552857,\n",
       "  2610.69241960289,\n",
       "  2493.14824943955,\n",
       "  2441.97805404821,\n",
       "  2390.3680396690397,\n",
       "  2355.14548072927,\n",
       "  2292.93216896094,\n",
       "  2236.69359440339,\n",
       "  2215.66687109328,\n",
       "  2154.8986499207604,\n",
       "  2099.71814153705,\n",
       "  2008.02651750203,\n",
       "  1959.57370848031,\n",
       "  1811.74454181538,\n",
       "  1757.5976728164,\n",
       "  1711.5758156198199,\n",
       "  1622.2124712817401,\n",
       "  1570.0055950370902,\n",
       "  1538.29448421125,\n",
       "  1493.08032922641,\n",
       "  1627.0,\n",
       "  1617.87227079199,\n",
       "  1607.87802661547,\n",
       "  1486.79,\n",
       "  1456.0213383633402,\n",
       "  1396.3058618174,\n",
       "  1421.80431878879,\n",
       "  1365.32050550732,\n",
       "  1399.39752734573,\n",
       "  1366.0,\n",
       "  1377.7251762660098,\n",
       "  1373.84731018699,\n",
       "  1399.61488660539,\n",
       "  1394.3180262198098,\n",
       "  1408.95003745622,\n",
       "  1482.92787812034,\n",
       "  1518.40348790306,\n",
       "  1582.98164238415,\n",
       "  1695.1945215701098,\n",
       "  1732.7153456916199],\n",
       " 'Retiro': [2152.36137617549,\n",
       "  2339.66300902886,\n",
       "  2425.84446609462,\n",
       "  2504.29638954548,\n",
       "  2557.59918797868,\n",
       "  2710.96162557594,\n",
       "  2847.49160051008,\n",
       "  3045.74060520898,\n",
       "  3132.28572863646,\n",
       "  3259.05195139375,\n",
       "  3395.4548447172997,\n",
       "  3597.98292114626,\n",
       "  3741.4944426949605,\n",
       "  3629.0203236094103,\n",
       "  3722.02621776177,\n",
       "  3823.94482781603,\n",
       "  3855.87184914351,\n",
       "  3924.45130543926,\n",
       "  4011.9763763292,\n",
       "  4061.4267733701704,\n",
       "  4136.822988638401,\n",
       "  4239.50385518623,\n",
       "  4321.23414240604,\n",
       "  4396.96101192635,\n",
       "  4420.7883574925,\n",
       "  4418.39023212464,\n",
       "  4417.781544637921,\n",
       "  4402.41579183466,\n",
       "  4426.547612301861,\n",
       "  4372.31851171046,\n",
       "  4313.2953423075705,\n",
       "  4211.709939341021,\n",
       "  4192.2106072589895,\n",
       "  4161.04901394364,\n",
       "  4186.61419148289,\n",
       "  4141.66915735791,\n",
       "  4189.31740074526,\n",
       "  4234.57953366748,\n",
       "  4320.51940411382,\n",
       "  4126.59025810267,\n",
       "  4169.143587078061,\n",
       "  4119.73120123248,\n",
       "  4096.6901020020705,\n",
       "  3956.5532459541996,\n",
       "  3769.5713048556604,\n",
       "  3661.3956042872996,\n",
       "  3610.5477092573797,\n",
       "  3460.47868170605,\n",
       "  3404.7971279448902,\n",
       "  3401.38550017895,\n",
       "  3538.9425611721704,\n",
       "  3322.04438910109,\n",
       "  3374.21755657973,\n",
       "  3388.85,\n",
       "  3364.7666234527196,\n",
       "  3273.7864728709,\n",
       "  3419.5961060458003,\n",
       "  3539.2005155761,\n",
       "  3458.25765100514,\n",
       "  3510.0,\n",
       "  3488.82516984677,\n",
       "  3648.2905389577295,\n",
       "  3689.4938889376795,\n",
       "  3733.7744767888503,\n",
       "  3931.4238330313,\n",
       "  4079.5737124053703,\n",
       "  4137.620941793661,\n",
       "  4353.43989592224,\n",
       "  4764.488030006401,\n",
       "  4875.669322096111],\n",
       " 'Salamanca': [2437.77633210158,\n",
       "  2533.1019935918803,\n",
       "  2615.3773522710103,\n",
       "  2825.9834537738802,\n",
       "  2902.6646725725104,\n",
       "  3113.07045586143,\n",
       "  3272.97885116101,\n",
       "  3468.4224454160603,\n",
       "  3720.9661193056395,\n",
       "  3733.72924142741,\n",
       "  3915.1361224832503,\n",
       "  3960.04641623219,\n",
       "  4140.57922960446,\n",
       "  4151.83770280383,\n",
       "  4226.12367513615,\n",
       "  4311.04207178229,\n",
       "  4459.87901917934,\n",
       "  4467.878241010089,\n",
       "  4544.03311799273,\n",
       "  4552.44610545613,\n",
       "  4659.52550451214,\n",
       "  4722.55725231207,\n",
       "  4763.6951867303205,\n",
       "  4811.6969237657,\n",
       "  4995.2778289689895,\n",
       "  5001.0079471485205,\n",
       "  5082.34397245197,\n",
       "  5015.396549316521,\n",
       "  5054.45525962971,\n",
       "  5040.81514942997,\n",
       "  5166.91185809035,\n",
       "  5201.8159012796605,\n",
       "  5054.92973261512,\n",
       "  5022.73038945178,\n",
       "  4917.637304832229,\n",
       "  4867.115710091521,\n",
       "  4865.58450462229,\n",
       "  4818.21420278128,\n",
       "  4789.10487599904,\n",
       "  4737.03804492551,\n",
       "  4563.60590860776,\n",
       "  4562.8060483344,\n",
       "  4616.48278560256,\n",
       "  4503.64075562815,\n",
       "  4388.28118104112,\n",
       "  4267.01269408759,\n",
       "  4297.22861667624,\n",
       "  4172.76977969411,\n",
       "  4040.1599456726203,\n",
       "  4004.96144843807,\n",
       "  4147.72,\n",
       "  4115.92985726021,\n",
       "  4247.47929996045,\n",
       "  4129.58,\n",
       "  4134.4160298588395,\n",
       "  4137.68367334895,\n",
       "  4218.90716220841,\n",
       "  4291.65266077507,\n",
       "  4385.20451751136,\n",
       "  4370.0,\n",
       "  4414.78273783593,\n",
       "  4531.2538546388205,\n",
       "  4612.8400793756,\n",
       "  4590.14711713743,\n",
       "  4782.25995193764,\n",
       "  5001.11173075887,\n",
       "  5252.4810376192,\n",
       "  5478.78744801985,\n",
       "  5674.981723672061,\n",
       "  5929.503382679461],\n",
       " 'San Blas': [1666.29660945609,\n",
       "  1743.7272820787,\n",
       "  1805.71341028909,\n",
       "  1851.5708929425198,\n",
       "  1908.61423863418,\n",
       "  1949.76025847735,\n",
       "  2226.56075560411,\n",
       "  2346.2582678751396,\n",
       "  2554.25984492578,\n",
       "  2581.3351619463,\n",
       "  2650.60813467157,\n",
       "  2749.46123616242,\n",
       "  2897.68700380263,\n",
       "  2968.7004381356,\n",
       "  2971.15396725367,\n",
       "  3015.23081968175,\n",
       "  3124.43649231456,\n",
       "  3176.69234526212,\n",
       "  3266.6908243861894,\n",
       "  3354.4353519471697,\n",
       "  3370.13887038573,\n",
       "  3413.62936044034,\n",
       "  3366.3596744509996,\n",
       "  3446.65040857288,\n",
       "  3450.70668882045,\n",
       "  3453.60218268776,\n",
       "  3392.0305406484804,\n",
       "  3350.1990766795197,\n",
       "  3337.26640156833,\n",
       "  3205.4655987478804,\n",
       "  3142.43714545932,\n",
       "  3097.6971586976397,\n",
       "  2987.93099296848,\n",
       "  2932.2211576129803,\n",
       "  2927.9731072109803,\n",
       "  2885.74777917005,\n",
       "  2846.7701470787,\n",
       "  2764.23979015463,\n",
       "  2767.71946348364,\n",
       "  2745.7441407343103,\n",
       "  2682.66555523272,\n",
       "  2624.2937183678,\n",
       "  2608.77424209147,\n",
       "  2529.91435313566,\n",
       "  2477.7718058365,\n",
       "  2371.77048245452,\n",
       "  2294.35607450186,\n",
       "  2175.71896573659,\n",
       "  2111.8409379951604,\n",
       "  2089.43986060406,\n",
       "  2258.52,\n",
       "  2206.0214487910002,\n",
       "  2151.7640650513,\n",
       "  2031.55,\n",
       "  2014.6437847762197,\n",
       "  1983.33625616008,\n",
       "  2038.79135128083,\n",
       "  2084.3269242332,\n",
       "  2031.9519860882,\n",
       "  2000.0,\n",
       "  2009.8664372163898,\n",
       "  2094.79943786603,\n",
       "  2128.40086390897,\n",
       "  2137.9094714368202,\n",
       "  2175.19722632412,\n",
       "  2243.75823467572,\n",
       "  2365.4673604915397,\n",
       "  2489.17346325372,\n",
       "  2523.11566405214,\n",
       "  2605.54490705273],\n",
       " 'Tetuán': [2063.82501950686,\n",
       "  2254.0267196516,\n",
       "  2287.16954294081,\n",
       "  2321.00957388047,\n",
       "  2474.37201147773,\n",
       "  2483.7233796239,\n",
       "  2783.9022971161,\n",
       "  3024.2324584727803,\n",
       "  2969.52105577573,\n",
       "  3069.33975911019,\n",
       "  3271.7980219029805,\n",
       "  3309.7331565578,\n",
       "  3462.1151407239504,\n",
       "  3401.04234611927,\n",
       "  3458.60372902443,\n",
       "  3582.6654064766103,\n",
       "  3661.9131687452,\n",
       "  3673.726749322371,\n",
       "  3748.0824323933502,\n",
       "  3764.81387321033,\n",
       "  3899.9079669827397,\n",
       "  3963.97896418851,\n",
       "  3955.1017742536296,\n",
       "  3954.3116774551204,\n",
       "  3960.7360055350396,\n",
       "  3921.8866650077794,\n",
       "  3920.09154622544,\n",
       "  3936.27053159714,\n",
       "  3901.4437289273205,\n",
       "  3806.7693197697704,\n",
       "  3740.04066807123,\n",
       "  3656.7859177376,\n",
       "  3558.7929581846997,\n",
       "  3525.4438525446203,\n",
       "  3478.68455126575,\n",
       "  3454.3583717116303,\n",
       "  3446.64735947103,\n",
       "  3419.9948993059197,\n",
       "  3423.393438496,\n",
       "  3368.9860783528397,\n",
       "  3290.69142634688,\n",
       "  3254.25980442664,\n",
       "  3201.27538038576,\n",
       "  3103.9491016023803,\n",
       "  2996.0638872176196,\n",
       "  2920.39973232187,\n",
       "  2818.69071125814,\n",
       "  2723.71930168256,\n",
       "  2730.1,\n",
       "  2642.65871485324,\n",
       "  2700.9857203284,\n",
       "  2601.97,\n",
       "  2566.70486000667,\n",
       "  2544.85289023555,\n",
       "  2578.55218136688,\n",
       "  2618.9113260646,\n",
       "  2660.70768056853,\n",
       "  2634.0,\n",
       "  2656.30108830513,\n",
       "  2713.7126269775,\n",
       "  2753.04527827359,\n",
       "  2810.50488034258,\n",
       "  2888.9773027796195,\n",
       "  3022.06428834533,\n",
       "  3073.2037457980605,\n",
       "  3150.59013255712,\n",
       "  3411.1868517606604,\n",
       "  3557.9223179105797],\n",
       " 'Usera': [1292.14858687068,\n",
       "  1331.3894198714,\n",
       "  1409.83174387472,\n",
       "  1532.68923915797,\n",
       "  1555.13252270879,\n",
       "  1731.8733806714902,\n",
       "  1897.3925968587698,\n",
       "  2032.05229816368,\n",
       "  2112.0892610960896,\n",
       "  2197.4936381823,\n",
       "  2381.01993507493,\n",
       "  2424.22717550065,\n",
       "  2520.77214416674,\n",
       "  2545.30380314065,\n",
       "  2612.50880386831,\n",
       "  2577.31021424716,\n",
       "  2689.00563627427,\n",
       "  2746.73389324619,\n",
       "  2792.55121417599,\n",
       "  2903.38746664083,\n",
       "  2981.7223422002803,\n",
       "  3001.09615597136,\n",
       "  3076.11725502263,\n",
       "  3096.2097085769,\n",
       "  3030.5603445553998,\n",
       "  3021.38535719586,\n",
       "  3019.72977163661,\n",
       "  2994.50029806629,\n",
       "  2959.7469858567997,\n",
       "  2857.7489368258803,\n",
       "  2785.99779732008,\n",
       "  2659.32128808465,\n",
       "  2584.71551476808,\n",
       "  2510.01093705722,\n",
       "  2469.37769048558,\n",
       "  2399.4157543974898,\n",
       "  2362.89324157687,\n",
       "  2298.7682744967397,\n",
       "  2274.6620975441,\n",
       "  2245.3270328420103,\n",
       "  2167.3479359436,\n",
       "  2121.59326560289,\n",
       "  2019.63657868325,\n",
       "  1941.6682045904602,\n",
       "  1877.15620879398,\n",
       "  1806.82712252198,\n",
       "  1739.35533630255,\n",
       "  1688.9654017748,\n",
       "  1655.99483211382,\n",
       "  1590.47261793255,\n",
       "  1745.36,\n",
       "  1677.92227378969,\n",
       "  1646.6240052380099,\n",
       "  1500.14,\n",
       "  1474.77577622472,\n",
       "  1470.49922788299,\n",
       "  1530.89119287662,\n",
       "  1486.01936338431,\n",
       "  1537.69954983168,\n",
       "  1494.0,\n",
       "  1501.098183041,\n",
       "  1487.5299648353198,\n",
       "  1483.3086580204802,\n",
       "  1502.8216070423498,\n",
       "  1508.9079305205898,\n",
       "  1594.92907499807,\n",
       "  1658.18083350284,\n",
       "  1710.35943811766,\n",
       "  1757.5140918895002,\n",
       "  1892.7347445707398],\n",
       " 'Vicálvaro': [1505.91052361511,\n",
       "  1523.7212082011,\n",
       "  1689.37912179268,\n",
       "  1664.5435300190302,\n",
       "  1934.7980694434698,\n",
       "  2012.41442505672,\n",
       "  2062.91181304606,\n",
       "  2040.4685294952399,\n",
       "  2189.86034720609,\n",
       "  2267.30403100962,\n",
       "  2555.82762806817,\n",
       "  2811.7023774234303,\n",
       "  2747.12000154277,\n",
       "  2721.06949585256,\n",
       "  2741.66011939814,\n",
       "  2903.66389152843,\n",
       "  2897.97084827647,\n",
       "  2954.07955122862,\n",
       "  3024.98062859511,\n",
       "  3145.28704829792,\n",
       "  3201.3256466930397,\n",
       "  3294.3617906114,\n",
       "  3158.45816269202,\n",
       "  3169.4992376709197,\n",
       "  3091.3742252786797,\n",
       "  3124.44828594682,\n",
       "  3122.28031887689,\n",
       "  3157.8779108861104,\n",
       "  3120.15836630023,\n",
       "  2966.19142798761,\n",
       "  2819.5085551000298,\n",
       "  2769.12607499405,\n",
       "  2692.4968939628698,\n",
       "  2586.75595838439,\n",
       "  2552.39607919344,\n",
       "  2571.39719244795,\n",
       "  2612.87857407441,\n",
       "  2533.15398272839,\n",
       "  2496.42813994423,\n",
       "  2463.68103433762,\n",
       "  2378.5325298032103,\n",
       "  2334.11455566169,\n",
       "  2317.38521491607,\n",
       "  2238.42698560121,\n",
       "  2167.3669625353,\n",
       "  2040.95127655233,\n",
       "  1863.9838673155602,\n",
       "  1794.4874454810897,\n",
       "  1801.89138027651,\n",
       "  1680.590387969,\n",
       "  1710.51635815638,\n",
       "  1824.63227024373,\n",
       "  1835.8165140078302,\n",
       "  1690.89,\n",
       "  1692.7938163599401,\n",
       "  1692.37585853207,\n",
       "  1753.13475412113,\n",
       "  1761.1999790885502,\n",
       "  1773.6707010941898,\n",
       "  1667.0,\n",
       "  1707.4893443581,\n",
       "  1741.00659431184,\n",
       "  1718.1403169177302,\n",
       "  1759.64129636024,\n",
       "  1775.8733938267603,\n",
       "  1798.3965470071803,\n",
       "  1833.7167724338601,\n",
       "  1938.0378614301,\n",
       "  2070.95647179575,\n",
       "  2219.0226259964],\n",
       " 'Villa De Vallecas': [1270.61727331786,\n",
       "  1451.02281592604,\n",
       "  1398.11906900026,\n",
       "  1458.8134308032002,\n",
       "  1534.55951278721,\n",
       "  1543.9108809333802,\n",
       "  1822.5816516893801,\n",
       "  1862.79253471793,\n",
       "  2020.9985335287,\n",
       "  2111.44798691996,\n",
       "  2250.19478257532,\n",
       "  2389.77264017122,\n",
       "  2356.55845726572,\n",
       "  2375.56346816101,\n",
       "  2437.7670823081303,\n",
       "  2529.8026258601003,\n",
       "  2597.5881914083498,\n",
       "  2663.0961827531,\n",
       "  2737.42183459019,\n",
       "  2879.57340202619,\n",
       "  2997.6496980207103,\n",
       "  3045.59490332135,\n",
       "  3113.13917335521,\n",
       "  3158.347982537,\n",
       "  3175.93995680773,\n",
       "  3091.3624163948803,\n",
       "  3140.7605498117796,\n",
       "  3084.2449672744106,\n",
       "  3062.98891709108,\n",
       "  2925.80946130778,\n",
       "  2830.1980814542103,\n",
       "  2779.85864831753,\n",
       "  2684.2348330831896,\n",
       "  2646.07413531175,\n",
       "  2616.7648418278895,\n",
       "  2579.15718720692,\n",
       "  2555.28814626975,\n",
       "  2462.50420816773,\n",
       "  2502.0711710199,\n",
       "  2479.64314630204,\n",
       "  2471.88648979124,\n",
       "  2430.0146146295497,\n",
       "  2394.89801898336,\n",
       "  2336.0141267478302,\n",
       "  2266.68527847621,\n",
       "  2182.86773893305,\n",
       "  2163.42747383365,\n",
       "  2083.2696113146,\n",
       "  2078.04041602521,\n",
       "  2012.15703438268,\n",
       "  2286.18,\n",
       "  2167.9710161138896,\n",
       "  2183.09124710713,\n",
       "  2010.43,\n",
       "  1987.66508441345,\n",
       "  1914.03237621215,\n",
       "  1944.63556120578,\n",
       "  1935.71697025895,\n",
       "  1978.0172044390802,\n",
       "  1903.0,\n",
       "  1925.2378911393803,\n",
       "  1901.6002789071601,\n",
       "  1973.36265808765,\n",
       "  1973.9906603380898,\n",
       "  1969.7444128849697,\n",
       "  2028.3060926904398,\n",
       "  2121.21870757199,\n",
       "  2146.91630953933,\n",
       "  2255.4418392061802,\n",
       "  2293.90244626899],\n",
       " 'Villaverde': [1110.5403031765302,\n",
       "  1179.8496633262,\n",
       "  1279.4860837554302,\n",
       "  1342.85646579063,\n",
       "  1340.05105534678,\n",
       "  1436.37014725238,\n",
       "  1692.5976344575502,\n",
       "  1736.54906474457,\n",
       "  1801.9390759667701,\n",
       "  1888.7147648902899,\n",
       "  1930.4587342476502,\n",
       "  2132.73407665715,\n",
       "  2280.63062004628,\n",
       "  2398.3362517152696,\n",
       "  2411.1632608363,\n",
       "  2528.0066391371,\n",
       "  2534.63482154891,\n",
       "  2532.4682658044603,\n",
       "  2575.7439196272303,\n",
       "  2657.29794771178,\n",
       "  2672.90185292276,\n",
       "  2764.00797750661,\n",
       "  2803.3117795837397,\n",
       "  2867.49730693443,\n",
       "  2831.83443674373,\n",
       "  2829.62369471971,\n",
       "  2839.84785761774,\n",
       "  2803.76978816306,\n",
       "  2767.58309022953,\n",
       "  2610.78339074489,\n",
       "  2503.46405088812,\n",
       "  2432.85184050286,\n",
       "  2343.6844148763503,\n",
       "  2311.80983546892,\n",
       "  2289.0843420914102,\n",
       "  2269.87408983549,\n",
       "  2203.49586652081,\n",
       "  2143.3176556299104,\n",
       "  2112.95920442752,\n",
       "  2041.68706350221,\n",
       "  1941.6042384951397,\n",
       "  1908.85264522535,\n",
       "  1863.3987849804,\n",
       "  1752.76109815507,\n",
       "  1667.18074430325,\n",
       "  1593.22643564642,\n",
       "  1520.30844664104,\n",
       "  1491.65624848289,\n",
       "  1441.2579297899301,\n",
       "  1391.36394967597,\n",
       "  1475.48,\n",
       "  1407.51154624176,\n",
       "  1298.6276976439501,\n",
       "  1234.71,\n",
       "  1217.88746422215,\n",
       "  1238.54834892286,\n",
       "  1298.23730935143,\n",
       "  1310.1010726256698,\n",
       "  1289.46752887422,\n",
       "  1245.0,\n",
       "  1307.74218029303,\n",
       "  1284.52495227814,\n",
       "  1347.91648815657,\n",
       "  1381.6087166116902,\n",
       "  1396.94411750535,\n",
       "  1406.14311127678,\n",
       "  1446.0430532415699,\n",
       "  1439.54857671817,\n",
       "  1522.71861243457,\n",
       "  1578.19726110004]}"
      ]
     },
     "execution_count": 137,
     "metadata": {},
     "output_type": "execute_result"
    }
   ],
   "source": [
    "import pandas as pd\n",
    "\n",
    "venta = pd.read_csv('dat/venta-madrid-distritos.csv', index_col=False)\n",
    "venta = venta[venta.precio.notnull()]\n",
    "precios_por_distrito = venta.groupby('distrito').precio.apply(lambda precios: precios.tolist()).to_dict()\n",
    "precios_por_distrito"
   ]
  },
  {
   "cell_type": "code",
   "execution_count": null,
   "metadata": {},
   "outputs": [],
   "source": []
  },
  {
   "cell_type": "code",
   "execution_count": null,
   "metadata": {},
   "outputs": [],
   "source": []
  },
  {
   "cell_type": "markdown",
   "metadata": {},
   "source": [
    "## Fechas\n",
    "\n",
    "En Python existen dos tipos de datos para tratar las fechas:\n",
    "\n",
    "* `date` si son referencias sin hora\n",
    "* `datetime` si incluyen la hora\n",
    "\n",
    "Podemos crearlas de la siguiente forma"
   ]
  },
  {
   "cell_type": "code",
   "execution_count": 1,
   "metadata": {},
   "outputs": [
    {
     "data": {
      "text/plain": [
       "datetime.date(2019, 1, 30)"
      ]
     },
     "execution_count": 1,
     "metadata": {},
     "output_type": "execute_result"
    }
   ],
   "source": [
    "from datetime import date, datetime\n",
    "\n",
    "fecha = date(2019, 1, 30)\n",
    "fecha"
   ]
  },
  {
   "cell_type": "code",
   "execution_count": 2,
   "metadata": {},
   "outputs": [
    {
     "data": {
      "text/plain": [
       "datetime.datetime(2019, 3, 30, 14, 35, 59)"
      ]
     },
     "execution_count": 2,
     "metadata": {},
     "output_type": "execute_result"
    }
   ],
   "source": [
    "fecha_hora = datetime(2019, 3, 30, 14, 35, 59)\n",
    "fecha_hora"
   ]
  },
  {
   "cell_type": "markdown",
   "metadata": {},
   "source": [
    "Podemos convertir (o truncar si aplica) una fecha más hora a solo fecha con `.date()`"
   ]
  },
  {
   "cell_type": "code",
   "execution_count": 3,
   "metadata": {},
   "outputs": [
    {
     "data": {
      "text/plain": [
       "datetime.date(2019, 3, 30)"
      ]
     },
     "execution_count": 3,
     "metadata": {},
     "output_type": "execute_result"
    }
   ],
   "source": [
    "fecha_hora.date()"
   ]
  },
  {
   "cell_type": "markdown",
   "metadata": {},
   "source": [
    "Tenemos dos funciones para pasar de cadena de texto a fecha y al revés:\n",
    "\n",
    "* `datetime.strftime()`: de fecha a cadena de texto (la f es de format)\n",
    "* `datetime.strptime()`: de cadena de texto a fecha (la p es de parse)"
   ]
  },
  {
   "cell_type": "code",
   "execution_count": 5,
   "metadata": {},
   "outputs": [
    {
     "data": {
      "text/plain": [
       "'2019-01-30'"
      ]
     },
     "execution_count": 5,
     "metadata": {},
     "output_type": "execute_result"
    }
   ],
   "source": [
    "fecha.strftime('%Y-%m-%d')"
   ]
  },
  {
   "cell_type": "code",
   "execution_count": null,
   "metadata": {},
   "outputs": [],
   "source": [
    "fecha_hora.strftime('%Y-%m-%d %H:%M:%S')"
   ]
  },
  {
   "cell_type": "markdown",
   "metadata": {},
   "source": [
    "Los símbolos que puedes usar los puedes consultar [aquí](http://strftime.org/)"
   ]
  },
  {
   "cell_type": "markdown",
   "metadata": {},
   "source": [
    "#### Ejercicio\n",
    "\n",
    "Formatea fecha_hora con formato 12 horas en lugar de 24 e indicando si es AM o PM"
   ]
  },
  {
   "cell_type": "code",
   "execution_count": 6,
   "metadata": {},
   "outputs": [
    {
     "data": {
      "text/plain": [
       "'2019-03-30 02:35:59PM'"
      ]
     },
     "execution_count": 6,
     "metadata": {},
     "output_type": "execute_result"
    }
   ],
   "source": [
    "fecha_hora.strftime('%Y-%m-%d %I:%M:%S%p')"
   ]
  },
  {
   "cell_type": "markdown",
   "metadata": {},
   "source": [
    "#### Ejercicio\n",
    "\n",
    "Parsea a fecha:\n",
    "\n",
    "* `'20/05/2018'`\n",
    "* `'2018-05-20'`"
   ]
  },
  {
   "cell_type": "code",
   "execution_count": 10,
   "metadata": {},
   "outputs": [
    {
     "data": {
      "text/plain": [
       "datetime.datetime(2018, 5, 20, 0, 0)"
      ]
     },
     "execution_count": 10,
     "metadata": {},
     "output_type": "execute_result"
    }
   ],
   "source": [
    "datetime.strptime('20/05/2018','%d/%m/%Y')"
   ]
  },
  {
   "cell_type": "markdown",
   "metadata": {},
   "source": [
    "Podemos sumar o restar periodos (p.e. días) con `timedelta`"
   ]
  },
  {
   "cell_type": "code",
   "execution_count": 11,
   "metadata": {},
   "outputs": [
    {
     "data": {
      "text/plain": [
       "datetime.datetime(2018, 5, 20, 0, 0)"
      ]
     },
     "execution_count": 11,
     "metadata": {},
     "output_type": "execute_result"
    }
   ],
   "source": [
    "datetime.strptime('2018-05-20','%Y-%m-%d')"
   ]
  },
  {
   "cell_type": "code",
   "execution_count": 12,
   "metadata": {},
   "outputs": [
    {
     "data": {
      "text/plain": [
       "datetime.date(2019, 2, 4)"
      ]
     },
     "execution_count": 12,
     "metadata": {},
     "output_type": "execute_result"
    }
   ],
   "source": [
    "from datetime import timedelta\n",
    "\n",
    "fecha + timedelta(days=5)"
   ]
  },
  {
   "cell_type": "markdown",
   "metadata": {},
   "source": [
    "## Funciones\n",
    "\n",
    "Durante el desarrollo de este curso, hemos definido varias funciones `lambda`. Son funciones pequeñas, típicamente _oneliners_, pensadas para hacer operaciones simples en una línea. Pero frecuentementese se hace necesario desarrollar transformaciones más complejas.\n",
    "\n",
    "Comenzaremos viendo cómo definir funciones y, después, cómo añadirles expresiones de control de código.\n",
    "\n",
    "### Definición de funciones\n",
    "\n",
    "La definción de una función comienza con `def` y termina con `:`. El cuerpo de la función está indentado y la definción de la función termina ahí donde termina la indentación. De hecho, en Python los bloques de código no están definidos, como en otros lenguajes con `{}` o bloques `BEGIN...END` sino por la indentación (que es obligatoria)."
   ]
  },
  {
   "cell_type": "code",
   "execution_count": 13,
   "metadata": {},
   "outputs": [
    {
     "data": {
      "text/plain": [
       "'2500 $'"
      ]
     },
     "execution_count": 13,
     "metadata": {},
     "output_type": "execute_result"
    }
   ],
   "source": [
    "def formatea_precio(precio, simbolo):\n",
    "    precio_string = str(precio)\n",
    "    return precio_string + simbolo\n",
    "\n",
    "formatea_precio(2500, ' $')"
   ]
  },
  {
   "cell_type": "code",
   "execution_count": 19,
   "metadata": {},
   "outputs": [
    {
     "data": {
      "text/plain": [
       "'2500$'"
      ]
     },
     "execution_count": 19,
     "metadata": {},
     "output_type": "execute_result"
    }
   ],
   "source": [
    "formatea_precio(precio=2500,simbolo='$')\n"
   ]
  },
  {
   "cell_type": "markdown",
   "metadata": {},
   "source": [
    "Una función que devuelva un resultado necesita obligatoriamente terminar con una expresión `return`. Si se omite, devolverá `None`."
   ]
  },
  {
   "cell_type": "markdown",
   "metadata": {
    "collapsed": true
   },
   "source": [
    "### Bucles\n",
    "\n",
    "Los bucles son similares a los de muchos otros lenguajes. Como en la definición de las funciones, el bloque de código que sigue a la expresión `for` está indentado."
   ]
  },
  {
   "cell_type": "code",
   "execution_count": 26,
   "metadata": {},
   "outputs": [
    {
     "name": "stdout",
     "output_type": "stream",
     "text": [
      "1$\n",
      "2$\n",
      "3$\n",
      "4$\n"
     ]
    }
   ],
   "source": [
    "def formatea_precio(precio, simbolo):\n",
    "    precio_string = str(precio)\n",
    "    return precio_string + simbolo\n",
    "precios= [1,2,3,4]\n",
    "for precio in precios:\n",
    "    print(formatea_precio(precio, '$'))"
   ]
  },
  {
   "cell_type": "markdown",
   "metadata": {},
   "source": [
    "Las _list comprehensions_ evitan la necesidad de construir muchos bucles."
   ]
  },
  {
   "cell_type": "markdown",
   "metadata": {},
   "source": [
    "### Expresiones condicionales\n",
    "\n",
    "Como en casi todos los lenguajes de programación, se pueden usar expresiones condicionales con la consabida estructura\n",
    "\n",
    "```\n",
    "if condicion:\n",
    "    ...\n",
    "```\n",
    "\n",
    "o, alternativamente, \n",
    "```\n",
    "if condicion:\n",
    "    ...\n",
    "elif:\n",
    "    ...\n",
    "else:\n",
    "    ...\n",
    "```\n",
    "\n",
    "De nuevo, los bloques de código que siguen tanto a la expresión `for` como a `else` tienen que estar indentados."
   ]
  },
  {
   "cell_type": "markdown",
   "metadata": {},
   "source": [
    "#### Ejercicio\n",
    "\n",
    "Construye una función que, dado un precio y un umbral, devuelva la cadena `caro` o `barato` según si el precio está por encima o por debajo del umbral. Crea entonces una columna adicional en `venta` usando como umbral la mediana del precio."
   ]
  },
  {
   "cell_type": "code",
   "execution_count": 41,
   "metadata": {},
   "outputs": [
    {
     "data": {
      "text/html": [
       "<div>\n",
       "<style scoped>\n",
       "    .dataframe tbody tr th:only-of-type {\n",
       "        vertical-align: middle;\n",
       "    }\n",
       "\n",
       "    .dataframe tbody tr th {\n",
       "        vertical-align: top;\n",
       "    }\n",
       "\n",
       "    .dataframe thead th {\n",
       "        text-align: right;\n",
       "    }\n",
       "</style>\n",
       "<table border=\"1\" class=\"dataframe\">\n",
       "  <thead>\n",
       "    <tr style=\"text-align: right;\">\n",
       "      <th></th>\n",
       "      <th>distrito</th>\n",
       "      <th>ano</th>\n",
       "      <th>quarter</th>\n",
       "      <th>precio</th>\n",
       "      <th>caro_barato</th>\n",
       "    </tr>\n",
       "  </thead>\n",
       "  <tbody>\n",
       "    <tr>\n",
       "      <td>1465</td>\n",
       "      <td>Tetuán</td>\n",
       "      <td>2018</td>\n",
       "      <td>2</td>\n",
       "      <td>3557.922318</td>\n",
       "      <td>caro</td>\n",
       "    </tr>\n",
       "    <tr>\n",
       "      <td>1466</td>\n",
       "      <td>Usera</td>\n",
       "      <td>2018</td>\n",
       "      <td>2</td>\n",
       "      <td>1892.734745</td>\n",
       "      <td>barato</td>\n",
       "    </tr>\n",
       "    <tr>\n",
       "      <td>1467</td>\n",
       "      <td>Vicálvaro</td>\n",
       "      <td>2018</td>\n",
       "      <td>2</td>\n",
       "      <td>2219.022626</td>\n",
       "      <td>barato</td>\n",
       "    </tr>\n",
       "    <tr>\n",
       "      <td>1468</td>\n",
       "      <td>Villa De Vallecas</td>\n",
       "      <td>2018</td>\n",
       "      <td>2</td>\n",
       "      <td>2293.902446</td>\n",
       "      <td>barato</td>\n",
       "    </tr>\n",
       "    <tr>\n",
       "      <td>1469</td>\n",
       "      <td>Villaverde</td>\n",
       "      <td>2018</td>\n",
       "      <td>2</td>\n",
       "      <td>1578.197261</td>\n",
       "      <td>barato</td>\n",
       "    </tr>\n",
       "  </tbody>\n",
       "</table>\n",
       "</div>"
      ],
      "text/plain": [
       "               distrito   ano  quarter       precio caro_barato\n",
       "1465             Tetuán  2018        2  3557.922318        caro\n",
       "1466              Usera  2018        2  1892.734745      barato\n",
       "1467          Vicálvaro  2018        2  2219.022626      barato\n",
       "1468  Villa De Vallecas  2018        2  2293.902446      barato\n",
       "1469         Villaverde  2018        2  1578.197261      barato"
      ]
     },
     "execution_count": 41,
     "metadata": {},
     "output_type": "execute_result"
    }
   ],
   "source": [
    "import pandas as pd\n",
    "venta = pd.read_csv('dat/venta-madrid-distritos.csv', index_col=False)\n",
    "venta = venta[venta.precio.notnull()]\n",
    "\n",
    "# 1. Defino la función\n",
    "def caro_o_barato(precio, umbral):\n",
    "    if precio > umbral:\n",
    "        return 'caro'\n",
    "    else:\n",
    "        return 'barato'\n",
    "caro_o_barato(2400, 3000)\n",
    "# 2. Guardo en una variable la mediana del precio\n",
    "umbral_venta = venta.precio.median()\n",
    "# 3. Creo la nueva columna sobre venta\n",
    "venta['caro_barato'] = venta.apply(lambda fila: caro_o_barato(fila.precio, umbral_venta), axis=1)\n",
    "venta.tail()\n"
   ]
  },
  {
   "cell_type": "code",
   "execution_count": 46,
   "metadata": {},
   "outputs": [
    {
     "data": {
      "text/html": [
       "<div>\n",
       "<style scoped>\n",
       "    .dataframe tbody tr th:only-of-type {\n",
       "        vertical-align: middle;\n",
       "    }\n",
       "\n",
       "    .dataframe tbody tr th {\n",
       "        vertical-align: top;\n",
       "    }\n",
       "\n",
       "    .dataframe thead th {\n",
       "        text-align: right;\n",
       "    }\n",
       "</style>\n",
       "<table border=\"1\" class=\"dataframe\">\n",
       "  <thead>\n",
       "    <tr style=\"text-align: right;\">\n",
       "      <th></th>\n",
       "      <th>distrito</th>\n",
       "      <th>ano</th>\n",
       "      <th>quarter</th>\n",
       "      <th>precio</th>\n",
       "      <th>precio_mediana</th>\n",
       "      <th>caro_barato</th>\n",
       "    </tr>\n",
       "  </thead>\n",
       "  <tbody>\n",
       "    <tr>\n",
       "      <td>0</td>\n",
       "      <td>Arganzuela</td>\n",
       "      <td>2001</td>\n",
       "      <td>1</td>\n",
       "      <td>1920.406575</td>\n",
       "      <td>3204.209495</td>\n",
       "      <td>barato</td>\n",
       "    </tr>\n",
       "    <tr>\n",
       "      <td>1</td>\n",
       "      <td>Arganzuela</td>\n",
       "      <td>2001</td>\n",
       "      <td>2</td>\n",
       "      <td>1989.755278</td>\n",
       "      <td>3204.209495</td>\n",
       "      <td>barato</td>\n",
       "    </tr>\n",
       "    <tr>\n",
       "      <td>2</td>\n",
       "      <td>Arganzuela</td>\n",
       "      <td>2001</td>\n",
       "      <td>3</td>\n",
       "      <td>1974.715394</td>\n",
       "      <td>3204.209495</td>\n",
       "      <td>barato</td>\n",
       "    </tr>\n",
       "    <tr>\n",
       "      <td>3</td>\n",
       "      <td>Arganzuela</td>\n",
       "      <td>2001</td>\n",
       "      <td>4</td>\n",
       "      <td>2027.376614</td>\n",
       "      <td>3204.209495</td>\n",
       "      <td>barato</td>\n",
       "    </tr>\n",
       "    <tr>\n",
       "      <td>4</td>\n",
       "      <td>Arganzuela</td>\n",
       "      <td>2002</td>\n",
       "      <td>1</td>\n",
       "      <td>2150.814674</td>\n",
       "      <td>3204.209495</td>\n",
       "      <td>barato</td>\n",
       "    </tr>\n",
       "  </tbody>\n",
       "</table>\n",
       "</div>"
      ],
      "text/plain": [
       "     distrito   ano  quarter       precio  precio_mediana caro_barato\n",
       "0  Arganzuela  2001        1  1920.406575     3204.209495      barato\n",
       "1  Arganzuela  2001        2  1989.755278     3204.209495      barato\n",
       "2  Arganzuela  2001        3  1974.715394     3204.209495      barato\n",
       "3  Arganzuela  2001        4  2027.376614     3204.209495      barato\n",
       "4  Arganzuela  2002        1  2150.814674     3204.209495      barato"
      ]
     },
     "execution_count": 46,
     "metadata": {},
     "output_type": "execute_result"
    }
   ],
   "source": [
    "# 1. Defino la función\n",
    "venta = venta.drop(columns=\"caro_barato\")\n",
    "# 2. Extraigo la mediana por cada distrito \n",
    "venta.groupby('distrito').precio.median().reset_index()\n",
    "medianas_distrito= venta.groupby('distrito').precio.median().reset_index()\n",
    "medianas_distrito = medianas_distrito.rename(columns= {'precio':'precio_mediana'})\n",
    "# 3. añado la columna con la mediana a mi df origen\n",
    "cruce = venta.merge(medianas_distrito, on='distrito')\n",
    "# Creo la nueva columna precio barato a mi df origen\n",
    "cruce['caro_barato'] = cruce.apply(lambda fila: caro_o_barato(fila.precio, fila.precio_mediana), axis=1)\n",
    "cruce.head()"
   ]
  },
  {
   "cell_type": "markdown",
   "metadata": {},
   "source": [
    "#### Ejercicio\n",
    "\n",
    "Usa la función del ejercicio anterior, bucles, etc. para crear una columna adicional en `alquileres` que indique si el precio de un piso es caro o barato según supere o no la mediana de precios de su distrito."
   ]
  },
  {
   "cell_type": "code",
   "execution_count": null,
   "metadata": {},
   "outputs": [],
   "source": []
  },
  {
   "cell_type": "markdown",
   "metadata": {},
   "source": [
    "## El groupby más genérico\n",
    "\n",
    "Los ejemplos de agrupaciones que vimos en el notebook de pandas están pensados para los casos más típicos: sacar algunas estadísticas como medias, máximos, ... de una o varias columnas.\n",
    "\n",
    "Pero habitualmente necesitamos funciones más flexibles, que implican aplicar funciones propias a cada uno de los grupos. Para hacer esto, podemos utilizar `apply` y devolver una `Series`.\n",
    "\n",
    "Aunque, no debemos abusar de ellos. Si hay una alternativa a nuestro `apply` + función propia como las de arriba (`mean`, `max`, ...), serán mucho más eficientes (más rápidas!).\n",
    "\n",
    "Por ejemplo, vamos a devolver la diferencia relativa de precio entre el primer y último dato de cada distrito."
   ]
  },
  {
   "cell_type": "code",
   "execution_count": null,
   "metadata": {},
   "outputs": [],
   "source": [
    "def calcula_diferencia_relativa_precio(grupo):\n",
    "    # Ordenamos cronológicamente\n",
    "    grupo = grupo.sort_values(['ano', 'quarter'])\n",
    "    \n",
    "    # Cogemos el primero (dato más antiguo) y el último (más reciente)\n",
    "    precio_mas_antiguo = grupo.precio.iloc[0]\n",
    "    precio_mas_reciente = grupo.precio.iloc[-1]\n",
    "\n",
    "    # Queremos el incremento relativo\n",
    "    diferencia = (precio_mas_reciente - precio_mas_antiguo) / precio_mas_antiguo\n",
    "\n",
    "    # Lo devolvemos como pd.Series\n",
    "    return pd.Series({'incremento_precio_relativo': diferencia})\n",
    "\n",
    "alquiler.groupby('distrito').apply(calcula_diferencia_relativa_precio).reset_index()"
   ]
  },
  {
   "cell_type": "markdown",
   "metadata": {},
   "source": [
    "Con estas funciones personalizadas, también podemos devolver varias filas por cada grupo.\n",
    "\n",
    "Por ejemplo, vamos a devolver dos filas por grupo. Queremos saber, para cada distrito, cuándo y con qué valor se alcanzan los máximos y mínimos de precios."
   ]
  },
  {
   "cell_type": "code",
   "execution_count": 49,
   "metadata": {},
   "outputs": [
    {
     "data": {
      "text/html": [
       "<div>\n",
       "<style scoped>\n",
       "    .dataframe tbody tr th:only-of-type {\n",
       "        vertical-align: middle;\n",
       "    }\n",
       "\n",
       "    .dataframe tbody tr th {\n",
       "        vertical-align: top;\n",
       "    }\n",
       "\n",
       "    .dataframe thead th {\n",
       "        text-align: right;\n",
       "    }\n",
       "</style>\n",
       "<table border=\"1\" class=\"dataframe\">\n",
       "  <thead>\n",
       "    <tr style=\"text-align: right;\">\n",
       "      <th></th>\n",
       "      <th>distrito</th>\n",
       "      <th>tipo</th>\n",
       "      <th>ano</th>\n",
       "      <th>quarter</th>\n",
       "      <th>precio</th>\n",
       "    </tr>\n",
       "  </thead>\n",
       "  <tbody>\n",
       "    <tr>\n",
       "      <td>0</td>\n",
       "      <td>Arganzuela</td>\n",
       "      <td>minimo</td>\n",
       "      <td>2014</td>\n",
       "      <td>2</td>\n",
       "      <td>10.680000</td>\n",
       "    </tr>\n",
       "    <tr>\n",
       "      <td>1</td>\n",
       "      <td>Arganzuela</td>\n",
       "      <td>maximo</td>\n",
       "      <td>2018</td>\n",
       "      <td>1</td>\n",
       "      <td>14.851932</td>\n",
       "    </tr>\n",
       "    <tr>\n",
       "      <td>2</td>\n",
       "      <td>Barajas</td>\n",
       "      <td>minimo</td>\n",
       "      <td>2014</td>\n",
       "      <td>4</td>\n",
       "      <td>9.488644</td>\n",
       "    </tr>\n",
       "    <tr>\n",
       "      <td>3</td>\n",
       "      <td>Barajas</td>\n",
       "      <td>maximo</td>\n",
       "      <td>2018</td>\n",
       "      <td>1</td>\n",
       "      <td>12.748770</td>\n",
       "    </tr>\n",
       "    <tr>\n",
       "      <td>4</td>\n",
       "      <td>Carabanchel</td>\n",
       "      <td>minimo</td>\n",
       "      <td>2014</td>\n",
       "      <td>3</td>\n",
       "      <td>8.161351</td>\n",
       "    </tr>\n",
       "    <tr>\n",
       "      <td>5</td>\n",
       "      <td>Carabanchel</td>\n",
       "      <td>maximo</td>\n",
       "      <td>2007</td>\n",
       "      <td>4</td>\n",
       "      <td>12.160093</td>\n",
       "    </tr>\n",
       "    <tr>\n",
       "      <td>6</td>\n",
       "      <td>Centro</td>\n",
       "      <td>minimo</td>\n",
       "      <td>2013</td>\n",
       "      <td>4</td>\n",
       "      <td>13.382205</td>\n",
       "    </tr>\n",
       "    <tr>\n",
       "      <td>7</td>\n",
       "      <td>Centro</td>\n",
       "      <td>maximo</td>\n",
       "      <td>2018</td>\n",
       "      <td>1</td>\n",
       "      <td>19.308607</td>\n",
       "    </tr>\n",
       "    <tr>\n",
       "      <td>8</td>\n",
       "      <td>Chamartín</td>\n",
       "      <td>minimo</td>\n",
       "      <td>2013</td>\n",
       "      <td>2</td>\n",
       "      <td>12.062166</td>\n",
       "    </tr>\n",
       "    <tr>\n",
       "      <td>9</td>\n",
       "      <td>Chamartín</td>\n",
       "      <td>maximo</td>\n",
       "      <td>2018</td>\n",
       "      <td>2</td>\n",
       "      <td>16.606506</td>\n",
       "    </tr>\n",
       "    <tr>\n",
       "      <td>10</td>\n",
       "      <td>Chamberí</td>\n",
       "      <td>minimo</td>\n",
       "      <td>2013</td>\n",
       "      <td>3</td>\n",
       "      <td>12.960000</td>\n",
       "    </tr>\n",
       "    <tr>\n",
       "      <td>11</td>\n",
       "      <td>Chamberí</td>\n",
       "      <td>maximo</td>\n",
       "      <td>2018</td>\n",
       "      <td>2</td>\n",
       "      <td>17.749769</td>\n",
       "    </tr>\n",
       "    <tr>\n",
       "      <td>12</td>\n",
       "      <td>Ciudad Lineal</td>\n",
       "      <td>minimo</td>\n",
       "      <td>2014</td>\n",
       "      <td>3</td>\n",
       "      <td>10.046880</td>\n",
       "    </tr>\n",
       "    <tr>\n",
       "      <td>13</td>\n",
       "      <td>Ciudad Lineal</td>\n",
       "      <td>maximo</td>\n",
       "      <td>2008</td>\n",
       "      <td>2</td>\n",
       "      <td>13.294499</td>\n",
       "    </tr>\n",
       "    <tr>\n",
       "      <td>14</td>\n",
       "      <td>Fuencarral</td>\n",
       "      <td>minimo</td>\n",
       "      <td>2014</td>\n",
       "      <td>3</td>\n",
       "      <td>9.800882</td>\n",
       "    </tr>\n",
       "    <tr>\n",
       "      <td>15</td>\n",
       "      <td>Fuencarral</td>\n",
       "      <td>maximo</td>\n",
       "      <td>2018</td>\n",
       "      <td>2</td>\n",
       "      <td>12.120647</td>\n",
       "    </tr>\n",
       "    <tr>\n",
       "      <td>16</td>\n",
       "      <td>Hortaleza</td>\n",
       "      <td>minimo</td>\n",
       "      <td>2014</td>\n",
       "      <td>4</td>\n",
       "      <td>10.319664</td>\n",
       "    </tr>\n",
       "    <tr>\n",
       "      <td>17</td>\n",
       "      <td>Hortaleza</td>\n",
       "      <td>maximo</td>\n",
       "      <td>2018</td>\n",
       "      <td>2</td>\n",
       "      <td>13.429745</td>\n",
       "    </tr>\n",
       "    <tr>\n",
       "      <td>18</td>\n",
       "      <td>Latina</td>\n",
       "      <td>minimo</td>\n",
       "      <td>2013</td>\n",
       "      <td>4</td>\n",
       "      <td>8.454916</td>\n",
       "    </tr>\n",
       "    <tr>\n",
       "      <td>19</td>\n",
       "      <td>Latina</td>\n",
       "      <td>maximo</td>\n",
       "      <td>2008</td>\n",
       "      <td>2</td>\n",
       "      <td>11.909451</td>\n",
       "    </tr>\n",
       "    <tr>\n",
       "      <td>20</td>\n",
       "      <td>Moncloa</td>\n",
       "      <td>minimo</td>\n",
       "      <td>2013</td>\n",
       "      <td>4</td>\n",
       "      <td>11.360389</td>\n",
       "    </tr>\n",
       "    <tr>\n",
       "      <td>21</td>\n",
       "      <td>Moncloa</td>\n",
       "      <td>maximo</td>\n",
       "      <td>2018</td>\n",
       "      <td>2</td>\n",
       "      <td>15.189176</td>\n",
       "    </tr>\n",
       "    <tr>\n",
       "      <td>22</td>\n",
       "      <td>Moratalaz</td>\n",
       "      <td>minimo</td>\n",
       "      <td>2013</td>\n",
       "      <td>4</td>\n",
       "      <td>8.330494</td>\n",
       "    </tr>\n",
       "    <tr>\n",
       "      <td>23</td>\n",
       "      <td>Moratalaz</td>\n",
       "      <td>maximo</td>\n",
       "      <td>2008</td>\n",
       "      <td>2</td>\n",
       "      <td>11.925685</td>\n",
       "    </tr>\n",
       "    <tr>\n",
       "      <td>24</td>\n",
       "      <td>Puente De Vallecas</td>\n",
       "      <td>minimo</td>\n",
       "      <td>2014</td>\n",
       "      <td>4</td>\n",
       "      <td>8.066116</td>\n",
       "    </tr>\n",
       "    <tr>\n",
       "      <td>25</td>\n",
       "      <td>Puente De Vallecas</td>\n",
       "      <td>maximo</td>\n",
       "      <td>2008</td>\n",
       "      <td>2</td>\n",
       "      <td>12.418160</td>\n",
       "    </tr>\n",
       "    <tr>\n",
       "      <td>26</td>\n",
       "      <td>Retiro</td>\n",
       "      <td>minimo</td>\n",
       "      <td>2013</td>\n",
       "      <td>3</td>\n",
       "      <td>11.350000</td>\n",
       "    </tr>\n",
       "    <tr>\n",
       "      <td>27</td>\n",
       "      <td>Retiro</td>\n",
       "      <td>maximo</td>\n",
       "      <td>2017</td>\n",
       "      <td>4</td>\n",
       "      <td>15.918052</td>\n",
       "    </tr>\n",
       "    <tr>\n",
       "      <td>28</td>\n",
       "      <td>Salamanca</td>\n",
       "      <td>minimo</td>\n",
       "      <td>2013</td>\n",
       "      <td>4</td>\n",
       "      <td>13.293066</td>\n",
       "    </tr>\n",
       "    <tr>\n",
       "      <td>29</td>\n",
       "      <td>Salamanca</td>\n",
       "      <td>maximo</td>\n",
       "      <td>2018</td>\n",
       "      <td>2</td>\n",
       "      <td>19.089243</td>\n",
       "    </tr>\n",
       "    <tr>\n",
       "      <td>30</td>\n",
       "      <td>San Blas</td>\n",
       "      <td>minimo</td>\n",
       "      <td>2014</td>\n",
       "      <td>3</td>\n",
       "      <td>9.169139</td>\n",
       "    </tr>\n",
       "    <tr>\n",
       "      <td>31</td>\n",
       "      <td>San Blas</td>\n",
       "      <td>maximo</td>\n",
       "      <td>2008</td>\n",
       "      <td>2</td>\n",
       "      <td>12.987816</td>\n",
       "    </tr>\n",
       "    <tr>\n",
       "      <td>32</td>\n",
       "      <td>Tetuan</td>\n",
       "      <td>minimo</td>\n",
       "      <td>2013</td>\n",
       "      <td>2</td>\n",
       "      <td>10.559129</td>\n",
       "    </tr>\n",
       "    <tr>\n",
       "      <td>33</td>\n",
       "      <td>Tetuan</td>\n",
       "      <td>maximo</td>\n",
       "      <td>2017</td>\n",
       "      <td>4</td>\n",
       "      <td>15.332326</td>\n",
       "    </tr>\n",
       "    <tr>\n",
       "      <td>34</td>\n",
       "      <td>Usera</td>\n",
       "      <td>minimo</td>\n",
       "      <td>2014</td>\n",
       "      <td>3</td>\n",
       "      <td>8.397848</td>\n",
       "    </tr>\n",
       "    <tr>\n",
       "      <td>35</td>\n",
       "      <td>Usera</td>\n",
       "      <td>maximo</td>\n",
       "      <td>2008</td>\n",
       "      <td>2</td>\n",
       "      <td>12.418846</td>\n",
       "    </tr>\n",
       "    <tr>\n",
       "      <td>36</td>\n",
       "      <td>Vicálvaro</td>\n",
       "      <td>minimo</td>\n",
       "      <td>2014</td>\n",
       "      <td>3</td>\n",
       "      <td>7.910698</td>\n",
       "    </tr>\n",
       "    <tr>\n",
       "      <td>37</td>\n",
       "      <td>Vicálvaro</td>\n",
       "      <td>maximo</td>\n",
       "      <td>2008</td>\n",
       "      <td>2</td>\n",
       "      <td>10.850731</td>\n",
       "    </tr>\n",
       "    <tr>\n",
       "      <td>38</td>\n",
       "      <td>Villa De Vallecas</td>\n",
       "      <td>minimo</td>\n",
       "      <td>2014</td>\n",
       "      <td>3</td>\n",
       "      <td>8.508580</td>\n",
       "    </tr>\n",
       "    <tr>\n",
       "      <td>39</td>\n",
       "      <td>Villa De Vallecas</td>\n",
       "      <td>maximo</td>\n",
       "      <td>2007</td>\n",
       "      <td>4</td>\n",
       "      <td>11.282086</td>\n",
       "    </tr>\n",
       "    <tr>\n",
       "      <td>40</td>\n",
       "      <td>Villaverde</td>\n",
       "      <td>minimo</td>\n",
       "      <td>2014</td>\n",
       "      <td>3</td>\n",
       "      <td>7.591541</td>\n",
       "    </tr>\n",
       "    <tr>\n",
       "      <td>41</td>\n",
       "      <td>Villaverde</td>\n",
       "      <td>maximo</td>\n",
       "      <td>2008</td>\n",
       "      <td>2</td>\n",
       "      <td>11.234841</td>\n",
       "    </tr>\n",
       "  </tbody>\n",
       "</table>\n",
       "</div>"
      ],
      "text/plain": [
       "              distrito    tipo   ano  quarter     precio\n",
       "0           Arganzuela  minimo  2014        2  10.680000\n",
       "1           Arganzuela  maximo  2018        1  14.851932\n",
       "2              Barajas  minimo  2014        4   9.488644\n",
       "3              Barajas  maximo  2018        1  12.748770\n",
       "4          Carabanchel  minimo  2014        3   8.161351\n",
       "5          Carabanchel  maximo  2007        4  12.160093\n",
       "6               Centro  minimo  2013        4  13.382205\n",
       "7               Centro  maximo  2018        1  19.308607\n",
       "8            Chamartín  minimo  2013        2  12.062166\n",
       "9            Chamartín  maximo  2018        2  16.606506\n",
       "10            Chamberí  minimo  2013        3  12.960000\n",
       "11            Chamberí  maximo  2018        2  17.749769\n",
       "12       Ciudad Lineal  minimo  2014        3  10.046880\n",
       "13       Ciudad Lineal  maximo  2008        2  13.294499\n",
       "14          Fuencarral  minimo  2014        3   9.800882\n",
       "15          Fuencarral  maximo  2018        2  12.120647\n",
       "16           Hortaleza  minimo  2014        4  10.319664\n",
       "17           Hortaleza  maximo  2018        2  13.429745\n",
       "18              Latina  minimo  2013        4   8.454916\n",
       "19              Latina  maximo  2008        2  11.909451\n",
       "20             Moncloa  minimo  2013        4  11.360389\n",
       "21             Moncloa  maximo  2018        2  15.189176\n",
       "22           Moratalaz  minimo  2013        4   8.330494\n",
       "23           Moratalaz  maximo  2008        2  11.925685\n",
       "24  Puente De Vallecas  minimo  2014        4   8.066116\n",
       "25  Puente De Vallecas  maximo  2008        2  12.418160\n",
       "26              Retiro  minimo  2013        3  11.350000\n",
       "27              Retiro  maximo  2017        4  15.918052\n",
       "28           Salamanca  minimo  2013        4  13.293066\n",
       "29           Salamanca  maximo  2018        2  19.089243\n",
       "30            San Blas  minimo  2014        3   9.169139\n",
       "31            San Blas  maximo  2008        2  12.987816\n",
       "32              Tetuan  minimo  2013        2  10.559129\n",
       "33              Tetuan  maximo  2017        4  15.332326\n",
       "34               Usera  minimo  2014        3   8.397848\n",
       "35               Usera  maximo  2008        2  12.418846\n",
       "36           Vicálvaro  minimo  2014        3   7.910698\n",
       "37           Vicálvaro  maximo  2008        2  10.850731\n",
       "38   Villa De Vallecas  minimo  2014        3   8.508580\n",
       "39   Villa De Vallecas  maximo  2007        4  11.282086\n",
       "40          Villaverde  minimo  2014        3   7.591541\n",
       "41          Villaverde  maximo  2008        2  11.234841"
      ]
     },
     "execution_count": 49,
     "metadata": {},
     "output_type": "execute_result"
    }
   ],
   "source": [
    "def get_rent_min_max(grupo):\n",
    "    # Ordenamos por precio\n",
    "    grupo = grupo.sort_values('precio')\n",
    "    \n",
    "    # Cogemos el primero (mínimo) y el último (máximo)\n",
    "    minimo = grupo.iloc[0]\n",
    "    maximo = grupo.iloc[-1]\n",
    "\n",
    "    # Devolvemos estas filas nuevas\n",
    "    nuevo_dataframe = pd.DataFrame({\n",
    "        'tipo': ['minimo', 'maximo'],\n",
    "        'ano': [minimo.ano, maximo.ano],\n",
    "        'quarter': [minimo.quarter, maximo.quarter],\n",
    "        'precio': [minimo.precio, maximo.precio],\n",
    "    })\n",
    "\n",
    "    return nuevo_dataframe\n",
    "\n",
    "resultado = alquiler.groupby('distrito').apply(get_rent_min_max).reset_index()\n",
    "\n",
    "# al hacer esto, sale una columna \"fea\" resultado de incluir un dataframe dentro de otro\n",
    "# podemos eliminarla con drop\n",
    "resultado.drop(columns=[\"level_1\"])"
   ]
  },
  {
   "cell_type": "code",
   "execution_count": null,
   "metadata": {},
   "outputs": [],
   "source": []
  }
 ],
 "metadata": {
  "kernelspec": {
   "display_name": "Python 3",
   "language": "python",
   "name": "python3"
  },
  "language_info": {
   "codemirror_mode": {
    "name": "ipython",
    "version": 3
   },
   "file_extension": ".py",
   "mimetype": "text/x-python",
   "name": "python",
   "nbconvert_exporter": "python",
   "pygments_lexer": "ipython3",
   "version": "3.7.4"
  }
 },
 "nbformat": 4,
 "nbformat_minor": 2
}

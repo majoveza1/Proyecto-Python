{
 "cells": [
  {
   "cell_type": "markdown",
   "metadata": {},
   "source": [
    " \n",
    "## Paso 1: Cargar las librerias:"
   ]
  },
  {
   "cell_type": "code",
   "execution_count": 10,
   "metadata": {
    "scrolled": true
   },
   "outputs": [
    {
     "data": {
      "text/html": [
       "<div>\n",
       "<style scoped>\n",
       "    .dataframe tbody tr th:only-of-type {\n",
       "        vertical-align: middle;\n",
       "    }\n",
       "\n",
       "    .dataframe tbody tr th {\n",
       "        vertical-align: top;\n",
       "    }\n",
       "\n",
       "    .dataframe thead th {\n",
       "        text-align: right;\n",
       "    }\n",
       "</style>\n",
       "<table border=\"1\" class=\"dataframe\">\n",
       "  <thead>\n",
       "    <tr style=\"text-align: right;\">\n",
       "      <th></th>\n",
       "      <th>id_usuario</th>\n",
       "      <th>nombre</th>\n",
       "      <th>id_host</th>\n",
       "      <th>nombre_host</th>\n",
       "      <th>grupo</th>\n",
       "      <th>barrio</th>\n",
       "      <th>latitud</th>\n",
       "      <th>longitud</th>\n",
       "      <th>tipo_habitacion</th>\n",
       "      <th>precio</th>\n",
       "      <th>noches_minimas</th>\n",
       "      <th>numero_visitas</th>\n",
       "      <th>ultima_visita</th>\n",
       "      <th>visitas_mes</th>\n",
       "      <th>lista_host</th>\n",
       "      <th>disponibilidad</th>\n",
       "      <th>ciudad</th>\n",
       "    </tr>\n",
       "  </thead>\n",
       "  <tbody>\n",
       "    <tr>\n",
       "      <td>0</td>\n",
       "      <td>18666</td>\n",
       "      <td>Flat with Sunny Terrace</td>\n",
       "      <td>71615</td>\n",
       "      <td>Mireia And Maria</td>\n",
       "      <td>Sant Martí</td>\n",
       "      <td>el Camp de l'Arpa del Clot</td>\n",
       "      <td>41.40889</td>\n",
       "      <td>2.18555</td>\n",
       "      <td>Entire home/apt</td>\n",
       "      <td>130.0</td>\n",
       "      <td>3</td>\n",
       "      <td>1</td>\n",
       "      <td>2015-10-10</td>\n",
       "      <td>0.02</td>\n",
       "      <td>31</td>\n",
       "      <td>251</td>\n",
       "      <td>Barcelona</td>\n",
       "    </tr>\n",
       "    <tr>\n",
       "      <td>1</td>\n",
       "      <td>18674</td>\n",
       "      <td>Huge flat for 8 people close to Sagrada Familia</td>\n",
       "      <td>71615</td>\n",
       "      <td>Mireia And Maria</td>\n",
       "      <td>Eixample</td>\n",
       "      <td>la Sagrada Família</td>\n",
       "      <td>41.40420</td>\n",
       "      <td>2.17306</td>\n",
       "      <td>Entire home/apt</td>\n",
       "      <td>60.0</td>\n",
       "      <td>1</td>\n",
       "      <td>16</td>\n",
       "      <td>2019-08-04</td>\n",
       "      <td>0.21</td>\n",
       "      <td>31</td>\n",
       "      <td>52</td>\n",
       "      <td>Barcelona</td>\n",
       "    </tr>\n",
       "    <tr>\n",
       "      <td>2</td>\n",
       "      <td>21605</td>\n",
       "      <td>Nice and sunny duble room</td>\n",
       "      <td>82522</td>\n",
       "      <td>Meritxell</td>\n",
       "      <td>Sant Martí</td>\n",
       "      <td>el Poblenou</td>\n",
       "      <td>41.40560</td>\n",
       "      <td>2.19821</td>\n",
       "      <td>Private room</td>\n",
       "      <td>33.0</td>\n",
       "      <td>2</td>\n",
       "      <td>125</td>\n",
       "      <td>2019-09-08</td>\n",
       "      <td>3.05</td>\n",
       "      <td>2</td>\n",
       "      <td>3</td>\n",
       "      <td>Barcelona</td>\n",
       "    </tr>\n",
       "    <tr>\n",
       "      <td>3</td>\n",
       "      <td>23197</td>\n",
       "      <td>FORUM DELUXE 5 MINS WALK  CCIB CENTER &amp; SEA!</td>\n",
       "      <td>90417</td>\n",
       "      <td>Etain (Marnie)</td>\n",
       "      <td>Sant Martí</td>\n",
       "      <td>el Besòs i el Maresme</td>\n",
       "      <td>41.41203</td>\n",
       "      <td>2.22114</td>\n",
       "      <td>Entire home/apt</td>\n",
       "      <td>210.0</td>\n",
       "      <td>3</td>\n",
       "      <td>49</td>\n",
       "      <td>2019-09-10</td>\n",
       "      <td>0.47</td>\n",
       "      <td>2</td>\n",
       "      <td>326</td>\n",
       "      <td>Barcelona</td>\n",
       "    </tr>\n",
       "    <tr>\n",
       "      <td>4</td>\n",
       "      <td>25786</td>\n",
       "      <td>NICE ROOM AVAILABLE IN THE HEART OF GRACIA</td>\n",
       "      <td>108310</td>\n",
       "      <td>Pedro</td>\n",
       "      <td>Gràcia</td>\n",
       "      <td>la Vila de Gràcia</td>\n",
       "      <td>41.40145</td>\n",
       "      <td>2.15645</td>\n",
       "      <td>Private room</td>\n",
       "      <td>45.0</td>\n",
       "      <td>1</td>\n",
       "      <td>254</td>\n",
       "      <td>2019-09-10</td>\n",
       "      <td>2.29</td>\n",
       "      <td>1</td>\n",
       "      <td>77</td>\n",
       "      <td>Barcelona</td>\n",
       "    </tr>\n",
       "    <tr>\n",
       "      <td>...</td>\n",
       "      <td>...</td>\n",
       "      <td>...</td>\n",
       "      <td>...</td>\n",
       "      <td>...</td>\n",
       "      <td>...</td>\n",
       "      <td>...</td>\n",
       "      <td>...</td>\n",
       "      <td>...</td>\n",
       "      <td>...</td>\n",
       "      <td>...</td>\n",
       "      <td>...</td>\n",
       "      <td>...</td>\n",
       "      <td>...</td>\n",
       "      <td>...</td>\n",
       "      <td>...</td>\n",
       "      <td>...</td>\n",
       "      <td>...</td>\n",
       "    </tr>\n",
       "    <tr>\n",
       "      <td>7228</td>\n",
       "      <td>39003184</td>\n",
       "      <td>apartamento en la playa con wifi</td>\n",
       "      <td>58803405</td>\n",
       "      <td>Carlos</td>\n",
       "      <td>POBLATS DEL SUD</td>\n",
       "      <td>EL PERELLONET</td>\n",
       "      <td>39.30533</td>\n",
       "      <td>-0.29295</td>\n",
       "      <td>Entire home/apt</td>\n",
       "      <td>50.0</td>\n",
       "      <td>2</td>\n",
       "      <td>0</td>\n",
       "      <td>NaT</td>\n",
       "      <td>NaN</td>\n",
       "      <td>2</td>\n",
       "      <td>174</td>\n",
       "      <td>Valencia</td>\n",
       "    </tr>\n",
       "    <tr>\n",
       "      <td>7229</td>\n",
       "      <td>39010933</td>\n",
       "      <td>Private double room Habitación doble privado</td>\n",
       "      <td>6499518</td>\n",
       "      <td>Berndt</td>\n",
       "      <td>POBLATS MARITIMS</td>\n",
       "      <td>NATZARET</td>\n",
       "      <td>39.44841</td>\n",
       "      <td>-0.33514</td>\n",
       "      <td>Private room</td>\n",
       "      <td>18.0</td>\n",
       "      <td>2</td>\n",
       "      <td>0</td>\n",
       "      <td>NaT</td>\n",
       "      <td>NaN</td>\n",
       "      <td>3</td>\n",
       "      <td>176</td>\n",
       "      <td>Valencia</td>\n",
       "    </tr>\n",
       "    <tr>\n",
       "      <td>7230</td>\n",
       "      <td>39020487</td>\n",
       "      <td>Cozy Room near Ciudad de las Artes &amp; the beach</td>\n",
       "      <td>60525307</td>\n",
       "      <td>Ines</td>\n",
       "      <td>CAMINS AL GRAU</td>\n",
       "      <td>AIORA</td>\n",
       "      <td>39.46190</td>\n",
       "      <td>-0.33881</td>\n",
       "      <td>Private room</td>\n",
       "      <td>20.0</td>\n",
       "      <td>3</td>\n",
       "      <td>0</td>\n",
       "      <td>NaT</td>\n",
       "      <td>NaN</td>\n",
       "      <td>2</td>\n",
       "      <td>34</td>\n",
       "      <td>Valencia</td>\n",
       "    </tr>\n",
       "    <tr>\n",
       "      <td>7231</td>\n",
       "      <td>39021228</td>\n",
       "      <td>Habitación para 2 personas en el barrio del ca...</td>\n",
       "      <td>80863744</td>\n",
       "      <td>Carlos</td>\n",
       "      <td>CIUTAT VELLA</td>\n",
       "      <td>EL PILAR</td>\n",
       "      <td>39.47468</td>\n",
       "      <td>-0.38275</td>\n",
       "      <td>Private room</td>\n",
       "      <td>17.0</td>\n",
       "      <td>2</td>\n",
       "      <td>0</td>\n",
       "      <td>NaT</td>\n",
       "      <td>NaN</td>\n",
       "      <td>1</td>\n",
       "      <td>15</td>\n",
       "      <td>Valencia</td>\n",
       "    </tr>\n",
       "    <tr>\n",
       "      <td>7232</td>\n",
       "      <td>39023253</td>\n",
       "      <td>Nice flat near El Carmen</td>\n",
       "      <td>120556720</td>\n",
       "      <td>Capucine</td>\n",
       "      <td>EXTRAMURS</td>\n",
       "      <td>LA PETXINA</td>\n",
       "      <td>39.47162</td>\n",
       "      <td>-0.38706</td>\n",
       "      <td>Entire home/apt</td>\n",
       "      <td>130.0</td>\n",
       "      <td>2</td>\n",
       "      <td>0</td>\n",
       "      <td>NaT</td>\n",
       "      <td>NaN</td>\n",
       "      <td>2</td>\n",
       "      <td>10</td>\n",
       "      <td>Valencia</td>\n",
       "    </tr>\n",
       "  </tbody>\n",
       "</table>\n",
       "<p>104858 rows × 17 columns</p>\n",
       "</div>"
      ],
      "text/plain": [
       "      id_usuario                                             nombre  \\\n",
       "0          18666                            Flat with Sunny Terrace   \n",
       "1          18674    Huge flat for 8 people close to Sagrada Familia   \n",
       "2          21605                          Nice and sunny duble room   \n",
       "3          23197       FORUM DELUXE 5 MINS WALK  CCIB CENTER & SEA!   \n",
       "4          25786         NICE ROOM AVAILABLE IN THE HEART OF GRACIA   \n",
       "...          ...                                                ...   \n",
       "7228    39003184                   apartamento en la playa con wifi   \n",
       "7229    39010933       Private double room Habitación doble privado   \n",
       "7230    39020487     Cozy Room near Ciudad de las Artes & the beach   \n",
       "7231    39021228  Habitación para 2 personas en el barrio del ca...   \n",
       "7232    39023253                           Nice flat near El Carmen   \n",
       "\n",
       "        id_host       nombre_host             grupo  \\\n",
       "0         71615  Mireia And Maria        Sant Martí   \n",
       "1         71615  Mireia And Maria          Eixample   \n",
       "2         82522         Meritxell        Sant Martí   \n",
       "3         90417    Etain (Marnie)        Sant Martí   \n",
       "4        108310             Pedro            Gràcia   \n",
       "...         ...               ...               ...   \n",
       "7228   58803405            Carlos   POBLATS DEL SUD   \n",
       "7229    6499518            Berndt  POBLATS MARITIMS   \n",
       "7230   60525307              Ines    CAMINS AL GRAU   \n",
       "7231   80863744            Carlos      CIUTAT VELLA   \n",
       "7232  120556720          Capucine         EXTRAMURS   \n",
       "\n",
       "                          barrio   latitud  longitud  tipo_habitacion  precio  \\\n",
       "0     el Camp de l'Arpa del Clot  41.40889   2.18555  Entire home/apt   130.0   \n",
       "1             la Sagrada Família  41.40420   2.17306  Entire home/apt    60.0   \n",
       "2                    el Poblenou  41.40560   2.19821     Private room    33.0   \n",
       "3          el Besòs i el Maresme  41.41203   2.22114  Entire home/apt   210.0   \n",
       "4              la Vila de Gràcia  41.40145   2.15645     Private room    45.0   \n",
       "...                          ...       ...       ...              ...     ...   \n",
       "7228               EL PERELLONET  39.30533  -0.29295  Entire home/apt    50.0   \n",
       "7229                    NATZARET  39.44841  -0.33514     Private room    18.0   \n",
       "7230                       AIORA  39.46190  -0.33881     Private room    20.0   \n",
       "7231                    EL PILAR  39.47468  -0.38275     Private room    17.0   \n",
       "7232                  LA PETXINA  39.47162  -0.38706  Entire home/apt   130.0   \n",
       "\n",
       "      noches_minimas  numero_visitas ultima_visita  visitas_mes  lista_host  \\\n",
       "0                  3               1    2015-10-10         0.02          31   \n",
       "1                  1              16    2019-08-04         0.21          31   \n",
       "2                  2             125    2019-09-08         3.05           2   \n",
       "3                  3              49    2019-09-10         0.47           2   \n",
       "4                  1             254    2019-09-10         2.29           1   \n",
       "...              ...             ...           ...          ...         ...   \n",
       "7228               2               0           NaT          NaN           2   \n",
       "7229               2               0           NaT          NaN           3   \n",
       "7230               3               0           NaT          NaN           2   \n",
       "7231               2               0           NaT          NaN           1   \n",
       "7232               2               0           NaT          NaN           2   \n",
       "\n",
       "      disponibilidad     ciudad  \n",
       "0                251  Barcelona  \n",
       "1                 52  Barcelona  \n",
       "2                  3  Barcelona  \n",
       "3                326  Barcelona  \n",
       "4                 77  Barcelona  \n",
       "...              ...        ...  \n",
       "7228             174   Valencia  \n",
       "7229             176   Valencia  \n",
       "7230              34   Valencia  \n",
       "7231              15   Valencia  \n",
       "7232              10   Valencia  \n",
       "\n",
       "[104858 rows x 17 columns]"
      ]
     },
     "execution_count": 10,
     "metadata": {},
     "output_type": "execute_result"
    }
   ],
   "source": [
    "#######################\n",
    "#----- Librerias -----#\n",
    "#######################\n",
    "\n",
    "import pandas as pd\n",
    "import plotly.graph_objects as go\n",
    "import folium\n",
    "from folium.plugins import HeatMap\n",
    "import folium.plugins as plugins\n",
    "import seaborn as sns\n",
    "from scipy.stats import norm\n",
    "%matplotlib inline\n",
    "import numpy as np\n",
    "import matplotlib.pyplot as plt\n",
    "import statistics as stats\n",
    "\n",
    "############################\n",
    "#----- Carga de datos -----#\n",
    "############################\n",
    "ciudades = ['Barcelona', 'Euskadi', 'Girona', 'Madrid', 'Malaga', 'Mallorca', 'Menorca', \n",
    "            'Sevilla', 'Valencia']\n",
    "tmp = []\n",
    "for i in range(len(ciudades)):\n",
    "    a = 'listings_'\n",
    "    b = ciudades[i]\n",
    "    c = '.csv'\n",
    "    d = a+b+c\n",
    "    res = pd.read_csv('dat/'+d, encoding=\"UTF-8\", parse_dates = ['last_review'], dtype = {\"price\":\"float\"})\n",
    "    res['ciudad']= b\n",
    "    tmp.append(res)\n",
    "\n",
    "usuarios =pd.DataFrame([])\n",
    "for i in range(len(ciudades)):\n",
    "    usuarios = usuarios.append(tmp[i])\n",
    "usuarios.rename(columns={\"id\": \"id_usuario\", \"name\": \"nombre\", \"host_id\": \"id_host\", \n",
    "                         \"host_name\": \"nombre_host\",\"neighbourhood_group\":\"grupo\", \n",
    "                         \"neighbourhood\": \"barrio\", \"latitude\": \"latitud\", \n",
    "                         \"longitude\": \"longitud\", \"room_type\": \"tipo_habitacion\",\n",
    "                         \"price\": \"precio\", \"minimum_nights\": \"noches_minimas\",\n",
    "                         \"number_of_reviews\": \"numero_visitas\",\"last_review\":\"ultima_visita\",\n",
    "                         \"reviews_per_month\":\"visitas_mes\",\n",
    "                         \"calculated_host_listings_count\": \"lista_host\", \n",
    "                         \"availability_365\": \"disponibilidad\"}, inplace=True)\n",
    "\n",
    "usuarios"
   ]
  },
  {
   "cell_type": "code",
   "execution_count": null,
   "metadata": {},
   "outputs": [],
   "source": [
    "pip install plotly==4.3.0"
   ]
  },
  {
   "cell_type": "markdown",
   "metadata": {},
   "source": [
    "## Análisis de Disponibilidad y Tipo de Habitación:\n",
    "\n",
    "\n",
    "### Creación de variable de disponibilidad:\n",
    "\n",
    "Para analizar la disponiblidad de los Airb&b en las distintas ciudades, se crearon parámetros en donde se los define según el número de días:\n",
    "\n",
    "* Si su disponibilidad es mayor o igual a 1 mes.\n",
    "* Si su disponibilidad es mayor o igual a 3 meses.\n",
    "* Si su disponibilidad es mayor o igual a 6 meses.\n",
    "* Si su disponibilidad es mayor o igual a 9 meses.\n",
    "* Si su disponibilidad es mayores a 9 meses.\n"
   ]
  },
  {
   "cell_type": "code",
   "execution_count": 11,
   "metadata": {},
   "outputs": [
    {
     "data": {
      "text/html": [
       "<div>\n",
       "<style scoped>\n",
       "    .dataframe tbody tr th:only-of-type {\n",
       "        vertical-align: middle;\n",
       "    }\n",
       "\n",
       "    .dataframe tbody tr th {\n",
       "        vertical-align: top;\n",
       "    }\n",
       "\n",
       "    .dataframe thead th {\n",
       "        text-align: right;\n",
       "    }\n",
       "</style>\n",
       "<table border=\"1\" class=\"dataframe\">\n",
       "  <thead>\n",
       "    <tr style=\"text-align: right;\">\n",
       "      <th></th>\n",
       "      <th>id_usuario</th>\n",
       "      <th>nombre</th>\n",
       "      <th>id_host</th>\n",
       "      <th>nombre_host</th>\n",
       "      <th>grupo</th>\n",
       "      <th>barrio</th>\n",
       "      <th>latitud</th>\n",
       "      <th>longitud</th>\n",
       "      <th>tipo_habitacion</th>\n",
       "      <th>precio</th>\n",
       "      <th>noches_minimas</th>\n",
       "      <th>numero_visitas</th>\n",
       "      <th>ultima_visita</th>\n",
       "      <th>visitas_mes</th>\n",
       "      <th>lista_host</th>\n",
       "      <th>disponibilidad</th>\n",
       "      <th>ciudad</th>\n",
       "      <th>tipo_disponibilidad</th>\n",
       "    </tr>\n",
       "  </thead>\n",
       "  <tbody>\n",
       "    <tr>\n",
       "      <td>0</td>\n",
       "      <td>18666</td>\n",
       "      <td>Flat with Sunny Terrace</td>\n",
       "      <td>71615</td>\n",
       "      <td>Mireia And Maria</td>\n",
       "      <td>Sant Martí</td>\n",
       "      <td>el Camp de l'Arpa del Clot</td>\n",
       "      <td>41.40889</td>\n",
       "      <td>2.18555</td>\n",
       "      <td>Entire home/apt</td>\n",
       "      <td>130.0</td>\n",
       "      <td>3</td>\n",
       "      <td>1</td>\n",
       "      <td>2015-10-10</td>\n",
       "      <td>0.02</td>\n",
       "      <td>31</td>\n",
       "      <td>251</td>\n",
       "      <td>Barcelona</td>\n",
       "      <td>disponibilidad alta (&lt;= 279)</td>\n",
       "    </tr>\n",
       "    <tr>\n",
       "      <td>1</td>\n",
       "      <td>18674</td>\n",
       "      <td>Huge flat for 8 people close to Sagrada Familia</td>\n",
       "      <td>71615</td>\n",
       "      <td>Mireia And Maria</td>\n",
       "      <td>Eixample</td>\n",
       "      <td>la Sagrada Família</td>\n",
       "      <td>41.40420</td>\n",
       "      <td>2.17306</td>\n",
       "      <td>Entire home/apt</td>\n",
       "      <td>60.0</td>\n",
       "      <td>1</td>\n",
       "      <td>16</td>\n",
       "      <td>2019-08-04</td>\n",
       "      <td>0.21</td>\n",
       "      <td>31</td>\n",
       "      <td>52</td>\n",
       "      <td>Barcelona</td>\n",
       "      <td>disponibilidad media baja (&lt;= 93)</td>\n",
       "    </tr>\n",
       "    <tr>\n",
       "      <td>2</td>\n",
       "      <td>21605</td>\n",
       "      <td>Nice and sunny duble room</td>\n",
       "      <td>82522</td>\n",
       "      <td>Meritxell</td>\n",
       "      <td>Sant Martí</td>\n",
       "      <td>el Poblenou</td>\n",
       "      <td>41.40560</td>\n",
       "      <td>2.19821</td>\n",
       "      <td>Private room</td>\n",
       "      <td>33.0</td>\n",
       "      <td>2</td>\n",
       "      <td>125</td>\n",
       "      <td>2019-09-08</td>\n",
       "      <td>3.05</td>\n",
       "      <td>2</td>\n",
       "      <td>3</td>\n",
       "      <td>Barcelona</td>\n",
       "      <td>disponibilidad baja (&lt;= 31)</td>\n",
       "    </tr>\n",
       "    <tr>\n",
       "      <td>3</td>\n",
       "      <td>23197</td>\n",
       "      <td>FORUM DELUXE 5 MINS WALK  CCIB CENTER &amp; SEA!</td>\n",
       "      <td>90417</td>\n",
       "      <td>Etain (Marnie)</td>\n",
       "      <td>Sant Martí</td>\n",
       "      <td>el Besòs i el Maresme</td>\n",
       "      <td>41.41203</td>\n",
       "      <td>2.22114</td>\n",
       "      <td>Entire home/apt</td>\n",
       "      <td>210.0</td>\n",
       "      <td>3</td>\n",
       "      <td>49</td>\n",
       "      <td>2019-09-10</td>\n",
       "      <td>0.47</td>\n",
       "      <td>2</td>\n",
       "      <td>326</td>\n",
       "      <td>Barcelona</td>\n",
       "      <td>disponibilidad muy alta (&gt; 279)</td>\n",
       "    </tr>\n",
       "    <tr>\n",
       "      <td>4</td>\n",
       "      <td>25786</td>\n",
       "      <td>NICE ROOM AVAILABLE IN THE HEART OF GRACIA</td>\n",
       "      <td>108310</td>\n",
       "      <td>Pedro</td>\n",
       "      <td>Gràcia</td>\n",
       "      <td>la Vila de Gràcia</td>\n",
       "      <td>41.40145</td>\n",
       "      <td>2.15645</td>\n",
       "      <td>Private room</td>\n",
       "      <td>45.0</td>\n",
       "      <td>1</td>\n",
       "      <td>254</td>\n",
       "      <td>2019-09-10</td>\n",
       "      <td>2.29</td>\n",
       "      <td>1</td>\n",
       "      <td>77</td>\n",
       "      <td>Barcelona</td>\n",
       "      <td>disponibilidad media baja (&lt;= 93)</td>\n",
       "    </tr>\n",
       "  </tbody>\n",
       "</table>\n",
       "</div>"
      ],
      "text/plain": [
       "   id_usuario                                           nombre  id_host  \\\n",
       "0       18666                          Flat with Sunny Terrace    71615   \n",
       "1       18674  Huge flat for 8 people close to Sagrada Familia    71615   \n",
       "2       21605                        Nice and sunny duble room    82522   \n",
       "3       23197     FORUM DELUXE 5 MINS WALK  CCIB CENTER & SEA!    90417   \n",
       "4       25786       NICE ROOM AVAILABLE IN THE HEART OF GRACIA   108310   \n",
       "\n",
       "        nombre_host       grupo                      barrio   latitud  \\\n",
       "0  Mireia And Maria  Sant Martí  el Camp de l'Arpa del Clot  41.40889   \n",
       "1  Mireia And Maria    Eixample          la Sagrada Família  41.40420   \n",
       "2         Meritxell  Sant Martí                 el Poblenou  41.40560   \n",
       "3    Etain (Marnie)  Sant Martí       el Besòs i el Maresme  41.41203   \n",
       "4             Pedro      Gràcia           la Vila de Gràcia  41.40145   \n",
       "\n",
       "   longitud  tipo_habitacion  precio  noches_minimas  numero_visitas  \\\n",
       "0   2.18555  Entire home/apt   130.0               3               1   \n",
       "1   2.17306  Entire home/apt    60.0               1              16   \n",
       "2   2.19821     Private room    33.0               2             125   \n",
       "3   2.22114  Entire home/apt   210.0               3              49   \n",
       "4   2.15645     Private room    45.0               1             254   \n",
       "\n",
       "  ultima_visita  visitas_mes  lista_host  disponibilidad     ciudad  \\\n",
       "0    2015-10-10         0.02          31             251  Barcelona   \n",
       "1    2019-08-04         0.21          31              52  Barcelona   \n",
       "2    2019-09-08         3.05           2               3  Barcelona   \n",
       "3    2019-09-10         0.47           2             326  Barcelona   \n",
       "4    2019-09-10         2.29           1              77  Barcelona   \n",
       "\n",
       "                 tipo_disponibilidad  \n",
       "0       disponibilidad alta (<= 279)  \n",
       "1  disponibilidad media baja (<= 93)  \n",
       "2        disponibilidad baja (<= 31)  \n",
       "3    disponibilidad muy alta (> 279)  \n",
       "4  disponibilidad media baja (<= 93)  "
      ]
     },
     "execution_count": 11,
     "metadata": {},
     "output_type": "execute_result"
    }
   ],
   "source": [
    "##############################################\n",
    "#----- Crear variable de disponibilidad -----#\n",
    "##############################################\n",
    "\n",
    "def disponible (x):\n",
    "    if x <= 31:\n",
    "        return 'disponibilidad baja (<= 31)'\n",
    "    elif x <= 93:\n",
    "        return 'disponibilidad media baja (<= 93)'\n",
    "    elif x <= 186:\n",
    "        return 'disponibilidad media alta (<= 186)'\n",
    "    elif x <= 279:\n",
    "        return 'disponibilidad alta (<= 279)'\n",
    "    else:\n",
    "        return 'disponibilidad muy alta (> 279)'\n",
    "    \n",
    "usuarios['tipo_disponibilidad'] = usuarios.apply(lambda x: disponible(x.disponibilidad) , axis=1)\n",
    "usuarios.head()"
   ]
  },
  {
   "cell_type": "markdown",
   "metadata": {},
   "source": [
    "### Análisis Barcelona:\n",
    "\n",
    "Una vez creada la nueva variable del **tipo de disponiblidad**, tomaremos a una ciudad como ejemplo que en este caso será Barcelona. Lo que estamos intentando hacer es interpretar como una de las ciudades más importantes de España se comporta.\n",
    "Paralelamente, se realizará el análisis de la distribución del tipo de habitación por región en la ciudad."
   ]
  },
  {
   "cell_type": "code",
   "execution_count": 12,
   "metadata": {},
   "outputs": [
    {
     "data": {
      "text/html": [
       "<div>\n",
       "<style scoped>\n",
       "    .dataframe tbody tr th:only-of-type {\n",
       "        vertical-align: middle;\n",
       "    }\n",
       "\n",
       "    .dataframe tbody tr th {\n",
       "        vertical-align: top;\n",
       "    }\n",
       "\n",
       "    .dataframe thead th {\n",
       "        text-align: right;\n",
       "    }\n",
       "</style>\n",
       "<table border=\"1\" class=\"dataframe\">\n",
       "  <thead>\n",
       "    <tr style=\"text-align: right;\">\n",
       "      <th></th>\n",
       "      <th>id_usuario</th>\n",
       "      <th>nombre</th>\n",
       "      <th>id_host</th>\n",
       "      <th>nombre_host</th>\n",
       "      <th>grupo</th>\n",
       "      <th>barrio</th>\n",
       "      <th>latitud</th>\n",
       "      <th>longitud</th>\n",
       "      <th>tipo_habitacion</th>\n",
       "      <th>precio</th>\n",
       "      <th>noches_minimas</th>\n",
       "      <th>numero_visitas</th>\n",
       "      <th>ultima_visita</th>\n",
       "      <th>visitas_mes</th>\n",
       "      <th>lista_host</th>\n",
       "      <th>disponibilidad</th>\n",
       "      <th>ciudad</th>\n",
       "      <th>tipo_disponibilidad</th>\n",
       "    </tr>\n",
       "  </thead>\n",
       "  <tbody>\n",
       "    <tr>\n",
       "      <td>0</td>\n",
       "      <td>18666</td>\n",
       "      <td>Flat with Sunny Terrace</td>\n",
       "      <td>71615</td>\n",
       "      <td>Mireia And Maria</td>\n",
       "      <td>Sant Martí</td>\n",
       "      <td>el Camp de l'Arpa del Clot</td>\n",
       "      <td>41.40889</td>\n",
       "      <td>2.18555</td>\n",
       "      <td>Entire home/apt</td>\n",
       "      <td>130.0</td>\n",
       "      <td>3</td>\n",
       "      <td>1</td>\n",
       "      <td>2015-10-10</td>\n",
       "      <td>0.02</td>\n",
       "      <td>31</td>\n",
       "      <td>251</td>\n",
       "      <td>Barcelona</td>\n",
       "      <td>disponibilidad alta (&lt;= 279)</td>\n",
       "    </tr>\n",
       "    <tr>\n",
       "      <td>1</td>\n",
       "      <td>18674</td>\n",
       "      <td>Huge flat for 8 people close to Sagrada Familia</td>\n",
       "      <td>71615</td>\n",
       "      <td>Mireia And Maria</td>\n",
       "      <td>Eixample</td>\n",
       "      <td>la Sagrada Família</td>\n",
       "      <td>41.40420</td>\n",
       "      <td>2.17306</td>\n",
       "      <td>Entire home/apt</td>\n",
       "      <td>60.0</td>\n",
       "      <td>1</td>\n",
       "      <td>16</td>\n",
       "      <td>2019-08-04</td>\n",
       "      <td>0.21</td>\n",
       "      <td>31</td>\n",
       "      <td>52</td>\n",
       "      <td>Barcelona</td>\n",
       "      <td>disponibilidad media baja (&lt;= 93)</td>\n",
       "    </tr>\n",
       "    <tr>\n",
       "      <td>2</td>\n",
       "      <td>21605</td>\n",
       "      <td>Nice and sunny duble room</td>\n",
       "      <td>82522</td>\n",
       "      <td>Meritxell</td>\n",
       "      <td>Sant Martí</td>\n",
       "      <td>el Poblenou</td>\n",
       "      <td>41.40560</td>\n",
       "      <td>2.19821</td>\n",
       "      <td>Private room</td>\n",
       "      <td>33.0</td>\n",
       "      <td>2</td>\n",
       "      <td>125</td>\n",
       "      <td>2019-09-08</td>\n",
       "      <td>3.05</td>\n",
       "      <td>2</td>\n",
       "      <td>3</td>\n",
       "      <td>Barcelona</td>\n",
       "      <td>disponibilidad baja (&lt;= 31)</td>\n",
       "    </tr>\n",
       "    <tr>\n",
       "      <td>3</td>\n",
       "      <td>23197</td>\n",
       "      <td>FORUM DELUXE 5 MINS WALK  CCIB CENTER &amp; SEA!</td>\n",
       "      <td>90417</td>\n",
       "      <td>Etain (Marnie)</td>\n",
       "      <td>Sant Martí</td>\n",
       "      <td>el Besòs i el Maresme</td>\n",
       "      <td>41.41203</td>\n",
       "      <td>2.22114</td>\n",
       "      <td>Entire home/apt</td>\n",
       "      <td>210.0</td>\n",
       "      <td>3</td>\n",
       "      <td>49</td>\n",
       "      <td>2019-09-10</td>\n",
       "      <td>0.47</td>\n",
       "      <td>2</td>\n",
       "      <td>326</td>\n",
       "      <td>Barcelona</td>\n",
       "      <td>disponibilidad muy alta (&gt; 279)</td>\n",
       "    </tr>\n",
       "    <tr>\n",
       "      <td>4</td>\n",
       "      <td>25786</td>\n",
       "      <td>NICE ROOM AVAILABLE IN THE HEART OF GRACIA</td>\n",
       "      <td>108310</td>\n",
       "      <td>Pedro</td>\n",
       "      <td>Gràcia</td>\n",
       "      <td>la Vila de Gràcia</td>\n",
       "      <td>41.40145</td>\n",
       "      <td>2.15645</td>\n",
       "      <td>Private room</td>\n",
       "      <td>45.0</td>\n",
       "      <td>1</td>\n",
       "      <td>254</td>\n",
       "      <td>2019-09-10</td>\n",
       "      <td>2.29</td>\n",
       "      <td>1</td>\n",
       "      <td>77</td>\n",
       "      <td>Barcelona</td>\n",
       "      <td>disponibilidad media baja (&lt;= 93)</td>\n",
       "    </tr>\n",
       "  </tbody>\n",
       "</table>\n",
       "</div>"
      ],
      "text/plain": [
       "   id_usuario                                           nombre  id_host  \\\n",
       "0       18666                          Flat with Sunny Terrace    71615   \n",
       "1       18674  Huge flat for 8 people close to Sagrada Familia    71615   \n",
       "2       21605                        Nice and sunny duble room    82522   \n",
       "3       23197     FORUM DELUXE 5 MINS WALK  CCIB CENTER & SEA!    90417   \n",
       "4       25786       NICE ROOM AVAILABLE IN THE HEART OF GRACIA   108310   \n",
       "\n",
       "        nombre_host       grupo                      barrio   latitud  \\\n",
       "0  Mireia And Maria  Sant Martí  el Camp de l'Arpa del Clot  41.40889   \n",
       "1  Mireia And Maria    Eixample          la Sagrada Família  41.40420   \n",
       "2         Meritxell  Sant Martí                 el Poblenou  41.40560   \n",
       "3    Etain (Marnie)  Sant Martí       el Besòs i el Maresme  41.41203   \n",
       "4             Pedro      Gràcia           la Vila de Gràcia  41.40145   \n",
       "\n",
       "   longitud  tipo_habitacion  precio  noches_minimas  numero_visitas  \\\n",
       "0   2.18555  Entire home/apt   130.0               3               1   \n",
       "1   2.17306  Entire home/apt    60.0               1              16   \n",
       "2   2.19821     Private room    33.0               2             125   \n",
       "3   2.22114  Entire home/apt   210.0               3              49   \n",
       "4   2.15645     Private room    45.0               1             254   \n",
       "\n",
       "  ultima_visita  visitas_mes  lista_host  disponibilidad     ciudad  \\\n",
       "0    2015-10-10         0.02          31             251  Barcelona   \n",
       "1    2019-08-04         0.21          31              52  Barcelona   \n",
       "2    2019-09-08         3.05           2               3  Barcelona   \n",
       "3    2019-09-10         0.47           2             326  Barcelona   \n",
       "4    2019-09-10         2.29           1              77  Barcelona   \n",
       "\n",
       "                 tipo_disponibilidad  \n",
       "0       disponibilidad alta (<= 279)  \n",
       "1  disponibilidad media baja (<= 93)  \n",
       "2        disponibilidad baja (<= 31)  \n",
       "3    disponibilidad muy alta (> 279)  \n",
       "4  disponibilidad media baja (<= 93)  "
      ]
     },
     "execution_count": 12,
     "metadata": {},
     "output_type": "execute_result"
    }
   ],
   "source": [
    "usuarios_barcelona = usuarios[usuarios.ciudad.isin(['Barcelona'])]\n",
    "usuarios_barcelona.head()"
   ]
  },
  {
   "cell_type": "markdown",
   "metadata": {},
   "source": [
    "En la tabla inferior podemos ver un análisis descriptivo para **Barcelona**, en donde su valor medio, se encuentra en 173 días de disponibilidad que es alrededor de 6 meses. "
   ]
  },
  {
   "cell_type": "code",
   "execution_count": 13,
   "metadata": {},
   "outputs": [
    {
     "data": {
      "text/html": [
       "<div>\n",
       "<style scoped>\n",
       "    .dataframe tbody tr th:only-of-type {\n",
       "        vertical-align: middle;\n",
       "    }\n",
       "\n",
       "    .dataframe tbody tr th {\n",
       "        vertical-align: top;\n",
       "    }\n",
       "\n",
       "    .dataframe thead th {\n",
       "        text-align: right;\n",
       "    }\n",
       "</style>\n",
       "<table border=\"1\" class=\"dataframe\">\n",
       "  <thead>\n",
       "    <tr style=\"text-align: right;\">\n",
       "      <th></th>\n",
       "      <th>id_usuario</th>\n",
       "      <th>id_host</th>\n",
       "      <th>latitud</th>\n",
       "      <th>longitud</th>\n",
       "      <th>precio</th>\n",
       "      <th>noches_minimas</th>\n",
       "      <th>numero_visitas</th>\n",
       "      <th>visitas_mes</th>\n",
       "      <th>lista_host</th>\n",
       "      <th>disponibilidad</th>\n",
       "    </tr>\n",
       "  </thead>\n",
       "  <tbody>\n",
       "    <tr>\n",
       "      <td>count</td>\n",
       "      <td>2.040400e+04</td>\n",
       "      <td>2.040400e+04</td>\n",
       "      <td>20404.000000</td>\n",
       "      <td>20404.000000</td>\n",
       "      <td>20404.000000</td>\n",
       "      <td>20404.000000</td>\n",
       "      <td>20404.000000</td>\n",
       "      <td>16077.000000</td>\n",
       "      <td>20404.000000</td>\n",
       "      <td>20404.000000</td>\n",
       "    </tr>\n",
       "    <tr>\n",
       "      <td>mean</td>\n",
       "      <td>2.221167e+07</td>\n",
       "      <td>9.314832e+07</td>\n",
       "      <td>41.391921</td>\n",
       "      <td>2.167638</td>\n",
       "      <td>134.032837</td>\n",
       "      <td>8.525926</td>\n",
       "      <td>34.470153</td>\n",
       "      <td>1.831600</td>\n",
       "      <td>14.214664</td>\n",
       "      <td>173.328514</td>\n",
       "    </tr>\n",
       "    <tr>\n",
       "      <td>std</td>\n",
       "      <td>1.202739e+07</td>\n",
       "      <td>9.523825e+07</td>\n",
       "      <td>0.014974</td>\n",
       "      <td>0.017992</td>\n",
       "      <td>473.083008</td>\n",
       "      <td>18.934963</td>\n",
       "      <td>60.658949</td>\n",
       "      <td>1.697443</td>\n",
       "      <td>29.017481</td>\n",
       "      <td>131.254315</td>\n",
       "    </tr>\n",
       "    <tr>\n",
       "      <td>min</td>\n",
       "      <td>1.866600e+04</td>\n",
       "      <td>3.073000e+03</td>\n",
       "      <td>41.349540</td>\n",
       "      <td>2.088380</td>\n",
       "      <td>6.000000</td>\n",
       "      <td>1.000000</td>\n",
       "      <td>0.000000</td>\n",
       "      <td>0.010000</td>\n",
       "      <td>1.000000</td>\n",
       "      <td>0.000000</td>\n",
       "    </tr>\n",
       "    <tr>\n",
       "      <td>25%</td>\n",
       "      <td>1.290682e+07</td>\n",
       "      <td>8.110619e+06</td>\n",
       "      <td>41.380220</td>\n",
       "      <td>2.157050</td>\n",
       "      <td>40.000000</td>\n",
       "      <td>1.000000</td>\n",
       "      <td>1.000000</td>\n",
       "      <td>0.480000</td>\n",
       "      <td>1.000000</td>\n",
       "      <td>46.000000</td>\n",
       "    </tr>\n",
       "    <tr>\n",
       "      <td>50%</td>\n",
       "      <td>2.364433e+07</td>\n",
       "      <td>4.833293e+07</td>\n",
       "      <td>41.388750</td>\n",
       "      <td>2.168250</td>\n",
       "      <td>61.000000</td>\n",
       "      <td>2.000000</td>\n",
       "      <td>8.000000</td>\n",
       "      <td>1.300000</td>\n",
       "      <td>2.000000</td>\n",
       "      <td>165.000000</td>\n",
       "    </tr>\n",
       "    <tr>\n",
       "      <td>75%</td>\n",
       "      <td>3.335625e+07</td>\n",
       "      <td>1.707161e+08</td>\n",
       "      <td>41.402102</td>\n",
       "      <td>2.178040</td>\n",
       "      <td>109.000000</td>\n",
       "      <td>4.000000</td>\n",
       "      <td>40.000000</td>\n",
       "      <td>2.780000</td>\n",
       "      <td>11.000000</td>\n",
       "      <td>310.000000</td>\n",
       "    </tr>\n",
       "    <tr>\n",
       "      <td>max</td>\n",
       "      <td>3.867327e+07</td>\n",
       "      <td>2.954833e+08</td>\n",
       "      <td>41.463260</td>\n",
       "      <td>2.231030</td>\n",
       "      <td>10000.000000</td>\n",
       "      <td>900.000000</td>\n",
       "      <td>671.000000</td>\n",
       "      <td>19.500000</td>\n",
       "      <td>153.000000</td>\n",
       "      <td>365.000000</td>\n",
       "    </tr>\n",
       "  </tbody>\n",
       "</table>\n",
       "</div>"
      ],
      "text/plain": [
       "         id_usuario       id_host       latitud      longitud        precio  \\\n",
       "count  2.040400e+04  2.040400e+04  20404.000000  20404.000000  20404.000000   \n",
       "mean   2.221167e+07  9.314832e+07     41.391921      2.167638    134.032837   \n",
       "std    1.202739e+07  9.523825e+07      0.014974      0.017992    473.083008   \n",
       "min    1.866600e+04  3.073000e+03     41.349540      2.088380      6.000000   \n",
       "25%    1.290682e+07  8.110619e+06     41.380220      2.157050     40.000000   \n",
       "50%    2.364433e+07  4.833293e+07     41.388750      2.168250     61.000000   \n",
       "75%    3.335625e+07  1.707161e+08     41.402102      2.178040    109.000000   \n",
       "max    3.867327e+07  2.954833e+08     41.463260      2.231030  10000.000000   \n",
       "\n",
       "       noches_minimas  numero_visitas   visitas_mes    lista_host  \\\n",
       "count    20404.000000    20404.000000  16077.000000  20404.000000   \n",
       "mean         8.525926       34.470153      1.831600     14.214664   \n",
       "std         18.934963       60.658949      1.697443     29.017481   \n",
       "min          1.000000        0.000000      0.010000      1.000000   \n",
       "25%          1.000000        1.000000      0.480000      1.000000   \n",
       "50%          2.000000        8.000000      1.300000      2.000000   \n",
       "75%          4.000000       40.000000      2.780000     11.000000   \n",
       "max        900.000000      671.000000     19.500000    153.000000   \n",
       "\n",
       "       disponibilidad  \n",
       "count    20404.000000  \n",
       "mean       173.328514  \n",
       "std        131.254315  \n",
       "min          0.000000  \n",
       "25%         46.000000  \n",
       "50%        165.000000  \n",
       "75%        310.000000  \n",
       "max        365.000000  "
      ]
     },
     "execution_count": 13,
     "metadata": {},
     "output_type": "execute_result"
    }
   ],
   "source": [
    "usuarios_barcelona.describe()"
   ]
  },
  {
   "cell_type": "code",
   "execution_count": 5,
   "metadata": {},
   "outputs": [
    {
     "data": {
      "image/png": "[encoded data removed]",
      "text/plain": [
       "<Figure size 1080x1080 with 1 Axes>"
      ]
     },
     "metadata": {
      "needs_background": "light"
     },
     "output_type": "display_data"
    }
   ],
   "source": [
    "fig, ax = plt.subplots(figsize = (15 , 15))\n",
    "out = sns.boxplot(x = 'tipo_habitacion', y='disponibilidad', data = usuarios_barcelona, palette=\"winter\")\n",
    "sns.set(font_scale=1)"
   ]
  },
  {
   "cell_type": "code",
   "execution_count": 14,
   "metadata": {},
   "outputs": [
    {
     "data": {
      "image/png": "[encoded data removed]",
      "text/plain": [
       "<Figure size 720x720 with 1 Axes>"
      ]
     },
     "metadata": {
      "needs_background": "light"
     },
     "output_type": "display_data"
    }
   ],
   "source": [
    "fig, ax = plt.subplots(figsize = (10 , 10))\n",
    "out = sns.distplot(usuarios_barcelona.disponibilidad, bins = 10, color = 'green')\n",
    "sns.set(font_scale=1)"
   ]
  },
  {
   "cell_type": "markdown",
   "metadata": {},
   "source": [
    "Según su diagrama de caja y su histograma, se puede entender que la mayoría de datos estan distribuidos a los extremos, semejante a una distribución _Beta_. \n",
    "\n",
    "\n",
    "Si analizamos las variables del diagrama de caja podemos sacar varias conclusiones:\n",
    "\n",
    "* El tipo de habitación **Shared room** esta distribuida mejor a lo largo de los datos, sin embargo, si revisamos los datos en la tabla de abajo podemos ver que **share room** no tiene muchos datos.\n",
    "* **Entire home/apt y Private room** sus datos estan distribuidos más hacia los 365 días de disponibilidad.\n",
    "* **Private** sus distribución de disponibilidad se acerca más hacia la disponibilidad baja."
   ]
  },
  {
   "cell_type": "code",
   "execution_count": 15,
   "metadata": {},
   "outputs": [
    {
     "data": {
      "text/html": [
       "<div>\n",
       "<style scoped>\n",
       "    .dataframe tbody tr th:only-of-type {\n",
       "        vertical-align: middle;\n",
       "    }\n",
       "\n",
       "    .dataframe tbody tr th {\n",
       "        vertical-align: top;\n",
       "    }\n",
       "\n",
       "    .dataframe thead th {\n",
       "        text-align: right;\n",
       "    }\n",
       "</style>\n",
       "<table border=\"1\" class=\"dataframe\">\n",
       "  <thead>\n",
       "    <tr style=\"text-align: right;\">\n",
       "      <th></th>\n",
       "      <th>tipo_disponibilidad</th>\n",
       "      <th>disponibilidad alta (&lt;= 279)</th>\n",
       "      <th>disponibilidad baja (&lt;= 31)</th>\n",
       "      <th>disponibilidad media alta (&lt;= 186)</th>\n",
       "      <th>disponibilidad media baja (&lt;= 93)</th>\n",
       "      <th>disponibilidad muy alta (&gt; 279)</th>\n",
       "    </tr>\n",
       "    <tr>\n",
       "      <th>grupo</th>\n",
       "      <th>tipo_habitacion</th>\n",
       "      <th></th>\n",
       "      <th></th>\n",
       "      <th></th>\n",
       "      <th></th>\n",
       "      <th></th>\n",
       "    </tr>\n",
       "  </thead>\n",
       "  <tbody>\n",
       "    <tr>\n",
       "      <td rowspan=\"4\" valign=\"top\">Ciutat Vella</td>\n",
       "      <td>Entire home/apt</td>\n",
       "      <td>258.0</td>\n",
       "      <td>2.0</td>\n",
       "      <td>147.0</td>\n",
       "      <td>66.0</td>\n",
       "      <td>325.0</td>\n",
       "    </tr>\n",
       "    <tr>\n",
       "      <td>Hotel room</td>\n",
       "      <td>245.0</td>\n",
       "      <td>2.0</td>\n",
       "      <td>141.0</td>\n",
       "      <td>74.0</td>\n",
       "      <td>331.0</td>\n",
       "    </tr>\n",
       "    <tr>\n",
       "      <td>Private room</td>\n",
       "      <td>247.0</td>\n",
       "      <td>0.0</td>\n",
       "      <td>148.0</td>\n",
       "      <td>64.0</td>\n",
       "      <td>339.0</td>\n",
       "    </tr>\n",
       "    <tr>\n",
       "      <td>Shared room</td>\n",
       "      <td>NaN</td>\n",
       "      <td>0.0</td>\n",
       "      <td>164.0</td>\n",
       "      <td>86.5</td>\n",
       "      <td>352.5</td>\n",
       "    </tr>\n",
       "    <tr>\n",
       "      <td rowspan=\"4\" valign=\"top\">Eixample</td>\n",
       "      <td>Entire home/apt</td>\n",
       "      <td>243.0</td>\n",
       "      <td>0.0</td>\n",
       "      <td>137.0</td>\n",
       "      <td>67.0</td>\n",
       "      <td>319.0</td>\n",
       "    </tr>\n",
       "    <tr>\n",
       "      <td>Hotel room</td>\n",
       "      <td>248.0</td>\n",
       "      <td>2.0</td>\n",
       "      <td>143.0</td>\n",
       "      <td>61.0</td>\n",
       "      <td>333.0</td>\n",
       "    </tr>\n",
       "    <tr>\n",
       "      <td>Private room</td>\n",
       "      <td>249.0</td>\n",
       "      <td>0.0</td>\n",
       "      <td>145.0</td>\n",
       "      <td>62.0</td>\n",
       "      <td>336.0</td>\n",
       "    </tr>\n",
       "    <tr>\n",
       "      <td>Shared room</td>\n",
       "      <td>259.0</td>\n",
       "      <td>0.0</td>\n",
       "      <td>150.5</td>\n",
       "      <td>46.0</td>\n",
       "      <td>362.0</td>\n",
       "    </tr>\n",
       "    <tr>\n",
       "      <td rowspan=\"4\" valign=\"top\">Gràcia</td>\n",
       "      <td>Entire home/apt</td>\n",
       "      <td>240.0</td>\n",
       "      <td>0.0</td>\n",
       "      <td>142.0</td>\n",
       "      <td>73.0</td>\n",
       "      <td>323.0</td>\n",
       "    </tr>\n",
       "    <tr>\n",
       "      <td>Hotel room</td>\n",
       "      <td>268.0</td>\n",
       "      <td>19.5</td>\n",
       "      <td>141.0</td>\n",
       "      <td>52.0</td>\n",
       "      <td>322.0</td>\n",
       "    </tr>\n",
       "    <tr>\n",
       "      <td>Private room</td>\n",
       "      <td>258.5</td>\n",
       "      <td>0.0</td>\n",
       "      <td>146.0</td>\n",
       "      <td>67.5</td>\n",
       "      <td>334.0</td>\n",
       "    </tr>\n",
       "    <tr>\n",
       "      <td>Shared room</td>\n",
       "      <td>NaN</td>\n",
       "      <td>0.0</td>\n",
       "      <td>NaN</td>\n",
       "      <td>80.5</td>\n",
       "      <td>351.0</td>\n",
       "    </tr>\n",
       "    <tr>\n",
       "      <td rowspan=\"4\" valign=\"top\">Horta-Guinardó</td>\n",
       "      <td>Entire home/apt</td>\n",
       "      <td>237.0</td>\n",
       "      <td>0.0</td>\n",
       "      <td>124.0</td>\n",
       "      <td>70.0</td>\n",
       "      <td>322.0</td>\n",
       "    </tr>\n",
       "    <tr>\n",
       "      <td>Hotel room</td>\n",
       "      <td>238.0</td>\n",
       "      <td>NaN</td>\n",
       "      <td>148.0</td>\n",
       "      <td>NaN</td>\n",
       "      <td>NaN</td>\n",
       "    </tr>\n",
       "    <tr>\n",
       "      <td>Private room</td>\n",
       "      <td>259.0</td>\n",
       "      <td>0.0</td>\n",
       "      <td>147.0</td>\n",
       "      <td>70.0</td>\n",
       "      <td>342.0</td>\n",
       "    </tr>\n",
       "    <tr>\n",
       "      <td>Shared room</td>\n",
       "      <td>NaN</td>\n",
       "      <td>13.0</td>\n",
       "      <td>135.0</td>\n",
       "      <td>NaN</td>\n",
       "      <td>NaN</td>\n",
       "    </tr>\n",
       "    <tr>\n",
       "      <td rowspan=\"4\" valign=\"top\">Les Corts</td>\n",
       "      <td>Entire home/apt</td>\n",
       "      <td>249.0</td>\n",
       "      <td>1.0</td>\n",
       "      <td>136.0</td>\n",
       "      <td>46.0</td>\n",
       "      <td>324.0</td>\n",
       "    </tr>\n",
       "    <tr>\n",
       "      <td>Hotel room</td>\n",
       "      <td>254.0</td>\n",
       "      <td>NaN</td>\n",
       "      <td>157.0</td>\n",
       "      <td>NaN</td>\n",
       "      <td>334.0</td>\n",
       "    </tr>\n",
       "    <tr>\n",
       "      <td>Private room</td>\n",
       "      <td>236.0</td>\n",
       "      <td>0.0</td>\n",
       "      <td>147.0</td>\n",
       "      <td>70.5</td>\n",
       "      <td>346.0</td>\n",
       "    </tr>\n",
       "    <tr>\n",
       "      <td>Shared room</td>\n",
       "      <td>NaN</td>\n",
       "      <td>2.0</td>\n",
       "      <td>158.0</td>\n",
       "      <td>NaN</td>\n",
       "      <td>339.0</td>\n",
       "    </tr>\n",
       "    <tr>\n",
       "      <td rowspan=\"4\" valign=\"top\">Nou Barris</td>\n",
       "      <td>Entire home/apt</td>\n",
       "      <td>245.0</td>\n",
       "      <td>0.0</td>\n",
       "      <td>119.5</td>\n",
       "      <td>61.0</td>\n",
       "      <td>333.0</td>\n",
       "    </tr>\n",
       "    <tr>\n",
       "      <td>Hotel room</td>\n",
       "      <td>NaN</td>\n",
       "      <td>NaN</td>\n",
       "      <td>NaN</td>\n",
       "      <td>NaN</td>\n",
       "      <td>294.0</td>\n",
       "    </tr>\n",
       "    <tr>\n",
       "      <td>Private room</td>\n",
       "      <td>249.0</td>\n",
       "      <td>0.0</td>\n",
       "      <td>161.0</td>\n",
       "      <td>79.0</td>\n",
       "      <td>352.0</td>\n",
       "    </tr>\n",
       "    <tr>\n",
       "      <td>Shared room</td>\n",
       "      <td>NaN</td>\n",
       "      <td>4.0</td>\n",
       "      <td>179.0</td>\n",
       "      <td>NaN</td>\n",
       "      <td>357.5</td>\n",
       "    </tr>\n",
       "    <tr>\n",
       "      <td rowspan=\"4\" valign=\"top\">Sant Andreu</td>\n",
       "      <td>Entire home/apt</td>\n",
       "      <td>234.0</td>\n",
       "      <td>1.0</td>\n",
       "      <td>124.5</td>\n",
       "      <td>61.0</td>\n",
       "      <td>320.0</td>\n",
       "    </tr>\n",
       "    <tr>\n",
       "      <td>Hotel room</td>\n",
       "      <td>261.0</td>\n",
       "      <td>NaN</td>\n",
       "      <td>169.0</td>\n",
       "      <td>NaN</td>\n",
       "      <td>289.0</td>\n",
       "    </tr>\n",
       "    <tr>\n",
       "      <td>Private room</td>\n",
       "      <td>256.0</td>\n",
       "      <td>0.0</td>\n",
       "      <td>152.5</td>\n",
       "      <td>62.0</td>\n",
       "      <td>349.0</td>\n",
       "    </tr>\n",
       "    <tr>\n",
       "      <td>Shared room</td>\n",
       "      <td>NaN</td>\n",
       "      <td>0.0</td>\n",
       "      <td>123.0</td>\n",
       "      <td>93.0</td>\n",
       "      <td>354.5</td>\n",
       "    </tr>\n",
       "    <tr>\n",
       "      <td rowspan=\"4\" valign=\"top\">Sant Martí</td>\n",
       "      <td>Entire home/apt</td>\n",
       "      <td>244.0</td>\n",
       "      <td>0.0</td>\n",
       "      <td>141.0</td>\n",
       "      <td>60.0</td>\n",
       "      <td>327.0</td>\n",
       "    </tr>\n",
       "    <tr>\n",
       "      <td>Hotel room</td>\n",
       "      <td>265.0</td>\n",
       "      <td>13.0</td>\n",
       "      <td>98.0</td>\n",
       "      <td>52.5</td>\n",
       "      <td>342.0</td>\n",
       "    </tr>\n",
       "    <tr>\n",
       "      <td>Private room</td>\n",
       "      <td>259.0</td>\n",
       "      <td>0.0</td>\n",
       "      <td>147.0</td>\n",
       "      <td>69.0</td>\n",
       "      <td>344.0</td>\n",
       "    </tr>\n",
       "    <tr>\n",
       "      <td>Shared room</td>\n",
       "      <td>NaN</td>\n",
       "      <td>0.0</td>\n",
       "      <td>168.0</td>\n",
       "      <td>70.0</td>\n",
       "      <td>356.5</td>\n",
       "    </tr>\n",
       "    <tr>\n",
       "      <td rowspan=\"4\" valign=\"top\">Sants-Montjuïc</td>\n",
       "      <td>Entire home/apt</td>\n",
       "      <td>244.0</td>\n",
       "      <td>2.0</td>\n",
       "      <td>141.0</td>\n",
       "      <td>75.0</td>\n",
       "      <td>321.0</td>\n",
       "    </tr>\n",
       "    <tr>\n",
       "      <td>Hotel room</td>\n",
       "      <td>255.0</td>\n",
       "      <td>0.0</td>\n",
       "      <td>175.5</td>\n",
       "      <td>39.0</td>\n",
       "      <td>338.5</td>\n",
       "    </tr>\n",
       "    <tr>\n",
       "      <td>Private room</td>\n",
       "      <td>257.0</td>\n",
       "      <td>0.0</td>\n",
       "      <td>152.0</td>\n",
       "      <td>65.0</td>\n",
       "      <td>343.0</td>\n",
       "    </tr>\n",
       "    <tr>\n",
       "      <td>Shared room</td>\n",
       "      <td>229.5</td>\n",
       "      <td>0.0</td>\n",
       "      <td>174.0</td>\n",
       "      <td>51.0</td>\n",
       "      <td>354.0</td>\n",
       "    </tr>\n",
       "    <tr>\n",
       "      <td rowspan=\"4\" valign=\"top\">Sarrià-Sant Gervasi</td>\n",
       "      <td>Entire home/apt</td>\n",
       "      <td>252.0</td>\n",
       "      <td>0.0</td>\n",
       "      <td>153.0</td>\n",
       "      <td>69.0</td>\n",
       "      <td>323.0</td>\n",
       "    </tr>\n",
       "    <tr>\n",
       "      <td>Hotel room</td>\n",
       "      <td>254.0</td>\n",
       "      <td>0.0</td>\n",
       "      <td>103.0</td>\n",
       "      <td>74.0</td>\n",
       "      <td>317.0</td>\n",
       "    </tr>\n",
       "    <tr>\n",
       "      <td>Private room</td>\n",
       "      <td>239.0</td>\n",
       "      <td>0.0</td>\n",
       "      <td>149.0</td>\n",
       "      <td>78.0</td>\n",
       "      <td>341.5</td>\n",
       "    </tr>\n",
       "    <tr>\n",
       "      <td>Shared room</td>\n",
       "      <td>NaN</td>\n",
       "      <td>0.0</td>\n",
       "      <td>NaN</td>\n",
       "      <td>NaN</td>\n",
       "      <td>NaN</td>\n",
       "    </tr>\n",
       "  </tbody>\n",
       "</table>\n",
       "</div>"
      ],
      "text/plain": [
       "tipo_disponibilidad                  disponibilidad alta (<= 279)  \\\n",
       "grupo               tipo_habitacion                                 \n",
       "Ciutat Vella        Entire home/apt                         258.0   \n",
       "                    Hotel room                              245.0   \n",
       "                    Private room                            247.0   \n",
       "                    Shared room                               NaN   \n",
       "Eixample            Entire home/apt                         243.0   \n",
       "                    Hotel room                              248.0   \n",
       "                    Private room                            249.0   \n",
       "                    Shared room                             259.0   \n",
       "Gràcia              Entire home/apt                         240.0   \n",
       "                    Hotel room                              268.0   \n",
       "                    Private room                            258.5   \n",
       "                    Shared room                               NaN   \n",
       "Horta-Guinardó      Entire home/apt                         237.0   \n",
       "                    Hotel room                              238.0   \n",
       "                    Private room                            259.0   \n",
       "                    Shared room                               NaN   \n",
       "Les Corts           Entire home/apt                         249.0   \n",
       "                    Hotel room                              254.0   \n",
       "                    Private room                            236.0   \n",
       "                    Shared room                               NaN   \n",
       "Nou Barris          Entire home/apt                         245.0   \n",
       "                    Hotel room                                NaN   \n",
       "                    Private room                            249.0   \n",
       "                    Shared room                               NaN   \n",
       "Sant Andreu         Entire home/apt                         234.0   \n",
       "                    Hotel room                              261.0   \n",
       "                    Private room                            256.0   \n",
       "                    Shared room                               NaN   \n",
       "Sant Martí          Entire home/apt                         244.0   \n",
       "                    Hotel room                              265.0   \n",
       "                    Private room                            259.0   \n",
       "                    Shared room                               NaN   \n",
       "Sants-Montjuïc      Entire home/apt                         244.0   \n",
       "                    Hotel room                              255.0   \n",
       "                    Private room                            257.0   \n",
       "                    Shared room                             229.5   \n",
       "Sarrià-Sant Gervasi Entire home/apt                         252.0   \n",
       "                    Hotel room                              254.0   \n",
       "                    Private room                            239.0   \n",
       "                    Shared room                               NaN   \n",
       "\n",
       "tipo_disponibilidad                  disponibilidad baja (<= 31)  \\\n",
       "grupo               tipo_habitacion                                \n",
       "Ciutat Vella        Entire home/apt                          2.0   \n",
       "                    Hotel room                               2.0   \n",
       "                    Private room                             0.0   \n",
       "                    Shared room                              0.0   \n",
       "Eixample            Entire home/apt                          0.0   \n",
       "                    Hotel room                               2.0   \n",
       "                    Private room                             0.0   \n",
       "                    Shared room                              0.0   \n",
       "Gràcia              Entire home/apt                          0.0   \n",
       "                    Hotel room                              19.5   \n",
       "                    Private room                             0.0   \n",
       "                    Shared room                              0.0   \n",
       "Horta-Guinardó      Entire home/apt                          0.0   \n",
       "                    Hotel room                               NaN   \n",
       "                    Private room                             0.0   \n",
       "                    Shared room                             13.0   \n",
       "Les Corts           Entire home/apt                          1.0   \n",
       "                    Hotel room                               NaN   \n",
       "                    Private room                             0.0   \n",
       "                    Shared room                              2.0   \n",
       "Nou Barris          Entire home/apt                          0.0   \n",
       "                    Hotel room                               NaN   \n",
       "                    Private room                             0.0   \n",
       "                    Shared room                              4.0   \n",
       "Sant Andreu         Entire home/apt                          1.0   \n",
       "                    Hotel room                               NaN   \n",
       "                    Private room                             0.0   \n",
       "                    Shared room                              0.0   \n",
       "Sant Martí          Entire home/apt                          0.0   \n",
       "                    Hotel room                              13.0   \n",
       "                    Private room                             0.0   \n",
       "                    Shared room                              0.0   \n",
       "Sants-Montjuïc      Entire home/apt                          2.0   \n",
       "                    Hotel room                               0.0   \n",
       "                    Private room                             0.0   \n",
       "                    Shared room                              0.0   \n",
       "Sarrià-Sant Gervasi Entire home/apt                          0.0   \n",
       "                    Hotel room                               0.0   \n",
       "                    Private room                             0.0   \n",
       "                    Shared room                              0.0   \n",
       "\n",
       "tipo_disponibilidad                  disponibilidad media alta (<= 186)  \\\n",
       "grupo               tipo_habitacion                                       \n",
       "Ciutat Vella        Entire home/apt                               147.0   \n",
       "                    Hotel room                                    141.0   \n",
       "                    Private room                                  148.0   \n",
       "                    Shared room                                   164.0   \n",
       "Eixample            Entire home/apt                               137.0   \n",
       "                    Hotel room                                    143.0   \n",
       "                    Private room                                  145.0   \n",
       "                    Shared room                                   150.5   \n",
       "Gràcia              Entire home/apt                               142.0   \n",
       "                    Hotel room                                    141.0   \n",
       "                    Private room                                  146.0   \n",
       "                    Shared room                                     NaN   \n",
       "Horta-Guinardó      Entire home/apt                               124.0   \n",
       "                    Hotel room                                    148.0   \n",
       "                    Private room                                  147.0   \n",
       "                    Shared room                                   135.0   \n",
       "Les Corts           Entire home/apt                               136.0   \n",
       "                    Hotel room                                    157.0   \n",
       "                    Private room                                  147.0   \n",
       "                    Shared room                                   158.0   \n",
       "Nou Barris          Entire home/apt                               119.5   \n",
       "                    Hotel room                                      NaN   \n",
       "                    Private room                                  161.0   \n",
       "                    Shared room                                   179.0   \n",
       "Sant Andreu         Entire home/apt                               124.5   \n",
       "                    Hotel room                                    169.0   \n",
       "                    Private room                                  152.5   \n",
       "                    Shared room                                   123.0   \n",
       "Sant Martí          Entire home/apt                               141.0   \n",
       "                    Hotel room                                     98.0   \n",
       "                    Private room                                  147.0   \n",
       "                    Shared room                                   168.0   \n",
       "Sants-Montjuïc      Entire home/apt                               141.0   \n",
       "                    Hotel room                                    175.5   \n",
       "                    Private room                                  152.0   \n",
       "                    Shared room                                   174.0   \n",
       "Sarrià-Sant Gervasi Entire home/apt                               153.0   \n",
       "                    Hotel room                                    103.0   \n",
       "                    Private room                                  149.0   \n",
       "                    Shared room                                     NaN   \n",
       "\n",
       "tipo_disponibilidad                  disponibilidad media baja (<= 93)  \\\n",
       "grupo               tipo_habitacion                                      \n",
       "Ciutat Vella        Entire home/apt                               66.0   \n",
       "                    Hotel room                                    74.0   \n",
       "                    Private room                                  64.0   \n",
       "                    Shared room                                   86.5   \n",
       "Eixample            Entire home/apt                               67.0   \n",
       "                    Hotel room                                    61.0   \n",
       "                    Private room                                  62.0   \n",
       "                    Shared room                                   46.0   \n",
       "Gràcia              Entire home/apt                               73.0   \n",
       "                    Hotel room                                    52.0   \n",
       "                    Private room                                  67.5   \n",
       "                    Shared room                                   80.5   \n",
       "Horta-Guinardó      Entire home/apt                               70.0   \n",
       "                    Hotel room                                     NaN   \n",
       "                    Private room                                  70.0   \n",
       "                    Shared room                                    NaN   \n",
       "Les Corts           Entire home/apt                               46.0   \n",
       "                    Hotel room                                     NaN   \n",
       "                    Private room                                  70.5   \n",
       "                    Shared room                                    NaN   \n",
       "Nou Barris          Entire home/apt                               61.0   \n",
       "                    Hotel room                                     NaN   \n",
       "                    Private room                                  79.0   \n",
       "                    Shared room                                    NaN   \n",
       "Sant Andreu         Entire home/apt                               61.0   \n",
       "                    Hotel room                                     NaN   \n",
       "                    Private room                                  62.0   \n",
       "                    Shared room                                   93.0   \n",
       "Sant Martí          Entire home/apt                               60.0   \n",
       "                    Hotel room                                    52.5   \n",
       "                    Private room                                  69.0   \n",
       "                    Shared room                                   70.0   \n",
       "Sants-Montjuïc      Entire home/apt                               75.0   \n",
       "                    Hotel room                                    39.0   \n",
       "                    Private room                                  65.0   \n",
       "                    Shared room                                   51.0   \n",
       "Sarrià-Sant Gervasi Entire home/apt                               69.0   \n",
       "                    Hotel room                                    74.0   \n",
       "                    Private room                                  78.0   \n",
       "                    Shared room                                    NaN   \n",
       "\n",
       "tipo_disponibilidad                  disponibilidad muy alta (> 279)  \n",
       "grupo               tipo_habitacion                                   \n",
       "Ciutat Vella        Entire home/apt                            325.0  \n",
       "                    Hotel room                                 331.0  \n",
       "                    Private room                               339.0  \n",
       "                    Shared room                                352.5  \n",
       "Eixample            Entire home/apt                            319.0  \n",
       "                    Hotel room                                 333.0  \n",
       "                    Private room                               336.0  \n",
       "                    Shared room                                362.0  \n",
       "Gràcia              Entire home/apt                            323.0  \n",
       "                    Hotel room                                 322.0  \n",
       "                    Private room                               334.0  \n",
       "                    Shared room                                351.0  \n",
       "Horta-Guinardó      Entire home/apt                            322.0  \n",
       "                    Hotel room                                   NaN  \n",
       "                    Private room                               342.0  \n",
       "                    Shared room                                  NaN  \n",
       "Les Corts           Entire home/apt                            324.0  \n",
       "                    Hotel room                                 334.0  \n",
       "                    Private room                               346.0  \n",
       "                    Shared room                                339.0  \n",
       "Nou Barris          Entire home/apt                            333.0  \n",
       "                    Hotel room                                 294.0  \n",
       "                    Private room                               352.0  \n",
       "                    Shared room                                357.5  \n",
       "Sant Andreu         Entire home/apt                            320.0  \n",
       "                    Hotel room                                 289.0  \n",
       "                    Private room                               349.0  \n",
       "                    Shared room                                354.5  \n",
       "Sant Martí          Entire home/apt                            327.0  \n",
       "                    Hotel room                                 342.0  \n",
       "                    Private room                               344.0  \n",
       "                    Shared room                                356.5  \n",
       "Sants-Montjuïc      Entire home/apt                            321.0  \n",
       "                    Hotel room                                 338.5  \n",
       "                    Private room                               343.0  \n",
       "                    Shared room                                354.0  \n",
       "Sarrià-Sant Gervasi Entire home/apt                            323.0  \n",
       "                    Hotel room                                 317.0  \n",
       "                    Private room                               341.5  \n",
       "                    Shared room                                  NaN  "
      ]
     },
     "execution_count": 15,
     "metadata": {},
     "output_type": "execute_result"
    }
   ],
   "source": [
    "usuarios_barcelonatop = usuarios_barcelona.pivot_table(index=['grupo', 'tipo_habitacion'], \n",
    "                                columns='tipo_disponibilidad',\n",
    "                                values='disponibilidad', aggfunc='median', dropna=True)\n",
    "usuarios_barcelonatop_1 = usuarios_barcelonatop.reset_index()\n",
    "usuarios_barcelonatop"
   ]
  },
  {
   "cell_type": "code",
   "execution_count": 16,
   "metadata": {},
   "outputs": [
    {
     "data": {
      "text/html": [
       "<div>\n",
       "<style scoped>\n",
       "    .dataframe tbody tr th:only-of-type {\n",
       "        vertical-align: middle;\n",
       "    }\n",
       "\n",
       "    .dataframe tbody tr th {\n",
       "        vertical-align: top;\n",
       "    }\n",
       "\n",
       "    .dataframe thead th {\n",
       "        text-align: right;\n",
       "    }\n",
       "</style>\n",
       "<table border=\"1\" class=\"dataframe\">\n",
       "  <thead>\n",
       "    <tr style=\"text-align: right;\">\n",
       "      <th>tipo_habitacion</th>\n",
       "      <th>grupo</th>\n",
       "      <th>Entire home/apt</th>\n",
       "      <th>Hotel room</th>\n",
       "      <th>Private room</th>\n",
       "      <th>Shared room</th>\n",
       "    </tr>\n",
       "  </thead>\n",
       "  <tbody>\n",
       "    <tr>\n",
       "      <td>0</td>\n",
       "      <td>Ciutat Vella</td>\n",
       "      <td>42.479339</td>\n",
       "      <td>2.458678</td>\n",
       "      <td>54.483471</td>\n",
       "      <td>0.578512</td>\n",
       "    </tr>\n",
       "    <tr>\n",
       "      <td>1</td>\n",
       "      <td>Eixample</td>\n",
       "      <td>49.518875</td>\n",
       "      <td>5.980755</td>\n",
       "      <td>43.908216</td>\n",
       "      <td>0.592154</td>\n",
       "    </tr>\n",
       "    <tr>\n",
       "      <td>2</td>\n",
       "      <td>Gràcia</td>\n",
       "      <td>46.453089</td>\n",
       "      <td>4.691076</td>\n",
       "      <td>47.940503</td>\n",
       "      <td>0.915332</td>\n",
       "    </tr>\n",
       "    <tr>\n",
       "      <td>3</td>\n",
       "      <td>Horta-Guinardó</td>\n",
       "      <td>32.200886</td>\n",
       "      <td>0.738552</td>\n",
       "      <td>66.617430</td>\n",
       "      <td>0.443131</td>\n",
       "    </tr>\n",
       "    <tr>\n",
       "      <td>4</td>\n",
       "      <td>Les Corts</td>\n",
       "      <td>37.757437</td>\n",
       "      <td>4.576659</td>\n",
       "      <td>54.462243</td>\n",
       "      <td>3.203661</td>\n",
       "    </tr>\n",
       "    <tr>\n",
       "      <td>5</td>\n",
       "      <td>Nou Barris</td>\n",
       "      <td>15.853659</td>\n",
       "      <td>1.219512</td>\n",
       "      <td>80.894309</td>\n",
       "      <td>2.032520</td>\n",
       "    </tr>\n",
       "    <tr>\n",
       "      <td>6</td>\n",
       "      <td>Sant Andreu</td>\n",
       "      <td>25.135135</td>\n",
       "      <td>1.351351</td>\n",
       "      <td>71.351351</td>\n",
       "      <td>2.162162</td>\n",
       "    </tr>\n",
       "    <tr>\n",
       "      <td>7</td>\n",
       "      <td>Sant Martí</td>\n",
       "      <td>42.196796</td>\n",
       "      <td>2.562929</td>\n",
       "      <td>54.736842</td>\n",
       "      <td>0.503432</td>\n",
       "    </tr>\n",
       "    <tr>\n",
       "      <td>8</td>\n",
       "      <td>Sants-Montjuïc</td>\n",
       "      <td>43.207312</td>\n",
       "      <td>2.451184</td>\n",
       "      <td>53.095139</td>\n",
       "      <td>1.246365</td>\n",
       "    </tr>\n",
       "    <tr>\n",
       "      <td>9</td>\n",
       "      <td>Sarrià-Sant Gervasi</td>\n",
       "      <td>50.473613</td>\n",
       "      <td>3.112314</td>\n",
       "      <td>46.143437</td>\n",
       "      <td>0.270636</td>\n",
       "    </tr>\n",
       "  </tbody>\n",
       "</table>\n",
       "</div>"
      ],
      "text/plain": [
       "tipo_habitacion                grupo  Entire home/apt  Hotel room  \\\n",
       "0                       Ciutat Vella        42.479339    2.458678   \n",
       "1                           Eixample        49.518875    5.980755   \n",
       "2                             Gràcia        46.453089    4.691076   \n",
       "3                     Horta-Guinardó        32.200886    0.738552   \n",
       "4                          Les Corts        37.757437    4.576659   \n",
       "5                         Nou Barris        15.853659    1.219512   \n",
       "6                        Sant Andreu        25.135135    1.351351   \n",
       "7                         Sant Martí        42.196796    2.562929   \n",
       "8                     Sants-Montjuïc        43.207312    2.451184   \n",
       "9                Sarrià-Sant Gervasi        50.473613    3.112314   \n",
       "\n",
       "tipo_habitacion  Private room  Shared room  \n",
       "0                   54.483471     0.578512  \n",
       "1                   43.908216     0.592154  \n",
       "2                   47.940503     0.915332  \n",
       "3                   66.617430     0.443131  \n",
       "4                   54.462243     3.203661  \n",
       "5                   80.894309     2.032520  \n",
       "6                   71.351351     2.162162  \n",
       "7                   54.736842     0.503432  \n",
       "8                   53.095139     1.246365  \n",
       "9                   46.143437     0.270636  "
      ]
     },
     "execution_count": 16,
     "metadata": {},
     "output_type": "execute_result"
    }
   ],
   "source": [
    "# Calcular la cantidad de Barrios\n",
    "barrios = usuarios.groupby('barrio').id_usuario.count()\n",
    "cantidad_barrios = len(barrios) \n",
    "\n",
    "# Calcular la cantidad de airbnb por barrio\n",
    "barrios = pd.DataFrame(barrios)\n",
    "\n",
    "#Conteo de tipo de habitaciones por grupo\n",
    "barcelona = usuarios[usuarios.ciudad.isin(['Barcelona'])]\n",
    "barcelona_tophabit = barcelona.pivot_table(index=['grupo','tipo_habitacion'],\n",
    "                                values='disponibilidad', aggfunc='count')\n",
    "barcelona_tophabit_1 = barcelona_tophabit.reset_index()\n",
    "\n",
    "# Conteo total de los 4 tipos de habitaciones juntos en uno solo numero por grupo.\n",
    "barcelona_2 = barcelona_tophabit_1.groupby([\"grupo\"]).sum()\n",
    "\n",
    "# Union de las dos tablas anteriores\n",
    "barcelona_3 = barcelona_tophabit_1.merge(barcelona_2, on=\"grupo\")\n",
    "\n",
    "# Creo la columna \"Porecntaje\".\n",
    "barcelona_3[\"Porcentaje\"] = (barcelona_3[\"disponibilidad_x\"] / barcelona_3[\"disponibilidad_y\"]) * 100\n",
    "\n",
    "# Elimino dos columnas que solo me sirvieron para poder calcular el porcentaje.\n",
    "barcelona_3 = barcelona_3.drop(['disponibilidad_x', \"disponibilidad_y\"], axis=1)\n",
    "\n",
    "barcelona_4 = barcelona_3.pivot_table(index=[\"grupo\"],\n",
    "                          columns=\"tipo_habitacion\",\n",
    "                          values=\"Porcentaje\")\n",
    "barcelona_4\n",
    "barcelona_5 = barcelona_4.reset_index()\n",
    "barcelona_5"
   ]
  },
  {
   "cell_type": "markdown",
   "metadata": {},
   "source": [
    "Esta tabla representa el **porcentaje** de cada **tipo de habitacion** para cada **grupo** de la ciudad de **Barcelona**. "
   ]
  },
  {
   "cell_type": "code",
   "execution_count": 17,
   "metadata": {},
   "outputs": [
    {
     "data": {
      "application/vnd.plotly.v1+json": {
       "config": {
        "plotlyServerURL": "https://plot.ly"
       },
       "data": [
        {
         "name": "Entire home/apt",
         "type": "bar",
         "x": [
          "Ciutat Vella",
          "Eixample",
          "Gràcia",
          "Horta-Guinardó",
          "Les Corts",
          "Nou Barris",
          "Sant Andreu",
          "Sant Martí",
          "Sants-Montjuïc",
          "Sarrià-Sant Gervasi"
         ],
         "y": [
          42.4793388429752,
          49.51887490747595,
          46.453089244851256,
          32.20088626292467,
          37.75743707093822,
          15.853658536585366,
          25.135135135135133,
          42.19679633867277,
          43.20731200664728,
          50.47361299052774
         ]
        },
        {
         "name": "Hotel room",
         "type": "bar",
         "x": [
          "Ciutat Vella",
          "Eixample",
          "Gràcia",
          "Horta-Guinardó",
          "Les Corts",
          "Nou Barris",
          "Sant Andreu",
          "Sant Martí",
          "Sants-Montjuïc",
          "Sarrià-Sant Gervasi"
         ],
         "y": [
          2.458677685950413,
          5.980754996299038,
          4.691075514874142,
          0.7385524372230428,
          4.576659038901601,
          1.2195121951219512,
          1.3513513513513513,
          2.5629290617848968,
          2.451184046530951,
          3.1123139377537212
         ]
        },
        {
         "name": "Private room",
         "type": "bar",
         "x": [
          "Ciutat Vella",
          "Eixample",
          "Gràcia",
          "Horta-Guinardó",
          "Les Corts",
          "Nou Barris",
          "Sant Andreu",
          "Sant Martí",
          "Sants-Montjuïc",
          "Sarrià-Sant Gervasi"
         ],
         "y": [
          54.48347107438016,
          43.90821613619541,
          47.94050343249428,
          66.61742983751846,
          54.46224256292906,
          80.89430894308943,
          71.35135135135135,
          54.736842105263165,
          53.095139177399254,
          46.14343707713126
         ]
        },
        {
         "name": "Shared room",
         "type": "bar",
         "x": [
          "Ciutat Vella",
          "Eixample",
          "Gràcia",
          "Horta-Guinardó",
          "Les Corts",
          "Nou Barris",
          "Sant Andreu",
          "Sant Martí",
          "Sants-Montjuïc",
          "Sarrià-Sant Gervasi"
         ],
         "y": [
          0.5785123966942148,
          0.5921539600296076,
          0.9153318077803204,
          0.4431314623338257,
          3.203661327231121,
          2.0325203252032518,
          2.1621621621621623,
          0.5034324942791762,
          1.2463647694225177,
          0.2706359945872801
         ]
        }
       ],
       "layout": {
        "barmode": "group",
        "font": {
         "family": "Times New Roman",
         "size": 17
        },
        "template": {
         "data": {
          "bar": [
           {
            "error_x": {
             "color": "#2a3f5f"
            },
            "error_y": {
             "color": "#2a3f5f"
            },
            "marker": {
             "line": {
              "color": "#E5ECF6",
              "width": 0.5
             }
            },
            "type": "bar"
           }
          ],
          "barpolar": [
           {
            "marker": {
             "line": {
              "color": "#E5ECF6",
              "width": 0.5
             }
            },
            "type": "barpolar"
           }
          ],
          "carpet": [
           {
            "aaxis": {
             "endlinecolor": "#2a3f5f",
             "gridcolor": "white",
             "linecolor": "white",
             "minorgridcolor": "white",
             "startlinecolor": "#2a3f5f"
            },
            "baxis": {
             "endlinecolor": "#2a3f5f",
             "gridcolor": "white",
             "linecolor": "white",
             "minorgridcolor": "white",
             "startlinecolor": "#2a3f5f"
            },
            "type": "carpet"
           }
          ],
          "choropleth": [
           {
            "colorbar": {
             "outlinewidth": 0,
             "ticks": ""
            },
            "type": "choropleth"
           }
          ],
          "contour": [
           {
            "colorbar": {
             "outlinewidth": 0,
             "ticks": ""
            },
            "colorscale": [
             [
              0,
              "#0d0887"
             ],
             [
              0.1111111111111111,
              "#46039f"
             ],
             [
              0.2222222222222222,
              "#7201a8"
             ],
             [
              0.3333333333333333,
              "#9c179e"
             ],
             [
              0.4444444444444444,
              "#bd3786"
             ],
             [
              0.5555555555555556,
              "#d8576b"
             ],
             [
              0.6666666666666666,
              "#ed7953"
             ],
             [
              0.7777777777777778,
              "#fb9f3a"
             ],
             [
              0.8888888888888888,
              "#fdca26"
             ],
             [
              1,
              "#f0f921"
             ]
            ],
            "type": "contour"
           }
          ],
          "contourcarpet": [
           {
            "colorbar": {
             "outlinewidth": 0,
             "ticks": ""
            },
            "type": "contourcarpet"
           }
          ],
          "heatmap": [
           {
            "colorbar": {
             "outlinewidth": 0,
             "ticks": ""
            },
            "colorscale": [
             [
              0,
              "#0d0887"
             ],
             [
              0.1111111111111111,
              "#46039f"
             ],
             [
              0.2222222222222222,
              "#7201a8"
             ],
             [
              0.3333333333333333,
              "#9c179e"
             ],
             [
              0.4444444444444444,
              "#bd3786"
             ],
             [
              0.5555555555555556,
              "#d8576b"
             ],
             [
              0.6666666666666666,
              "#ed7953"
             ],
             [
              0.7777777777777778,
              "#fb9f3a"
             ],
             [
              0.8888888888888888,
              "#fdca26"
             ],
             [
              1,
              "#f0f921"
             ]
            ],
            "type": "heatmap"
           }
          ],
          "heatmapgl": [
           {
            "colorbar": {
             "outlinewidth": 0,
             "ticks": ""
            },
            "colorscale": [
             [
              0,
              "#0d0887"
             ],
             [
              0.1111111111111111,
              "#46039f"
             ],
             [
              0.2222222222222222,
              "#7201a8"
             ],
             [
              0.3333333333333333,
              "#9c179e"
             ],
             [
              0.4444444444444444,
              "#bd3786"
             ],
             [
              0.5555555555555556,
              "#d8576b"
             ],
             [
              0.6666666666666666,
              "#ed7953"
             ],
             [
              0.7777777777777778,
              "#fb9f3a"
             ],
             [
              0.8888888888888888,
              "#fdca26"
             ],
             [
              1,
              "#f0f921"
             ]
            ],
            "type": "heatmapgl"
           }
          ],
          "histogram": [
           {
            "marker": {
             "colorbar": {
              "outlinewidth": 0,
              "ticks": ""
             }
            },
            "type": "histogram"
           }
          ],
          "histogram2d": [
           {
            "colorbar": {
             "outlinewidth": 0,
             "ticks": ""
            },
            "colorscale": [
             [
              0,
              "#0d0887"
             ],
             [
              0.1111111111111111,
              "#46039f"
             ],
             [
              0.2222222222222222,
              "#7201a8"
             ],
             [
              0.3333333333333333,
              "#9c179e"
             ],
             [
              0.4444444444444444,
              "#bd3786"
             ],
             [
              0.5555555555555556,
              "#d8576b"
             ],
             [
              0.6666666666666666,
              "#ed7953"
             ],
             [
              0.7777777777777778,
              "#fb9f3a"
             ],
             [
              0.8888888888888888,
              "#fdca26"
             ],
             [
              1,
              "#f0f921"
             ]
            ],
            "type": "histogram2d"
           }
          ],
          "histogram2dcontour": [
           {
            "colorbar": {
             "outlinewidth": 0,
             "ticks": ""
            },
            "colorscale": [
             [
              0,
              "#0d0887"
             ],
             [
              0.1111111111111111,
              "#46039f"
             ],
             [
              0.2222222222222222,
              "#7201a8"
             ],
             [
              0.3333333333333333,
              "#9c179e"
             ],
             [
              0.4444444444444444,
              "#bd3786"
             ],
             [
              0.5555555555555556,
              "#d8576b"
             ],
             [
              0.6666666666666666,
              "#ed7953"
             ],
             [
              0.7777777777777778,
              "#fb9f3a"
             ],
             [
              0.8888888888888888,
              "#fdca26"
             ],
             [
              1,
              "#f0f921"
             ]
            ],
            "type": "histogram2dcontour"
           }
          ],
          "mesh3d": [
           {
            "colorbar": {
             "outlinewidth": 0,
             "ticks": ""
            },
            "type": "mesh3d"
           }
          ],
          "parcoords": [
           {
            "line": {
             "colorbar": {
              "outlinewidth": 0,
              "ticks": ""
             }
            },
            "type": "parcoords"
           }
          ],
          "pie": [
           {
            "automargin": true,
            "type": "pie"
           }
          ],
          "scatter": [
           {
            "marker": {
             "colorbar": {
              "outlinewidth": 0,
              "ticks": ""
             }
            },
            "type": "scatter"
           }
          ],
          "scatter3d": [
           {
            "line": {
             "colorbar": {
              "outlinewidth": 0,
              "ticks": ""
             }
            },
            "marker": {
             "colorbar": {
              "outlinewidth": 0,
              "ticks": ""
             }
            },
            "type": "scatter3d"
           }
          ],
          "scattercarpet": [
           {
            "marker": {
             "colorbar": {
              "outlinewidth": 0,
              "ticks": ""
             }
            },
            "type": "scattercarpet"
           }
          ],
          "scattergeo": [
           {
            "marker": {
             "colorbar": {
              "outlinewidth": 0,
              "ticks": ""
             }
            },
            "type": "scattergeo"
           }
          ],
          "scattergl": [
           {
            "marker": {
             "colorbar": {
              "outlinewidth": 0,
              "ticks": ""
             }
            },
            "type": "scattergl"
           }
          ],
          "scattermapbox": [
           {
            "marker": {
             "colorbar": {
              "outlinewidth": 0,
              "ticks": ""
             }
            },
            "type": "scattermapbox"
           }
          ],
          "scatterpolar": [
           {
            "marker": {
             "colorbar": {
              "outlinewidth": 0,
              "ticks": ""
             }
            },
            "type": "scatterpolar"
           }
          ],
          "scatterpolargl": [
           {
            "marker": {
             "colorbar": {
              "outlinewidth": 0,
              "ticks": ""
             }
            },
            "type": "scatterpolargl"
           }
          ],
          "scatterternary": [
           {
            "marker": {
             "colorbar": {
              "outlinewidth": 0,
              "ticks": ""
             }
            },
            "type": "scatterternary"
           }
          ],
          "surface": [
           {
            "colorbar": {
             "outlinewidth": 0,
             "ticks": ""
            },
            "colorscale": [
             [
              0,
              "#0d0887"
             ],
             [
              0.1111111111111111,
              "#46039f"
             ],
             [
              0.2222222222222222,
              "#7201a8"
             ],
             [
              0.3333333333333333,
              "#9c179e"
             ],
             [
              0.4444444444444444,
              "#bd3786"
             ],
             [
              0.5555555555555556,
              "#d8576b"
             ],
             [
              0.6666666666666666,
              "#ed7953"
             ],
             [
              0.7777777777777778,
              "#fb9f3a"
             ],
             [
              0.8888888888888888,
              "#fdca26"
             ],
             [
              1,
              "#f0f921"
             ]
            ],
            "type": "surface"
           }
          ],
          "table": [
           {
            "cells": {
             "fill": {
              "color": "#EBF0F8"
             },
             "line": {
              "color": "white"
             }
            },
            "header": {
             "fill": {
              "color": "#C8D4E3"
             },
             "line": {
              "color": "white"
             }
            },
            "type": "table"
           }
          ]
         },
         "layout": {
          "annotationdefaults": {
           "arrowcolor": "#2a3f5f",
           "arrowhead": 0,
           "arrowwidth": 1
          },
          "coloraxis": {
           "colorbar": {
            "outlinewidth": 0,
            "ticks": ""
           }
          },
          "colorscale": {
           "diverging": [
            [
             0,
             "#8e0152"
            ],
            [
             0.1,
             "#c51b7d"
            ],
            [
             0.2,
             "#de77ae"
            ],
            [
             0.3,
             "#f1b6da"
            ],
            [
             0.4,
             "#fde0ef"
            ],
            [
             0.5,
             "#f7f7f7"
            ],
            [
             0.6,
             "#e6f5d0"
            ],
            [
             0.7,
             "#b8e186"
            ],
            [
             0.8,
             "#7fbc41"
            ],
            [
             0.9,
             "#4d9221"
            ],
            [
             1,
             "#276419"
            ]
           ],
           "sequential": [
            [
             0,
             "#0d0887"
            ],
            [
             0.1111111111111111,
             "#46039f"
            ],
            [
             0.2222222222222222,
             "#7201a8"
            ],
            [
             0.3333333333333333,
             "#9c179e"
            ],
            [
             0.4444444444444444,
             "#bd3786"
            ],
            [
             0.5555555555555556,
             "#d8576b"
            ],
            [
             0.6666666666666666,
             "#ed7953"
            ],
            [
             0.7777777777777778,
             "#fb9f3a"
            ],
            [
             0.8888888888888888,
             "#fdca26"
            ],
            [
             1,
             "#f0f921"
            ]
           ],
           "sequentialminus": [
            [
             0,
             "#0d0887"
            ],
            [
             0.1111111111111111,
             "#46039f"
            ],
            [
             0.2222222222222222,
             "#7201a8"
            ],
            [
             0.3333333333333333,
             "#9c179e"
            ],
            [
             0.4444444444444444,
             "#bd3786"
            ],
            [
             0.5555555555555556,
             "#d8576b"
            ],
            [
             0.6666666666666666,
             "#ed7953"
            ],
            [
             0.7777777777777778,
             "#fb9f3a"
            ],
            [
             0.8888888888888888,
             "#fdca26"
            ],
            [
             1,
             "#f0f921"
            ]
           ]
          },
          "colorway": [
           "#636efa",
           "#EF553B",
           "#00cc96",
           "#ab63fa",
           "#FFA15A",
           "#19d3f3",
           "#FF6692",
           "#B6E880",
           "#FF97FF",
           "#FECB52"
          ],
          "font": {
           "color": "#2a3f5f"
          },
          "geo": {
           "bgcolor": "white",
           "lakecolor": "white",
           "landcolor": "#E5ECF6",
           "showlakes": true,
           "showland": true,
           "subunitcolor": "white"
          },
          "hoverlabel": {
           "align": "left"
          },
          "hovermode": "closest",
          "mapbox": {
           "style": "light"
          },
          "paper_bgcolor": "white",
          "plot_bgcolor": "#E5ECF6",
          "polar": {
           "angularaxis": {
            "gridcolor": "white",
            "linecolor": "white",
            "ticks": ""
           },
           "bgcolor": "#E5ECF6",
           "radialaxis": {
            "gridcolor": "white",
            "linecolor": "white",
            "ticks": ""
           }
          },
          "scene": {
           "xaxis": {
            "backgroundcolor": "#E5ECF6",
            "gridcolor": "white",
            "gridwidth": 2,
            "linecolor": "white",
            "showbackground": true,
            "ticks": "",
            "zerolinecolor": "white"
           },
           "yaxis": {
            "backgroundcolor": "#E5ECF6",
            "gridcolor": "white",
            "gridwidth": 2,
            "linecolor": "white",
            "showbackground": true,
            "ticks": "",
            "zerolinecolor": "white"
           },
           "zaxis": {
            "backgroundcolor": "#E5ECF6",
            "gridcolor": "white",
            "gridwidth": 2,
            "linecolor": "white",
            "showbackground": true,
            "ticks": "",
            "zerolinecolor": "white"
           }
          },
          "shapedefaults": {
           "line": {
            "color": "#2a3f5f"
           }
          },
          "ternary": {
           "aaxis": {
            "gridcolor": "white",
            "linecolor": "white",
            "ticks": ""
           },
           "baxis": {
            "gridcolor": "white",
            "linecolor": "white",
            "ticks": ""
           },
           "bgcolor": "#E5ECF6",
           "caxis": {
            "gridcolor": "white",
            "linecolor": "white",
            "ticks": ""
           }
          },
          "title": {
           "x": 0.05
          },
          "xaxis": {
           "automargin": true,
           "gridcolor": "white",
           "linecolor": "white",
           "ticks": "",
           "title": {
            "standoff": 15
           },
           "zerolinecolor": "white",
           "zerolinewidth": 2
          },
          "yaxis": {
           "automargin": true,
           "gridcolor": "white",
           "linecolor": "white",
           "ticks": "",
           "title": {
            "standoff": 15
           },
           "zerolinecolor": "white",
           "zerolinewidth": 2
          }
         }
        },
        "title": {
         "text": "Porcentaje por Habitacion y Grupo de Barcelona"
        },
        "xaxis": {
         "title": {
          "text": "Grupos"
         }
        },
        "yaxis": {
         "title": {
          "text": "Porcentaje por Habitacion"
         }
        }
       }
      },
      "text/html": [
       "<div>\n",
       "        \n",
       "        \n",
       "            <div id=\"a5e927bd-90f7-49f5-95fb-a3ba854d3d9a\" class=\"plotly-graph-div\" style=\"height:525px; width:100%;\"></div>\n",
       "            <script type=\"text/javascript\">\n",
       "                require([\"plotly\"], function(Plotly) {\n",
       "                    window.PLOTLYENV=window.PLOTLYENV || {};\n",
       "                    \n",
       "                if (document.getElementById(\"a5e927bd-90f7-49f5-95fb-a3ba854d3d9a\")) {\n",
       "                    Plotly.newPlot(\n",
       "                        'a5e927bd-90f7-49f5-95fb-a3ba854d3d9a',\n",
       "                        [{\"name\": \"Entire home/apt\", \"type\": \"bar\", \"x\": [\"Ciutat Vella\", \"Eixample\", \"Gr\\u00e0cia\", \"Horta-Guinard\\u00f3\", \"Les Corts\", \"Nou Barris\", \"Sant Andreu\", \"Sant Mart\\u00ed\", \"Sants-Montju\\u00efc\", \"Sarri\\u00e0-Sant Gervasi\"], \"y\": [42.4793388429752, 49.51887490747595, 46.453089244851256, 32.20088626292467, 37.75743707093822, 15.853658536585366, 25.135135135135133, 42.19679633867277, 43.20731200664728, 50.47361299052774]}, {\"name\": \"Hotel room\", \"type\": \"bar\", \"x\": [\"Ciutat Vella\", \"Eixample\", \"Gr\\u00e0cia\", \"Horta-Guinard\\u00f3\", \"Les Corts\", \"Nou Barris\", \"Sant Andreu\", \"Sant Mart\\u00ed\", \"Sants-Montju\\u00efc\", \"Sarri\\u00e0-Sant Gervasi\"], \"y\": [2.458677685950413, 5.980754996299038, 4.691075514874142, 0.7385524372230428, 4.576659038901601, 1.2195121951219512, 1.3513513513513513, 2.5629290617848968, 2.451184046530951, 3.1123139377537212]}, {\"name\": \"Private room\", \"type\": \"bar\", \"x\": [\"Ciutat Vella\", \"Eixample\", \"Gr\\u00e0cia\", \"Horta-Guinard\\u00f3\", \"Les Corts\", \"Nou Barris\", \"Sant Andreu\", \"Sant Mart\\u00ed\", \"Sants-Montju\\u00efc\", \"Sarri\\u00e0-Sant Gervasi\"], \"y\": [54.48347107438016, 43.90821613619541, 47.94050343249428, 66.61742983751846, 54.46224256292906, 80.89430894308943, 71.35135135135135, 54.736842105263165, 53.095139177399254, 46.14343707713126]}, {\"name\": \"Shared room\", \"type\": \"bar\", \"x\": [\"Ciutat Vella\", \"Eixample\", \"Gr\\u00e0cia\", \"Horta-Guinard\\u00f3\", \"Les Corts\", \"Nou Barris\", \"Sant Andreu\", \"Sant Mart\\u00ed\", \"Sants-Montju\\u00efc\", \"Sarri\\u00e0-Sant Gervasi\"], \"y\": [0.5785123966942148, 0.5921539600296076, 0.9153318077803204, 0.4431314623338257, 3.203661327231121, 2.0325203252032518, 2.1621621621621623, 0.5034324942791762, 1.2463647694225177, 0.2706359945872801]}],\n",
       "                        {\"barmode\": \"group\", \"font\": {\"family\": \"Times New Roman\", \"size\": 17}, \"template\": {\"data\": {\"bar\": [{\"error_x\": {\"color\": \"#2a3f5f\"}, \"error_y\": {\"color\": \"#2a3f5f\"}, \"marker\": {\"line\": {\"color\": \"#E5ECF6\", \"width\": 0.5}}, \"type\": \"bar\"}], \"barpolar\": [{\"marker\": {\"line\": {\"color\": \"#E5ECF6\", \"width\": 0.5}}, \"type\": \"barpolar\"}], \"carpet\": [{\"aaxis\": {\"endlinecolor\": \"#2a3f5f\", \"gridcolor\": \"white\", \"linecolor\": \"white\", \"minorgridcolor\": \"white\", \"startlinecolor\": \"#2a3f5f\"}, \"baxis\": {\"endlinecolor\": \"#2a3f5f\", \"gridcolor\": \"white\", \"linecolor\": \"white\", \"minorgridcolor\": \"white\", \"startlinecolor\": \"#2a3f5f\"}, \"type\": \"carpet\"}], \"choropleth\": [{\"colorbar\": {\"outlinewidth\": 0, \"ticks\": \"\"}, \"type\": \"choropleth\"}], \"contour\": [{\"colorbar\": {\"outlinewidth\": 0, \"ticks\": \"\"}, \"colorscale\": [[0.0, \"#0d0887\"], [0.1111111111111111, \"#46039f\"], [0.2222222222222222, \"#7201a8\"], [0.3333333333333333, \"#9c179e\"], [0.4444444444444444, \"#bd3786\"], [0.5555555555555556, \"#d8576b\"], [0.6666666666666666, \"#ed7953\"], [0.7777777777777778, \"#fb9f3a\"], [0.8888888888888888, \"#fdca26\"], [1.0, \"#f0f921\"]], \"type\": \"contour\"}], \"contourcarpet\": [{\"colorbar\": {\"outlinewidth\": 0, \"ticks\": \"\"}, \"type\": \"contourcarpet\"}], \"heatmap\": [{\"colorbar\": {\"outlinewidth\": 0, \"ticks\": \"\"}, \"colorscale\": [[0.0, \"#0d0887\"], [0.1111111111111111, \"#46039f\"], [0.2222222222222222, \"#7201a8\"], [0.3333333333333333, \"#9c179e\"], [0.4444444444444444, \"#bd3786\"], [0.5555555555555556, \"#d8576b\"], [0.6666666666666666, \"#ed7953\"], [0.7777777777777778, \"#fb9f3a\"], [0.8888888888888888, \"#fdca26\"], [1.0, \"#f0f921\"]], \"type\": \"heatmap\"}], \"heatmapgl\": [{\"colorbar\": {\"outlinewidth\": 0, \"ticks\": \"\"}, \"colorscale\": [[0.0, \"#0d0887\"], [0.1111111111111111, \"#46039f\"], [0.2222222222222222, \"#7201a8\"], [0.3333333333333333, \"#9c179e\"], [0.4444444444444444, \"#bd3786\"], [0.5555555555555556, \"#d8576b\"], [0.6666666666666666, \"#ed7953\"], [0.7777777777777778, \"#fb9f3a\"], [0.8888888888888888, \"#fdca26\"], [1.0, \"#f0f921\"]], \"type\": \"heatmapgl\"}], \"histogram\": [{\"marker\": {\"colorbar\": {\"outlinewidth\": 0, \"ticks\": \"\"}}, \"type\": \"histogram\"}], \"histogram2d\": [{\"colorbar\": {\"outlinewidth\": 0, \"ticks\": \"\"}, \"colorscale\": [[0.0, \"#0d0887\"], [0.1111111111111111, \"#46039f\"], [0.2222222222222222, \"#7201a8\"], [0.3333333333333333, \"#9c179e\"], [0.4444444444444444, \"#bd3786\"], [0.5555555555555556, \"#d8576b\"], [0.6666666666666666, \"#ed7953\"], [0.7777777777777778, \"#fb9f3a\"], [0.8888888888888888, \"#fdca26\"], [1.0, \"#f0f921\"]], \"type\": \"histogram2d\"}], \"histogram2dcontour\": [{\"colorbar\": {\"outlinewidth\": 0, \"ticks\": \"\"}, \"colorscale\": [[0.0, \"#0d0887\"], [0.1111111111111111, \"#46039f\"], [0.2222222222222222, \"#7201a8\"], [0.3333333333333333, \"#9c179e\"], [0.4444444444444444, \"#bd3786\"], [0.5555555555555556, \"#d8576b\"], [0.6666666666666666, \"#ed7953\"], [0.7777777777777778, \"#fb9f3a\"], [0.8888888888888888, \"#fdca26\"], [1.0, \"#f0f921\"]], \"type\": \"histogram2dcontour\"}], \"mesh3d\": [{\"colorbar\": {\"outlinewidth\": 0, \"ticks\": \"\"}, \"type\": \"mesh3d\"}], \"parcoords\": [{\"line\": {\"colorbar\": {\"outlinewidth\": 0, \"ticks\": \"\"}}, \"type\": \"parcoords\"}], \"pie\": [{\"automargin\": true, \"type\": \"pie\"}], \"scatter\": [{\"marker\": {\"colorbar\": {\"outlinewidth\": 0, \"ticks\": \"\"}}, \"type\": \"scatter\"}], \"scatter3d\": [{\"line\": {\"colorbar\": {\"outlinewidth\": 0, \"ticks\": \"\"}}, \"marker\": {\"colorbar\": {\"outlinewidth\": 0, \"ticks\": \"\"}}, \"type\": \"scatter3d\"}], \"scattercarpet\": [{\"marker\": {\"colorbar\": {\"outlinewidth\": 0, \"ticks\": \"\"}}, \"type\": \"scattercarpet\"}], \"scattergeo\": [{\"marker\": {\"colorbar\": {\"outlinewidth\": 0, \"ticks\": \"\"}}, \"type\": \"scattergeo\"}], \"scattergl\": [{\"marker\": {\"colorbar\": {\"outlinewidth\": 0, \"ticks\": \"\"}}, \"type\": \"scattergl\"}], \"scattermapbox\": [{\"marker\": {\"colorbar\": {\"outlinewidth\": 0, \"ticks\": \"\"}}, \"type\": \"scattermapbox\"}], \"scatterpolar\": [{\"marker\": {\"colorbar\": {\"outlinewidth\": 0, \"ticks\": \"\"}}, \"type\": \"scatterpolar\"}], \"scatterpolargl\": [{\"marker\": {\"colorbar\": {\"outlinewidth\": 0, \"ticks\": \"\"}}, \"type\": \"scatterpolargl\"}], \"scatterternary\": [{\"marker\": {\"colorbar\": {\"outlinewidth\": 0, \"ticks\": \"\"}}, \"type\": \"scatterternary\"}], \"surface\": [{\"colorbar\": {\"outlinewidth\": 0, \"ticks\": \"\"}, \"colorscale\": [[0.0, \"#0d0887\"], [0.1111111111111111, \"#46039f\"], [0.2222222222222222, \"#7201a8\"], [0.3333333333333333, \"#9c179e\"], [0.4444444444444444, \"#bd3786\"], [0.5555555555555556, \"#d8576b\"], [0.6666666666666666, \"#ed7953\"], [0.7777777777777778, \"#fb9f3a\"], [0.8888888888888888, \"#fdca26\"], [1.0, \"#f0f921\"]], \"type\": \"surface\"}], \"table\": [{\"cells\": {\"fill\": {\"color\": \"#EBF0F8\"}, \"line\": {\"color\": \"white\"}}, \"header\": {\"fill\": {\"color\": \"#C8D4E3\"}, \"line\": {\"color\": \"white\"}}, \"type\": \"table\"}]}, \"layout\": {\"annotationdefaults\": {\"arrowcolor\": \"#2a3f5f\", \"arrowhead\": 0, \"arrowwidth\": 1}, \"coloraxis\": {\"colorbar\": {\"outlinewidth\": 0, \"ticks\": \"\"}}, \"colorscale\": {\"diverging\": [[0, \"#8e0152\"], [0.1, \"#c51b7d\"], [0.2, \"#de77ae\"], [0.3, \"#f1b6da\"], [0.4, \"#fde0ef\"], [0.5, \"#f7f7f7\"], [0.6, \"#e6f5d0\"], [0.7, \"#b8e186\"], [0.8, \"#7fbc41\"], [0.9, \"#4d9221\"], [1, \"#276419\"]], \"sequential\": [[0.0, \"#0d0887\"], [0.1111111111111111, \"#46039f\"], [0.2222222222222222, \"#7201a8\"], [0.3333333333333333, \"#9c179e\"], [0.4444444444444444, \"#bd3786\"], [0.5555555555555556, \"#d8576b\"], [0.6666666666666666, \"#ed7953\"], [0.7777777777777778, \"#fb9f3a\"], [0.8888888888888888, \"#fdca26\"], [1.0, \"#f0f921\"]], \"sequentialminus\": [[0.0, \"#0d0887\"], [0.1111111111111111, \"#46039f\"], [0.2222222222222222, \"#7201a8\"], [0.3333333333333333, \"#9c179e\"], [0.4444444444444444, \"#bd3786\"], [0.5555555555555556, \"#d8576b\"], [0.6666666666666666, \"#ed7953\"], [0.7777777777777778, \"#fb9f3a\"], [0.8888888888888888, \"#fdca26\"], [1.0, \"#f0f921\"]]}, \"colorway\": [\"#636efa\", \"#EF553B\", \"#00cc96\", \"#ab63fa\", \"#FFA15A\", \"#19d3f3\", \"#FF6692\", \"#B6E880\", \"#FF97FF\", \"#FECB52\"], \"font\": {\"color\": \"#2a3f5f\"}, \"geo\": {\"bgcolor\": \"white\", \"lakecolor\": \"white\", \"landcolor\": \"#E5ECF6\", \"showlakes\": true, \"showland\": true, \"subunitcolor\": \"white\"}, \"hoverlabel\": {\"align\": \"left\"}, \"hovermode\": \"closest\", \"mapbox\": {\"style\": \"light\"}, \"paper_bgcolor\": \"white\", \"plot_bgcolor\": \"#E5ECF6\", \"polar\": {\"angularaxis\": {\"gridcolor\": \"white\", \"linecolor\": \"white\", \"ticks\": \"\"}, \"bgcolor\": \"#E5ECF6\", \"radialaxis\": {\"gridcolor\": \"white\", \"linecolor\": \"white\", \"ticks\": \"\"}}, \"scene\": {\"xaxis\": {\"backgroundcolor\": \"#E5ECF6\", \"gridcolor\": \"white\", \"gridwidth\": 2, \"linecolor\": \"white\", \"showbackground\": true, \"ticks\": \"\", \"zerolinecolor\": \"white\"}, \"yaxis\": {\"backgroundcolor\": \"#E5ECF6\", \"gridcolor\": \"white\", \"gridwidth\": 2, \"linecolor\": \"white\", \"showbackground\": true, \"ticks\": \"\", \"zerolinecolor\": \"white\"}, \"zaxis\": {\"backgroundcolor\": \"#E5ECF6\", \"gridcolor\": \"white\", \"gridwidth\": 2, \"linecolor\": \"white\", \"showbackground\": true, \"ticks\": \"\", \"zerolinecolor\": \"white\"}}, \"shapedefaults\": {\"line\": {\"color\": \"#2a3f5f\"}}, \"ternary\": {\"aaxis\": {\"gridcolor\": \"white\", \"linecolor\": \"white\", \"ticks\": \"\"}, \"baxis\": {\"gridcolor\": \"white\", \"linecolor\": \"white\", \"ticks\": \"\"}, \"bgcolor\": \"#E5ECF6\", \"caxis\": {\"gridcolor\": \"white\", \"linecolor\": \"white\", \"ticks\": \"\"}}, \"title\": {\"x\": 0.05}, \"xaxis\": {\"automargin\": true, \"gridcolor\": \"white\", \"linecolor\": \"white\", \"ticks\": \"\", \"title\": {\"standoff\": 15}, \"zerolinecolor\": \"white\", \"zerolinewidth\": 2}, \"yaxis\": {\"automargin\": true, \"gridcolor\": \"white\", \"linecolor\": \"white\", \"ticks\": \"\", \"title\": {\"standoff\": 15}, \"zerolinecolor\": \"white\", \"zerolinewidth\": 2}}}, \"title\": {\"text\": \"Porcentaje por Habitacion y Grupo de Barcelona\"}, \"xaxis\": {\"title\": {\"text\": \"Grupos\"}}, \"yaxis\": {\"title\": {\"text\": \"Porcentaje por Habitacion\"}}},\n",
       "                        {\"responsive\": true}\n",
       "                    ).then(function(){\n",
       "                            \n",
       "var gd = document.getElementById('a5e927bd-90f7-49f5-95fb-a3ba854d3d9a');\n",
       "var x = new MutationObserver(function (mutations, observer) {{\n",
       "        var display = window.getComputedStyle(gd).display;\n",
       "        if (!display || display === 'none') {{\n",
       "            console.log([gd, 'removed!']);\n",
       "            Plotly.purge(gd);\n",
       "            observer.disconnect();\n",
       "        }}\n",
       "}});\n",
       "\n",
       "// Listen for the removal of the full notebook cells\n",
       "var notebookContainer = gd.closest('#notebook-container');\n",
       "if (notebookContainer) {{\n",
       "    x.observe(notebookContainer, {childList: true});\n",
       "}}\n",
       "\n",
       "// Listen for the clearing of the current output cell\n",
       "var outputEl = gd.closest('.output');\n",
       "if (outputEl) {{\n",
       "    x.observe(outputEl, {childList: true});\n",
       "}}\n",
       "\n",
       "                        })\n",
       "                };\n",
       "                });\n",
       "            </script>\n",
       "        </div>"
      ]
     },
     "metadata": {},
     "output_type": "display_data"
    }
   ],
   "source": [
    "bar = go.Figure(data=[ \n",
    "    go.Bar(name=\"Entire home/apt\", x=barcelona_5.grupo, y=barcelona_5[\"Entire home/apt\"]), \n",
    "    go.Bar(name=\"Hotel room\", x=barcelona_5.grupo, y=barcelona_5[\"Hotel room\"]), \n",
    "    go.Bar(name=\"Private room\", x=barcelona_5.grupo, y=barcelona_5[\"Private room\"]), \n",
    "    go.Bar(name=\"Shared room\", x=barcelona_5.grupo, y=barcelona_5[\"Shared room\"])\n",
    "]) \n",
    "bar \n",
    "bar.update_layout( \n",
    "    barmode='group', \n",
    "    title=\"Porcentaje por Habitacion y Grupo de Barcelona\", \n",
    "    xaxis_title=\"Grupos\", \n",
    "    yaxis_title=\"Porcentaje por Habitacion\", \n",
    "    font=dict( family=\"Times New Roman\", size=17 )\n",
    ") \n",
    "bar.show()"
   ]
  },
  {
   "cell_type": "markdown",
   "metadata": {},
   "source": [
    "**Conclusion**:\n",
    "En este grafico representamos la distribución de los tipos de hospedaje de Airbnb en la cuidad de **Barcelona**. Vemos que destaca la diferencia que hay en el grupo **Nou Barris**, donde las **habitaciones privadas** conforman un **80.89%** del grupo, mientras que el **departamento entero**, un **15.85%**.  También se puede ver las bajas cantidades de **habitaciones de hotel** y más escasos aun, **la habitación compartida**."
   ]
  }
 ],
 "metadata": {
  "kernelspec": {
   "display_name": "Python 3",
   "language": "python",
   "name": "python3"
  },
  "language_info": {
   "codemirror_mode": {
    "name": "ipython",
    "version": 3
   },
   "file_extension": ".py",
   "mimetype": "text/x-python",
   "name": "python",
   "nbconvert_exporter": "python",
   "pygments_lexer": "ipython3",
   "version": "3.7.4"
  }
 },
 "nbformat": 4,
 "nbformat_minor": 2
}
